{
  "nbformat": 4,
  "nbformat_minor": 0,
  "metadata": {
    "kernelspec": {
      "display_name": "Python 3",
      "language": "python",
      "name": "python3"
    },
    "language_info": {
      "codemirror_mode": {
        "name": "ipython",
        "version": 3
      },
      "file_extension": ".py",
      "mimetype": "text/x-python",
      "name": "python",
      "nbconvert_exporter": "python",
      "pygments_lexer": "ipython3",
      "version": "3.6.6"
    },
    "colab": {
      "name": "Kartikey Sharma - Product Recommendation Engine - Capstone Project 4.ipynb",
      "provenance": [],
      "collapsed_sections": [],
      "include_colab_link": true
    }
  },
  "cells": [
    {
      "cell_type": "markdown",
      "metadata": {
        "id": "view-in-github",
        "colab_type": "text"
      },
      "source": [
        "<a href=\"https://colab.research.google.com/github/kronze1996/Product-Recommendation-Engine/blob/main/Kartikey_Sharma_Product_Recommendation_Engine_Capstone_Project_4.ipynb\" target=\"_parent\"><img src=\"https://colab.research.google.com/assets/colab-badge.svg\" alt=\"Open In Colab\"/></a>"
      ]
    },
    {
      "cell_type": "markdown",
      "metadata": {
        "id": "tOGC-qoyhJeX"
      },
      "source": [
        "# <b><u> Project Title : Build a recommender engine that reviews customer ratings and purchase history to recommend items and improve sales. </u></b>"
      ]
    },
    {
      "cell_type": "markdown",
      "metadata": {
        "id": "Y06xIdG26kRF"
      },
      "source": [
        "### Amazon.com is one of the largest electronic commerce and cloud computing companies.\n",
        "\n",
        "### Just a few Amazon related facts:\n",
        "\n",
        "### They lost $4.8 million in August 2013, when their website went down for 40 mins. They hold the patent on 1-Click buying, and licenses it to Apple. Their Phoenix fulfilment centre is a massive 1.2 million square feet. Amazon relies heavily on a Recommendation engine that reviews customer ratings and purchase history to recommend items and improve sales.\n",
        "\n",
        "\n",
        "### This is a dataset related to over 2 Million customer reviews and ratings of Beauty related products sold on their website.\n",
        "\n",
        "### It contains\n",
        "\n",
        "* ### the unique UserId (Customer Identification),\n",
        "* ### the product ASIN (Amazon's unique product identification code for each product),\n",
        "* ### Ratings (ranging from 1-5 based on customer satisfaction) and\n",
        "* ### the Timestamp of the rating (in UNIX time)\n",
        "\n",
        "### This dataset contains product reviews and metadata from Amazon, including 142.8 million reviews spanning May 1996 - July 2014.\n",
        "\n",
        "### This dataset includes reviews (ratings, text, helpfulness votes), product metadata (descriptions, category information, price, brand, and image features), and links (also viewed/also bought graphs).\n"
      ]
    },
    {
      "cell_type": "code",
      "metadata": {
        "colab": {
          "base_uri": "https://localhost:8080/"
        },
        "id": "NDAc-nTytSUt",
        "outputId": "f7bf14c3-4536-4e27-df93-7cde085e0d78"
      },
      "source": [
        "from google.colab import drive\r\n",
        "drive.mount('/content/drive')"
      ],
      "execution_count": 1,
      "outputs": [
        {
          "output_type": "stream",
          "text": [
            "Mounted at /content/drive\n"
          ],
          "name": "stdout"
        }
      ]
    },
    {
      "cell_type": "code",
      "metadata": {
        "colab": {
          "base_uri": "https://localhost:8080/"
        },
        "id": "4yHq8PVnrazT",
        "outputId": "c9b0a341-a866-4f41-a951-aeeaf99a5c6b"
      },
      "source": [
        "%matplotlib inline\r\n",
        "import numpy as np\r\n",
        "import pandas as pd\r\n",
        "import matplotlib.pyplot as plt\r\n",
        "import seaborn as sns\r\n",
        "from pandas import DataFrame \r\n",
        "\r\n",
        "from sklearn.neighbors import NearestNeighbors\r\n",
        "from sklearn.linear_model import LogisticRegression\r\n",
        "from sklearn import neighbors\r\n",
        "from scipy.spatial.distance import cosine\r\n",
        "from sklearn.metrics import classification_report\r\n",
        "from sklearn.metrics import accuracy_score\r\n",
        "from sklearn.feature_selection import SelectKBest\r\n",
        "from sklearn.feature_extraction.text import CountVectorizer, TfidfTransformer\r\n",
        "\r\n",
        "import re\r\n",
        "import string\r\n",
        "from wordcloud import WordCloud, STOPWORDS\r\n",
        "from sklearn.metrics import mean_squared_error\r\n",
        "\r\n",
        "import nltk\r\n",
        "nltk.download('stopwords')"
      ],
      "execution_count": 106,
      "outputs": [
        {
          "output_type": "stream",
          "text": [
            "[nltk_data] Downloading package stopwords to /root/nltk_data...\n",
            "[nltk_data]   Package stopwords is already up-to-date!\n"
          ],
          "name": "stdout"
        },
        {
          "output_type": "execute_result",
          "data": {
            "text/plain": [
              "True"
            ]
          },
          "metadata": {
            "tags": []
          },
          "execution_count": 106
        }
      ]
    },
    {
      "cell_type": "code",
      "metadata": {
        "id": "e0J2DNQOo5TA"
      },
      "source": [
        "path = \"/content/drive/MyDrive/AlmaBetter/Cohort Aravali/Module 4/Week 4/ratings_Beauty.csv\"\r\n",
        "df = pd.read_csv(path)\r\n",
        "review_df = pd.read_json('/content/drive/MyDrive/AlmaBetter/Cohort Aravali/Module 4/Week 4/reviews_Beauty_5 (1).json.gz',lines = True)"
      ],
      "execution_count": 3,
      "outputs": []
    },
    {
      "cell_type": "markdown",
      "metadata": {
        "id": "8vzluSLfZb11"
      },
      "source": [
        "#Exploratory Data Analysis"
      ]
    },
    {
      "cell_type": "code",
      "metadata": {
        "colab": {
          "base_uri": "https://localhost:8080/"
        },
        "id": "UoSIysf9Fwiz",
        "outputId": "f915e773-b6f3-43b8-8f33-32fd2ef506dd"
      },
      "source": [
        "df.drop_duplicates(inplace=True)\r\n",
        "df.shape"
      ],
      "execution_count": 7,
      "outputs": [
        {
          "output_type": "execute_result",
          "data": {
            "text/plain": [
              "(2023070, 4)"
            ]
          },
          "metadata": {
            "tags": []
          },
          "execution_count": 7
        }
      ]
    },
    {
      "cell_type": "code",
      "metadata": {
        "colab": {
          "base_uri": "https://localhost:8080/"
        },
        "id": "Vc-A1VfVxRoP",
        "outputId": "ae5e55b0-05a2-4cce-ea62-30747d78526d"
      },
      "source": [
        "df.info()"
      ],
      "execution_count": 10,
      "outputs": [
        {
          "output_type": "stream",
          "text": [
            "<class 'pandas.core.frame.DataFrame'>\n",
            "Int64Index: 2023070 entries, 0 to 2023069\n",
            "Data columns (total 4 columns):\n",
            " #   Column     Dtype  \n",
            "---  ------     -----  \n",
            " 0   UserId     object \n",
            " 1   ProductId  object \n",
            " 2   Rating     float64\n",
            " 3   Timestamp  int64  \n",
            "dtypes: float64(1), int64(1), object(2)\n",
            "memory usage: 77.2+ MB\n"
          ],
          "name": "stdout"
        }
      ]
    },
    {
      "cell_type": "code",
      "metadata": {
        "colab": {
          "base_uri": "https://localhost:8080/"
        },
        "id": "KcDKIZSkSjZY",
        "outputId": "8c1282b3-929f-4111-ecda-ac556da28bd3"
      },
      "source": [
        "review_df.info()"
      ],
      "execution_count": 11,
      "outputs": [
        {
          "output_type": "stream",
          "text": [
            "<class 'pandas.core.frame.DataFrame'>\n",
            "RangeIndex: 198502 entries, 0 to 198501\n",
            "Data columns (total 9 columns):\n",
            " #   Column          Non-Null Count   Dtype \n",
            "---  ------          --------------   ----- \n",
            " 0   reviewerID      198502 non-null  object\n",
            " 1   asin            198502 non-null  object\n",
            " 2   reviewerName    197116 non-null  object\n",
            " 3   helpful         198502 non-null  object\n",
            " 4   reviewText      198502 non-null  object\n",
            " 5   overall         198502 non-null  int64 \n",
            " 6   summary         198502 non-null  object\n",
            " 7   unixReviewTime  198502 non-null  int64 \n",
            " 8   reviewTime      198502 non-null  object\n",
            "dtypes: int64(2), object(7)\n",
            "memory usage: 13.6+ MB\n"
          ],
          "name": "stdout"
        }
      ]
    },
    {
      "cell_type": "code",
      "metadata": {
        "colab": {
          "base_uri": "https://localhost:8080/",
          "height": 622
        },
        "id": "pFtpBDoCta5z",
        "outputId": "d68dda80-24d2-4656-cc1e-9ad62d8dd5b6"
      },
      "source": [
        "df.head(20)"
      ],
      "execution_count": 12,
      "outputs": [
        {
          "output_type": "execute_result",
          "data": {
            "text/html": [
              "<div>\n",
              "<style scoped>\n",
              "    .dataframe tbody tr th:only-of-type {\n",
              "        vertical-align: middle;\n",
              "    }\n",
              "\n",
              "    .dataframe tbody tr th {\n",
              "        vertical-align: top;\n",
              "    }\n",
              "\n",
              "    .dataframe thead th {\n",
              "        text-align: right;\n",
              "    }\n",
              "</style>\n",
              "<table border=\"1\" class=\"dataframe\">\n",
              "  <thead>\n",
              "    <tr style=\"text-align: right;\">\n",
              "      <th></th>\n",
              "      <th>UserId</th>\n",
              "      <th>ProductId</th>\n",
              "      <th>Rating</th>\n",
              "      <th>Timestamp</th>\n",
              "    </tr>\n",
              "  </thead>\n",
              "  <tbody>\n",
              "    <tr>\n",
              "      <th>0</th>\n",
              "      <td>A39HTATAQ9V7YF</td>\n",
              "      <td>0205616461</td>\n",
              "      <td>5.0</td>\n",
              "      <td>1369699200</td>\n",
              "    </tr>\n",
              "    <tr>\n",
              "      <th>1</th>\n",
              "      <td>A3JM6GV9MNOF9X</td>\n",
              "      <td>0558925278</td>\n",
              "      <td>3.0</td>\n",
              "      <td>1355443200</td>\n",
              "    </tr>\n",
              "    <tr>\n",
              "      <th>2</th>\n",
              "      <td>A1Z513UWSAAO0F</td>\n",
              "      <td>0558925278</td>\n",
              "      <td>5.0</td>\n",
              "      <td>1404691200</td>\n",
              "    </tr>\n",
              "    <tr>\n",
              "      <th>3</th>\n",
              "      <td>A1WMRR494NWEWV</td>\n",
              "      <td>0733001998</td>\n",
              "      <td>4.0</td>\n",
              "      <td>1382572800</td>\n",
              "    </tr>\n",
              "    <tr>\n",
              "      <th>4</th>\n",
              "      <td>A3IAAVS479H7M7</td>\n",
              "      <td>0737104473</td>\n",
              "      <td>1.0</td>\n",
              "      <td>1274227200</td>\n",
              "    </tr>\n",
              "    <tr>\n",
              "      <th>5</th>\n",
              "      <td>AKJHHD5VEH7VG</td>\n",
              "      <td>0762451459</td>\n",
              "      <td>5.0</td>\n",
              "      <td>1404518400</td>\n",
              "    </tr>\n",
              "    <tr>\n",
              "      <th>6</th>\n",
              "      <td>A1BG8QW55XHN6U</td>\n",
              "      <td>1304139212</td>\n",
              "      <td>5.0</td>\n",
              "      <td>1371945600</td>\n",
              "    </tr>\n",
              "    <tr>\n",
              "      <th>7</th>\n",
              "      <td>A22VW0P4VZHDE3</td>\n",
              "      <td>1304139220</td>\n",
              "      <td>5.0</td>\n",
              "      <td>1373068800</td>\n",
              "    </tr>\n",
              "    <tr>\n",
              "      <th>8</th>\n",
              "      <td>A3V3RE4132GKRO</td>\n",
              "      <td>130414089X</td>\n",
              "      <td>5.0</td>\n",
              "      <td>1401840000</td>\n",
              "    </tr>\n",
              "    <tr>\n",
              "      <th>9</th>\n",
              "      <td>A327B0I7CYTEJC</td>\n",
              "      <td>130414643X</td>\n",
              "      <td>4.0</td>\n",
              "      <td>1389052800</td>\n",
              "    </tr>\n",
              "    <tr>\n",
              "      <th>10</th>\n",
              "      <td>A1BG8QW55XHN6U</td>\n",
              "      <td>130414643X</td>\n",
              "      <td>5.0</td>\n",
              "      <td>1372032000</td>\n",
              "    </tr>\n",
              "    <tr>\n",
              "      <th>11</th>\n",
              "      <td>AIFAAVTUYHEHB</td>\n",
              "      <td>130414643X</td>\n",
              "      <td>4.0</td>\n",
              "      <td>1378252800</td>\n",
              "    </tr>\n",
              "    <tr>\n",
              "      <th>12</th>\n",
              "      <td>AVOGV98AYOFG2</td>\n",
              "      <td>1304146537</td>\n",
              "      <td>5.0</td>\n",
              "      <td>1372118400</td>\n",
              "    </tr>\n",
              "    <tr>\n",
              "      <th>13</th>\n",
              "      <td>A22VW0P4VZHDE3</td>\n",
              "      <td>130414674X</td>\n",
              "      <td>5.0</td>\n",
              "      <td>1371686400</td>\n",
              "    </tr>\n",
              "    <tr>\n",
              "      <th>14</th>\n",
              "      <td>AVOGV98AYOFG2</td>\n",
              "      <td>1304168522</td>\n",
              "      <td>5.0</td>\n",
              "      <td>1372118400</td>\n",
              "    </tr>\n",
              "    <tr>\n",
              "      <th>15</th>\n",
              "      <td>A6R426V4J7AOM</td>\n",
              "      <td>1304168522</td>\n",
              "      <td>5.0</td>\n",
              "      <td>1373414400</td>\n",
              "    </tr>\n",
              "    <tr>\n",
              "      <th>16</th>\n",
              "      <td>A22VW0P4VZHDE3</td>\n",
              "      <td>1304174778</td>\n",
              "      <td>5.0</td>\n",
              "      <td>1372896000</td>\n",
              "    </tr>\n",
              "    <tr>\n",
              "      <th>17</th>\n",
              "      <td>AKGB62WGF35J8</td>\n",
              "      <td>1304174778</td>\n",
              "      <td>5.0</td>\n",
              "      <td>1372896000</td>\n",
              "    </tr>\n",
              "    <tr>\n",
              "      <th>18</th>\n",
              "      <td>A22VW0P4VZHDE3</td>\n",
              "      <td>1304174867</td>\n",
              "      <td>5.0</td>\n",
              "      <td>1373068800</td>\n",
              "    </tr>\n",
              "    <tr>\n",
              "      <th>19</th>\n",
              "      <td>A1BG8QW55XHN6U</td>\n",
              "      <td>1304174867</td>\n",
              "      <td>5.0</td>\n",
              "      <td>1372291200</td>\n",
              "    </tr>\n",
              "  </tbody>\n",
              "</table>\n",
              "</div>"
            ],
            "text/plain": [
              "            UserId   ProductId  Rating   Timestamp\n",
              "0   A39HTATAQ9V7YF  0205616461     5.0  1369699200\n",
              "1   A3JM6GV9MNOF9X  0558925278     3.0  1355443200\n",
              "2   A1Z513UWSAAO0F  0558925278     5.0  1404691200\n",
              "3   A1WMRR494NWEWV  0733001998     4.0  1382572800\n",
              "4   A3IAAVS479H7M7  0737104473     1.0  1274227200\n",
              "5    AKJHHD5VEH7VG  0762451459     5.0  1404518400\n",
              "6   A1BG8QW55XHN6U  1304139212     5.0  1371945600\n",
              "7   A22VW0P4VZHDE3  1304139220     5.0  1373068800\n",
              "8   A3V3RE4132GKRO  130414089X     5.0  1401840000\n",
              "9   A327B0I7CYTEJC  130414643X     4.0  1389052800\n",
              "10  A1BG8QW55XHN6U  130414643X     5.0  1372032000\n",
              "11   AIFAAVTUYHEHB  130414643X     4.0  1378252800\n",
              "12   AVOGV98AYOFG2  1304146537     5.0  1372118400\n",
              "13  A22VW0P4VZHDE3  130414674X     5.0  1371686400\n",
              "14   AVOGV98AYOFG2  1304168522     5.0  1372118400\n",
              "15   A6R426V4J7AOM  1304168522     5.0  1373414400\n",
              "16  A22VW0P4VZHDE3  1304174778     5.0  1372896000\n",
              "17   AKGB62WGF35J8  1304174778     5.0  1372896000\n",
              "18  A22VW0P4VZHDE3  1304174867     5.0  1373068800\n",
              "19  A1BG8QW55XHN6U  1304174867     5.0  1372291200"
            ]
          },
          "metadata": {
            "tags": []
          },
          "execution_count": 12
        }
      ]
    },
    {
      "cell_type": "code",
      "metadata": {
        "colab": {
          "base_uri": "https://localhost:8080/"
        },
        "id": "4rB0Kto1Ui3s",
        "outputId": "a27cbff0-24a9-447c-a9d6-4b2ba8ed5626"
      },
      "source": [
        "df['ProductId'].value_counts()"
      ],
      "execution_count": 13,
      "outputs": [
        {
          "output_type": "execute_result",
          "data": {
            "text/plain": [
              "B001MA0QY2    7533\n",
              "B0009V1YR8    2869\n",
              "B0043OYFKU    2477\n",
              "B0000YUXI0    2143\n",
              "B003V265QW    2088\n",
              "              ... \n",
              "B001T0HH92       1\n",
              "B002LE125A       1\n",
              "B0033U11H0       1\n",
              "B00DDU7EFI       1\n",
              "B000J47AH8       1\n",
              "Name: ProductId, Length: 249274, dtype: int64"
            ]
          },
          "metadata": {
            "tags": []
          },
          "execution_count": 13
        }
      ]
    },
    {
      "cell_type": "code",
      "metadata": {
        "colab": {
          "base_uri": "https://localhost:8080/",
          "height": 622
        },
        "id": "HIhtp67uP82W",
        "outputId": "8f5132ce-c38d-4640-a420-23954402edc8"
      },
      "source": [
        "review_df.head(20)"
      ],
      "execution_count": 14,
      "outputs": [
        {
          "output_type": "execute_result",
          "data": {
            "text/html": [
              "<div>\n",
              "<style scoped>\n",
              "    .dataframe tbody tr th:only-of-type {\n",
              "        vertical-align: middle;\n",
              "    }\n",
              "\n",
              "    .dataframe tbody tr th {\n",
              "        vertical-align: top;\n",
              "    }\n",
              "\n",
              "    .dataframe thead th {\n",
              "        text-align: right;\n",
              "    }\n",
              "</style>\n",
              "<table border=\"1\" class=\"dataframe\">\n",
              "  <thead>\n",
              "    <tr style=\"text-align: right;\">\n",
              "      <th></th>\n",
              "      <th>reviewerID</th>\n",
              "      <th>asin</th>\n",
              "      <th>reviewerName</th>\n",
              "      <th>helpful</th>\n",
              "      <th>reviewText</th>\n",
              "      <th>overall</th>\n",
              "      <th>summary</th>\n",
              "      <th>unixReviewTime</th>\n",
              "      <th>reviewTime</th>\n",
              "    </tr>\n",
              "  </thead>\n",
              "  <tbody>\n",
              "    <tr>\n",
              "      <th>0</th>\n",
              "      <td>A1YJEY40YUW4SE</td>\n",
              "      <td>7806397051</td>\n",
              "      <td>Andrea</td>\n",
              "      <td>[3, 4]</td>\n",
              "      <td>Very oily and creamy. Not at all what I expect...</td>\n",
              "      <td>1</td>\n",
              "      <td>Don't waste your money</td>\n",
              "      <td>1391040000</td>\n",
              "      <td>01 30, 2014</td>\n",
              "    </tr>\n",
              "    <tr>\n",
              "      <th>1</th>\n",
              "      <td>A60XNB876KYML</td>\n",
              "      <td>7806397051</td>\n",
              "      <td>Jessica H.</td>\n",
              "      <td>[1, 1]</td>\n",
              "      <td>This palette was a decent price and I was look...</td>\n",
              "      <td>3</td>\n",
              "      <td>OK Palette!</td>\n",
              "      <td>1397779200</td>\n",
              "      <td>04 18, 2014</td>\n",
              "    </tr>\n",
              "    <tr>\n",
              "      <th>2</th>\n",
              "      <td>A3G6XNM240RMWA</td>\n",
              "      <td>7806397051</td>\n",
              "      <td>Karen</td>\n",
              "      <td>[0, 1]</td>\n",
              "      <td>The texture of this concealer pallet is fantas...</td>\n",
              "      <td>4</td>\n",
              "      <td>great quality</td>\n",
              "      <td>1378425600</td>\n",
              "      <td>09 6, 2013</td>\n",
              "    </tr>\n",
              "    <tr>\n",
              "      <th>3</th>\n",
              "      <td>A1PQFP6SAJ6D80</td>\n",
              "      <td>7806397051</td>\n",
              "      <td>Norah</td>\n",
              "      <td>[2, 2]</td>\n",
              "      <td>I really can't tell what exactly this thing is...</td>\n",
              "      <td>2</td>\n",
              "      <td>Do not work on my face</td>\n",
              "      <td>1386460800</td>\n",
              "      <td>12 8, 2013</td>\n",
              "    </tr>\n",
              "    <tr>\n",
              "      <th>4</th>\n",
              "      <td>A38FVHZTNQ271F</td>\n",
              "      <td>7806397051</td>\n",
              "      <td>Nova Amor</td>\n",
              "      <td>[0, 0]</td>\n",
              "      <td>It was a little smaller than I expected, but t...</td>\n",
              "      <td>3</td>\n",
              "      <td>It's okay.</td>\n",
              "      <td>1382140800</td>\n",
              "      <td>10 19, 2013</td>\n",
              "    </tr>\n",
              "    <tr>\n",
              "      <th>5</th>\n",
              "      <td>A3BTN14HIZET6Z</td>\n",
              "      <td>7806397051</td>\n",
              "      <td>S. M. Randall \"WildHorseWoman\"</td>\n",
              "      <td>[1, 2]</td>\n",
              "      <td>I was very happy to get this palette, now I wi...</td>\n",
              "      <td>5</td>\n",
              "      <td>Very nice palette!</td>\n",
              "      <td>1365984000</td>\n",
              "      <td>04 15, 2013</td>\n",
              "    </tr>\n",
              "    <tr>\n",
              "      <th>6</th>\n",
              "      <td>A1Z59RFKN0M5QL</td>\n",
              "      <td>7806397051</td>\n",
              "      <td>tasha \"luvely12b\"</td>\n",
              "      <td>[1, 3]</td>\n",
              "      <td>PLEASE DONT DO IT! this just rachett the palet...</td>\n",
              "      <td>1</td>\n",
              "      <td>smh!!!</td>\n",
              "      <td>1376611200</td>\n",
              "      <td>08 16, 2013</td>\n",
              "    </tr>\n",
              "    <tr>\n",
              "      <th>7</th>\n",
              "      <td>AWUO9P6PL1SY8</td>\n",
              "      <td>7806397051</td>\n",
              "      <td>TreMagnifique</td>\n",
              "      <td>[0, 1]</td>\n",
              "      <td>Chalky,Not Pigmented,Wears off easily,Not a Co...</td>\n",
              "      <td>2</td>\n",
              "      <td>Chalky, Not Pigmented, Wears off easily, Not a...</td>\n",
              "      <td>1378252800</td>\n",
              "      <td>09 4, 2013</td>\n",
              "    </tr>\n",
              "    <tr>\n",
              "      <th>8</th>\n",
              "      <td>A3LMILRM9OC3SA</td>\n",
              "      <td>9759091062</td>\n",
              "      <td>NaN</td>\n",
              "      <td>[0, 0]</td>\n",
              "      <td>Did nothing for me. Stings when I put it on. I...</td>\n",
              "      <td>2</td>\n",
              "      <td>no Lightening, no Brightening,......NOTHING</td>\n",
              "      <td>1405209600</td>\n",
              "      <td>07 13, 2014</td>\n",
              "    </tr>\n",
              "    <tr>\n",
              "      <th>9</th>\n",
              "      <td>A30IP88QK3YUIO</td>\n",
              "      <td>9759091062</td>\n",
              "      <td>Amina Bint Ibraheem</td>\n",
              "      <td>[0, 0]</td>\n",
              "      <td>I bought this product to get rid of the dark s...</td>\n",
              "      <td>3</td>\n",
              "      <td>Its alright</td>\n",
              "      <td>1388102400</td>\n",
              "      <td>12 27, 2013</td>\n",
              "    </tr>\n",
              "    <tr>\n",
              "      <th>10</th>\n",
              "      <td>APBQH4BS48CQO</td>\n",
              "      <td>9759091062</td>\n",
              "      <td>Charmmy</td>\n",
              "      <td>[0, 0]</td>\n",
              "      <td>I have mixed feelings about this product. When...</td>\n",
              "      <td>3</td>\n",
              "      <td>Mixed feelings.</td>\n",
              "      <td>1400544000</td>\n",
              "      <td>05 20, 2014</td>\n",
              "    </tr>\n",
              "    <tr>\n",
              "      <th>11</th>\n",
              "      <td>A3FE8W8UV95U6B</td>\n",
              "      <td>9759091062</td>\n",
              "      <td>Culture C Simmons</td>\n",
              "      <td>[0, 0]</td>\n",
              "      <td>Did nothing for my skin. Used as suggested and...</td>\n",
              "      <td>1</td>\n",
              "      <td>Nothing</td>\n",
              "      <td>1392681600</td>\n",
              "      <td>02 18, 2014</td>\n",
              "    </tr>\n",
              "    <tr>\n",
              "      <th>12</th>\n",
              "      <td>A1EVGDOTGFZOSS</td>\n",
              "      <td>9759091062</td>\n",
              "      <td>Jessica \"Anarchykisses\"</td>\n",
              "      <td>[0, 1]</td>\n",
              "      <td>I bought this product about 3 months ago, I fi...</td>\n",
              "      <td>5</td>\n",
              "      <td>This works</td>\n",
              "      <td>1390435200</td>\n",
              "      <td>01 23, 2014</td>\n",
              "    </tr>\n",
              "    <tr>\n",
              "      <th>13</th>\n",
              "      <td>AP5WTCMP6DTRV</td>\n",
              "      <td>9759091062</td>\n",
              "      <td>Layla B</td>\n",
              "      <td>[0, 0]</td>\n",
              "      <td>This gell did nothing at all. I religiously pu...</td>\n",
              "      <td>1</td>\n",
              "      <td>Does nothing</td>\n",
              "      <td>1389398400</td>\n",
              "      <td>01 11, 2014</td>\n",
              "    </tr>\n",
              "    <tr>\n",
              "      <th>14</th>\n",
              "      <td>A21IM16PQWKVO5</td>\n",
              "      <td>9759091062</td>\n",
              "      <td>mdub9922</td>\n",
              "      <td>[0, 1]</td>\n",
              "      <td>i got this to get rid of a scar and it did jus...</td>\n",
              "      <td>5</td>\n",
              "      <td>it works</td>\n",
              "      <td>1392681600</td>\n",
              "      <td>02 18, 2014</td>\n",
              "    </tr>\n",
              "    <tr>\n",
              "      <th>15</th>\n",
              "      <td>A1TLDR1V4O48PK</td>\n",
              "      <td>9759091062</td>\n",
              "      <td>Mickey O Neil \"Mickey O Neil\"</td>\n",
              "      <td>[0, 0]</td>\n",
              "      <td>I used it for anal bleaching and it burned a b...</td>\n",
              "      <td>2</td>\n",
              "      <td>burns</td>\n",
              "      <td>1396742400</td>\n",
              "      <td>04 6, 2014</td>\n",
              "    </tr>\n",
              "    <tr>\n",
              "      <th>16</th>\n",
              "      <td>A6F8KH0J1AVYA</td>\n",
              "      <td>9759091062</td>\n",
              "      <td>SanBen</td>\n",
              "      <td>[2, 4]</td>\n",
              "      <td>I order this cream along with their soap. It a...</td>\n",
              "      <td>5</td>\n",
              "      <td>Did work for me</td>\n",
              "      <td>1379116800</td>\n",
              "      <td>09 14, 2013</td>\n",
              "    </tr>\n",
              "    <tr>\n",
              "      <th>17</th>\n",
              "      <td>AXPKZA7UZXKTT</td>\n",
              "      <td>9759091062</td>\n",
              "      <td>Shirleyyy</td>\n",
              "      <td>[2, 4]</td>\n",
              "      <td>Good product. Use a little bit on your spot an...</td>\n",
              "      <td>4</td>\n",
              "      <td>excellent</td>\n",
              "      <td>1382054400</td>\n",
              "      <td>10 18, 2013</td>\n",
              "    </tr>\n",
              "    <tr>\n",
              "      <th>18</th>\n",
              "      <td>A2SIAYDK7GG7QA</td>\n",
              "      <td>9759091062</td>\n",
              "      <td>theredtranny</td>\n",
              "      <td>[0, 1]</td>\n",
              "      <td>I didn't use it past a week. The reason why is...</td>\n",
              "      <td>3</td>\n",
              "      <td>weird smell</td>\n",
              "      <td>1383264000</td>\n",
              "      <td>11 1, 2013</td>\n",
              "    </tr>\n",
              "    <tr>\n",
              "      <th>19</th>\n",
              "      <td>A1QV5IH6HDRN0L</td>\n",
              "      <td>9788072216</td>\n",
              "      <td>armygirl</td>\n",
              "      <td>[24, 24]</td>\n",
              "      <td>I haven't been a big fan of Prada's fragrances...</td>\n",
              "      <td>5</td>\n",
              "      <td>Love the smell of this!</td>\n",
              "      <td>1316390400</td>\n",
              "      <td>09 19, 2011</td>\n",
              "    </tr>\n",
              "  </tbody>\n",
              "</table>\n",
              "</div>"
            ],
            "text/plain": [
              "        reviewerID        asin  ... unixReviewTime   reviewTime\n",
              "0   A1YJEY40YUW4SE  7806397051  ...     1391040000  01 30, 2014\n",
              "1    A60XNB876KYML  7806397051  ...     1397779200  04 18, 2014\n",
              "2   A3G6XNM240RMWA  7806397051  ...     1378425600   09 6, 2013\n",
              "3   A1PQFP6SAJ6D80  7806397051  ...     1386460800   12 8, 2013\n",
              "4   A38FVHZTNQ271F  7806397051  ...     1382140800  10 19, 2013\n",
              "5   A3BTN14HIZET6Z  7806397051  ...     1365984000  04 15, 2013\n",
              "6   A1Z59RFKN0M5QL  7806397051  ...     1376611200  08 16, 2013\n",
              "7    AWUO9P6PL1SY8  7806397051  ...     1378252800   09 4, 2013\n",
              "8   A3LMILRM9OC3SA  9759091062  ...     1405209600  07 13, 2014\n",
              "9   A30IP88QK3YUIO  9759091062  ...     1388102400  12 27, 2013\n",
              "10   APBQH4BS48CQO  9759091062  ...     1400544000  05 20, 2014\n",
              "11  A3FE8W8UV95U6B  9759091062  ...     1392681600  02 18, 2014\n",
              "12  A1EVGDOTGFZOSS  9759091062  ...     1390435200  01 23, 2014\n",
              "13   AP5WTCMP6DTRV  9759091062  ...     1389398400  01 11, 2014\n",
              "14  A21IM16PQWKVO5  9759091062  ...     1392681600  02 18, 2014\n",
              "15  A1TLDR1V4O48PK  9759091062  ...     1396742400   04 6, 2014\n",
              "16   A6F8KH0J1AVYA  9759091062  ...     1379116800  09 14, 2013\n",
              "17   AXPKZA7UZXKTT  9759091062  ...     1382054400  10 18, 2013\n",
              "18  A2SIAYDK7GG7QA  9759091062  ...     1383264000   11 1, 2013\n",
              "19  A1QV5IH6HDRN0L  9788072216  ...     1316390400  09 19, 2011\n",
              "\n",
              "[20 rows x 9 columns]"
            ]
          },
          "metadata": {
            "tags": []
          },
          "execution_count": 14
        }
      ]
    },
    {
      "cell_type": "markdown",
      "metadata": {
        "id": "A6FRELu3ONDX"
      },
      "source": [
        "Exploring the data sets"
      ]
    },
    {
      "cell_type": "code",
      "metadata": {
        "colab": {
          "base_uri": "https://localhost:8080/",
          "height": 277
        },
        "id": "Ya6av1e-SQOY",
        "outputId": "8155e9be-fd68-45b3-a921-0621ecddccd8"
      },
      "source": [
        "df[df['UserId']=='A1YJEY40YUW4SE']"
      ],
      "execution_count": 15,
      "outputs": [
        {
          "output_type": "execute_result",
          "data": {
            "text/html": [
              "<div>\n",
              "<style scoped>\n",
              "    .dataframe tbody tr th:only-of-type {\n",
              "        vertical-align: middle;\n",
              "    }\n",
              "\n",
              "    .dataframe tbody tr th {\n",
              "        vertical-align: top;\n",
              "    }\n",
              "\n",
              "    .dataframe thead th {\n",
              "        text-align: right;\n",
              "    }\n",
              "</style>\n",
              "<table border=\"1\" class=\"dataframe\">\n",
              "  <thead>\n",
              "    <tr style=\"text-align: right;\">\n",
              "      <th></th>\n",
              "      <th>UserId</th>\n",
              "      <th>ProductId</th>\n",
              "      <th>Rating</th>\n",
              "      <th>Timestamp</th>\n",
              "    </tr>\n",
              "  </thead>\n",
              "  <tbody>\n",
              "    <tr>\n",
              "      <th>340</th>\n",
              "      <td>A1YJEY40YUW4SE</td>\n",
              "      <td>7806397051</td>\n",
              "      <td>1.0</td>\n",
              "      <td>1391040000</td>\n",
              "    </tr>\n",
              "    <tr>\n",
              "      <th>440062</th>\n",
              "      <td>A1YJEY40YUW4SE</td>\n",
              "      <td>B000V6BCSW</td>\n",
              "      <td>2.0</td>\n",
              "      <td>1391040000</td>\n",
              "    </tr>\n",
              "    <tr>\n",
              "      <th>807482</th>\n",
              "      <td>A1YJEY40YUW4SE</td>\n",
              "      <td>B0020YLEYK</td>\n",
              "      <td>5.0</td>\n",
              "      <td>1328140800</td>\n",
              "    </tr>\n",
              "    <tr>\n",
              "      <th>942164</th>\n",
              "      <td>A1YJEY40YUW4SE</td>\n",
              "      <td>B002WLWX82</td>\n",
              "      <td>1.0</td>\n",
              "      <td>1391040000</td>\n",
              "    </tr>\n",
              "    <tr>\n",
              "      <th>1177542</th>\n",
              "      <td>A1YJEY40YUW4SE</td>\n",
              "      <td>B004756YJA</td>\n",
              "      <td>5.0</td>\n",
              "      <td>1318896000</td>\n",
              "    </tr>\n",
              "    <tr>\n",
              "      <th>1337973</th>\n",
              "      <td>A1YJEY40YUW4SE</td>\n",
              "      <td>B004ZT0SSG</td>\n",
              "      <td>5.0</td>\n",
              "      <td>1318896000</td>\n",
              "    </tr>\n",
              "    <tr>\n",
              "      <th>1538217</th>\n",
              "      <td>A1YJEY40YUW4SE</td>\n",
              "      <td>B006XL55FK</td>\n",
              "      <td>5.0</td>\n",
              "      <td>1391040000</td>\n",
              "    </tr>\n",
              "    <tr>\n",
              "      <th>1982381</th>\n",
              "      <td>A1YJEY40YUW4SE</td>\n",
              "      <td>B00GZTXTZI</td>\n",
              "      <td>4.0</td>\n",
              "      <td>1391040000</td>\n",
              "    </tr>\n",
              "  </tbody>\n",
              "</table>\n",
              "</div>"
            ],
            "text/plain": [
              "                 UserId   ProductId  Rating   Timestamp\n",
              "340      A1YJEY40YUW4SE  7806397051     1.0  1391040000\n",
              "440062   A1YJEY40YUW4SE  B000V6BCSW     2.0  1391040000\n",
              "807482   A1YJEY40YUW4SE  B0020YLEYK     5.0  1328140800\n",
              "942164   A1YJEY40YUW4SE  B002WLWX82     1.0  1391040000\n",
              "1177542  A1YJEY40YUW4SE  B004756YJA     5.0  1318896000\n",
              "1337973  A1YJEY40YUW4SE  B004ZT0SSG     5.0  1318896000\n",
              "1538217  A1YJEY40YUW4SE  B006XL55FK     5.0  1391040000\n",
              "1982381  A1YJEY40YUW4SE  B00GZTXTZI     4.0  1391040000"
            ]
          },
          "metadata": {
            "tags": []
          },
          "execution_count": 15
        }
      ]
    },
    {
      "cell_type": "code",
      "metadata": {
        "colab": {
          "base_uri": "https://localhost:8080/"
        },
        "id": "yjFlQpgwxVVP",
        "outputId": "cf06b6c9-fec9-46e6-8774-8bdfa2ac779d"
      },
      "source": [
        "df['Rating'].value_counts()"
      ],
      "execution_count": 16,
      "outputs": [
        {
          "output_type": "execute_result",
          "data": {
            "text/plain": [
              "5.0    1248721\n",
              "4.0     307740\n",
              "1.0     183784\n",
              "3.0     169791\n",
              "2.0     113034\n",
              "Name: Rating, dtype: int64"
            ]
          },
          "metadata": {
            "tags": []
          },
          "execution_count": 16
        }
      ]
    },
    {
      "cell_type": "code",
      "metadata": {
        "colab": {
          "base_uri": "https://localhost:8080/"
        },
        "id": "_E_0ylKHLaGK",
        "outputId": "3d50a836-7618-4a59-f733-ca135036c12f"
      },
      "source": [
        "df['UserId'].value_counts()"
      ],
      "execution_count": 17,
      "outputs": [
        {
          "output_type": "execute_result",
          "data": {
            "text/plain": [
              "A3KEZLJ59C1JVH    389\n",
              "A281NPSIMI1C2R    336\n",
              "A3M174IC0VXOS2    326\n",
              "A2V5R832QCSOMX    278\n",
              "A3LJLRIZL38GG3    276\n",
              "                 ... \n",
              "ALE3O0431WGQG       1\n",
              "A1X2W37T9RSXJF      1\n",
              "A1P2QJ23SZ3SVM      1\n",
              "A16FZGUK1T2W98      1\n",
              "A28MJ51GOXSEDB      1\n",
              "Name: UserId, Length: 1210271, dtype: int64"
            ]
          },
          "metadata": {
            "tags": []
          },
          "execution_count": 17
        }
      ]
    },
    {
      "cell_type": "code",
      "metadata": {
        "colab": {
          "base_uri": "https://localhost:8080/",
          "height": 488
        },
        "id": "V_4hyCkriGK_",
        "outputId": "4bd60e98-75e1-4921-9180-ed77cb3c9a85"
      },
      "source": [
        "review_df"
      ],
      "execution_count": 105,
      "outputs": [
        {
          "output_type": "execute_result",
          "data": {
            "text/html": [
              "<div>\n",
              "<style scoped>\n",
              "    .dataframe tbody tr th:only-of-type {\n",
              "        vertical-align: middle;\n",
              "    }\n",
              "\n",
              "    .dataframe tbody tr th {\n",
              "        vertical-align: top;\n",
              "    }\n",
              "\n",
              "    .dataframe thead th {\n",
              "        text-align: right;\n",
              "    }\n",
              "</style>\n",
              "<table border=\"1\" class=\"dataframe\">\n",
              "  <thead>\n",
              "    <tr style=\"text-align: right;\">\n",
              "      <th></th>\n",
              "      <th>reviewerID</th>\n",
              "      <th>asin</th>\n",
              "      <th>reviewerName</th>\n",
              "      <th>helpful</th>\n",
              "      <th>reviewText</th>\n",
              "      <th>overall</th>\n",
              "      <th>summary</th>\n",
              "      <th>unixReviewTime</th>\n",
              "      <th>reviewTime</th>\n",
              "    </tr>\n",
              "  </thead>\n",
              "  <tbody>\n",
              "    <tr>\n",
              "      <th>0</th>\n",
              "      <td>A1YJEY40YUW4SE</td>\n",
              "      <td>7806397051</td>\n",
              "      <td>Andrea</td>\n",
              "      <td>[3, 4]</td>\n",
              "      <td>Very oily and creamy. Not at all what I expect...</td>\n",
              "      <td>1</td>\n",
              "      <td>Don't waste your money</td>\n",
              "      <td>1391040000</td>\n",
              "      <td>01 30, 2014</td>\n",
              "    </tr>\n",
              "    <tr>\n",
              "      <th>1</th>\n",
              "      <td>A60XNB876KYML</td>\n",
              "      <td>7806397051</td>\n",
              "      <td>Jessica H.</td>\n",
              "      <td>[1, 1]</td>\n",
              "      <td>This palette was a decent price and I was look...</td>\n",
              "      <td>3</td>\n",
              "      <td>OK Palette!</td>\n",
              "      <td>1397779200</td>\n",
              "      <td>04 18, 2014</td>\n",
              "    </tr>\n",
              "    <tr>\n",
              "      <th>2</th>\n",
              "      <td>A3G6XNM240RMWA</td>\n",
              "      <td>7806397051</td>\n",
              "      <td>Karen</td>\n",
              "      <td>[0, 1]</td>\n",
              "      <td>The texture of this concealer pallet is fantas...</td>\n",
              "      <td>4</td>\n",
              "      <td>great quality</td>\n",
              "      <td>1378425600</td>\n",
              "      <td>09 6, 2013</td>\n",
              "    </tr>\n",
              "    <tr>\n",
              "      <th>3</th>\n",
              "      <td>A1PQFP6SAJ6D80</td>\n",
              "      <td>7806397051</td>\n",
              "      <td>Norah</td>\n",
              "      <td>[2, 2]</td>\n",
              "      <td>I really can't tell what exactly this thing is...</td>\n",
              "      <td>2</td>\n",
              "      <td>Do not work on my face</td>\n",
              "      <td>1386460800</td>\n",
              "      <td>12 8, 2013</td>\n",
              "    </tr>\n",
              "    <tr>\n",
              "      <th>4</th>\n",
              "      <td>A38FVHZTNQ271F</td>\n",
              "      <td>7806397051</td>\n",
              "      <td>Nova Amor</td>\n",
              "      <td>[0, 0]</td>\n",
              "      <td>It was a little smaller than I expected, but t...</td>\n",
              "      <td>3</td>\n",
              "      <td>It's okay.</td>\n",
              "      <td>1382140800</td>\n",
              "      <td>10 19, 2013</td>\n",
              "    </tr>\n",
              "    <tr>\n",
              "      <th>...</th>\n",
              "      <td>...</td>\n",
              "      <td>...</td>\n",
              "      <td>...</td>\n",
              "      <td>...</td>\n",
              "      <td>...</td>\n",
              "      <td>...</td>\n",
              "      <td>...</td>\n",
              "      <td>...</td>\n",
              "      <td>...</td>\n",
              "    </tr>\n",
              "    <tr>\n",
              "      <th>198497</th>\n",
              "      <td>A2BLFCOPSMBOZ9</td>\n",
              "      <td>B00LLPT4HI</td>\n",
              "      <td>Dave Edmiston</td>\n",
              "      <td>[0, 0]</td>\n",
              "      <td>Just a little dab of this shea butter should b...</td>\n",
              "      <td>5</td>\n",
              "      <td>A little dab...</td>\n",
              "      <td>1405468800</td>\n",
              "      <td>07 16, 2014</td>\n",
              "    </tr>\n",
              "    <tr>\n",
              "      <th>198498</th>\n",
              "      <td>A1UQBFCERIP7VJ</td>\n",
              "      <td>B00LLPT4HI</td>\n",
              "      <td>Margaret Picky</td>\n",
              "      <td>[0, 0]</td>\n",
              "      <td>This shea butter is completely raw and unrefin...</td>\n",
              "      <td>5</td>\n",
              "      <td>Pure organic raw shea butter</td>\n",
              "      <td>1405296000</td>\n",
              "      <td>07 14, 2014</td>\n",
              "    </tr>\n",
              "    <tr>\n",
              "      <th>198499</th>\n",
              "      <td>A35Q0RBM3YNQNF</td>\n",
              "      <td>B00LLPT4HI</td>\n",
              "      <td>M. Hill</td>\n",
              "      <td>[0, 0]</td>\n",
              "      <td>The skin is the body's largest organ and it ab...</td>\n",
              "      <td>5</td>\n",
              "      <td>One Pound Organic Grade A Unrefined Shea Butter</td>\n",
              "      <td>1405468800</td>\n",
              "      <td>07 16, 2014</td>\n",
              "    </tr>\n",
              "    <tr>\n",
              "      <th>198500</th>\n",
              "      <td>A3LGT6UZL99IW1</td>\n",
              "      <td>B00LLPT4HI</td>\n",
              "      <td>Richard C. Drew \"Anaal Nathra/Uthe vas Bethod...</td>\n",
              "      <td>[0, 0]</td>\n",
              "      <td>I have very dry elbows and knees.  I have a to...</td>\n",
              "      <td>5</td>\n",
              "      <td>This stuff is amazing!</td>\n",
              "      <td>1405382400</td>\n",
              "      <td>07 15, 2014</td>\n",
              "    </tr>\n",
              "    <tr>\n",
              "      <th>198501</th>\n",
              "      <td>A3UJRNI8UR4871</td>\n",
              "      <td>B00LLPT4HI</td>\n",
              "      <td>Wulfstan \"wulfstan\"</td>\n",
              "      <td>[0, 1]</td>\n",
              "      <td>This is 100% pure Shea Butter. Do not mistake ...</td>\n",
              "      <td>5</td>\n",
              "      <td>The \"Real Stuff\"!</td>\n",
              "      <td>1405987200</td>\n",
              "      <td>07 22, 2014</td>\n",
              "    </tr>\n",
              "  </tbody>\n",
              "</table>\n",
              "<p>198502 rows × 9 columns</p>\n",
              "</div>"
            ],
            "text/plain": [
              "            reviewerID        asin  ... unixReviewTime   reviewTime\n",
              "0       A1YJEY40YUW4SE  7806397051  ...     1391040000  01 30, 2014\n",
              "1        A60XNB876KYML  7806397051  ...     1397779200  04 18, 2014\n",
              "2       A3G6XNM240RMWA  7806397051  ...     1378425600   09 6, 2013\n",
              "3       A1PQFP6SAJ6D80  7806397051  ...     1386460800   12 8, 2013\n",
              "4       A38FVHZTNQ271F  7806397051  ...     1382140800  10 19, 2013\n",
              "...                ...         ...  ...            ...          ...\n",
              "198497  A2BLFCOPSMBOZ9  B00LLPT4HI  ...     1405468800  07 16, 2014\n",
              "198498  A1UQBFCERIP7VJ  B00LLPT4HI  ...     1405296000  07 14, 2014\n",
              "198499  A35Q0RBM3YNQNF  B00LLPT4HI  ...     1405468800  07 16, 2014\n",
              "198500  A3LGT6UZL99IW1  B00LLPT4HI  ...     1405382400  07 15, 2014\n",
              "198501  A3UJRNI8UR4871  B00LLPT4HI  ...     1405987200  07 22, 2014\n",
              "\n",
              "[198502 rows x 9 columns]"
            ]
          },
          "metadata": {
            "tags": []
          },
          "execution_count": 105
        }
      ]
    },
    {
      "cell_type": "code",
      "metadata": {
        "id": "qPETYLAviGJN"
      },
      "source": [
        "fig, axes = plt.subplots(ncols=2,figsize=(13,8))\r\n",
        "Day_df=review_df['SEX'].value_counts().reset_index()\r\n",
        "plt.figure(figsize=(13,8))\r\n",
        "review_df['SEX'].value_counts().plot(kind=\"pie\",ax = axes[0],subplots=True)\r\n",
        "sns.barplot(x='index',y='SEX',data=Day_df,ax = axes[1])"
      ],
      "execution_count": null,
      "outputs": []
    },
    {
      "cell_type": "code",
      "metadata": {
        "id": "FxJUqZbXjpJu"
      },
      "source": [
        "review_df['asin']"
      ],
      "execution_count": null,
      "outputs": []
    },
    {
      "cell_type": "code",
      "metadata": {
        "colab": {
          "base_uri": "https://localhost:8080/",
          "height": 393
        },
        "id": "XfajnbIhiGEM",
        "outputId": "8a3b69ed-37c6-48d7-9c55-a700ff5fcddf"
      },
      "source": [
        "# Day_df=review_df['overall'].value_counts().reset_index()\r\n",
        "x=list(dfNew['asin'])\r\n",
        "y=list(dfNew['overallScore'])\r\n",
        "plt.plot(x,y)\r\n",
        "plt.show()"
      ],
      "execution_count": 121,
      "outputs": [
        {
          "output_type": "error",
          "ename": "KeyboardInterrupt",
          "evalue": "ignored",
          "traceback": [
            "\u001b[0;31m---------------------------------------------------------------------------\u001b[0m",
            "\u001b[0;31mKeyboardInterrupt\u001b[0m                         Traceback (most recent call last)",
            "\u001b[0;32m<ipython-input-121-60ba8b7c85d1>\u001b[0m in \u001b[0;36m<module>\u001b[0;34m()\u001b[0m\n\u001b[1;32m      3\u001b[0m \u001b[0my\u001b[0m\u001b[0;34m=\u001b[0m\u001b[0mlist\u001b[0m\u001b[0;34m(\u001b[0m\u001b[0mdfNew\u001b[0m\u001b[0;34m[\u001b[0m\u001b[0;34m'asin'\u001b[0m\u001b[0;34m]\u001b[0m\u001b[0;34m)\u001b[0m\u001b[0;34m\u001b[0m\u001b[0;34m\u001b[0m\u001b[0m\n\u001b[1;32m      4\u001b[0m \u001b[0mplt\u001b[0m\u001b[0;34m.\u001b[0m\u001b[0mplot\u001b[0m\u001b[0;34m(\u001b[0m\u001b[0mx\u001b[0m\u001b[0;34m,\u001b[0m\u001b[0my\u001b[0m\u001b[0;34m)\u001b[0m\u001b[0;34m\u001b[0m\u001b[0;34m\u001b[0m\u001b[0m\n\u001b[0;32m----> 5\u001b[0;31m \u001b[0mplt\u001b[0m\u001b[0;34m.\u001b[0m\u001b[0mshow\u001b[0m\u001b[0;34m(\u001b[0m\u001b[0;34m)\u001b[0m\u001b[0;34m\u001b[0m\u001b[0;34m\u001b[0m\u001b[0m\n\u001b[0m",
            "\u001b[0;32m/usr/local/lib/python3.6/dist-packages/matplotlib/pyplot.py\u001b[0m in \u001b[0;36mshow\u001b[0;34m(*args, **kw)\u001b[0m\n\u001b[1;32m    270\u001b[0m     \"\"\"\n\u001b[1;32m    271\u001b[0m     \u001b[0;32mglobal\u001b[0m \u001b[0m_show\u001b[0m\u001b[0;34m\u001b[0m\u001b[0;34m\u001b[0m\u001b[0m\n\u001b[0;32m--> 272\u001b[0;31m     \u001b[0;32mreturn\u001b[0m \u001b[0m_show\u001b[0m\u001b[0;34m(\u001b[0m\u001b[0;34m*\u001b[0m\u001b[0margs\u001b[0m\u001b[0;34m,\u001b[0m \u001b[0;34m**\u001b[0m\u001b[0mkw\u001b[0m\u001b[0;34m)\u001b[0m\u001b[0;34m\u001b[0m\u001b[0;34m\u001b[0m\u001b[0m\n\u001b[0m\u001b[1;32m    273\u001b[0m \u001b[0;34m\u001b[0m\u001b[0m\n\u001b[1;32m    274\u001b[0m \u001b[0;34m\u001b[0m\u001b[0m\n",
            "\u001b[0;32m/usr/local/lib/python3.6/dist-packages/ipykernel/pylab/backend_inline.py\u001b[0m in \u001b[0;36mshow\u001b[0;34m(close, block)\u001b[0m\n\u001b[1;32m     37\u001b[0m             display(\n\u001b[1;32m     38\u001b[0m                 \u001b[0mfigure_manager\u001b[0m\u001b[0;34m.\u001b[0m\u001b[0mcanvas\u001b[0m\u001b[0;34m.\u001b[0m\u001b[0mfigure\u001b[0m\u001b[0;34m,\u001b[0m\u001b[0;34m\u001b[0m\u001b[0;34m\u001b[0m\u001b[0m\n\u001b[0;32m---> 39\u001b[0;31m                 \u001b[0mmetadata\u001b[0m\u001b[0;34m=\u001b[0m\u001b[0m_fetch_figure_metadata\u001b[0m\u001b[0;34m(\u001b[0m\u001b[0mfigure_manager\u001b[0m\u001b[0;34m.\u001b[0m\u001b[0mcanvas\u001b[0m\u001b[0;34m.\u001b[0m\u001b[0mfigure\u001b[0m\u001b[0;34m)\u001b[0m\u001b[0;34m\u001b[0m\u001b[0;34m\u001b[0m\u001b[0m\n\u001b[0m\u001b[1;32m     40\u001b[0m             )\n\u001b[1;32m     41\u001b[0m     \u001b[0;32mfinally\u001b[0m\u001b[0;34m:\u001b[0m\u001b[0;34m\u001b[0m\u001b[0;34m\u001b[0m\u001b[0m\n",
            "\u001b[0;32m/usr/local/lib/python3.6/dist-packages/IPython/core/display.py\u001b[0m in \u001b[0;36mdisplay\u001b[0;34m(*objs, **kwargs)\u001b[0m\n\u001b[1;32m    304\u001b[0m             \u001b[0mpublish_display_data\u001b[0m\u001b[0;34m(\u001b[0m\u001b[0mdata\u001b[0m\u001b[0;34m=\u001b[0m\u001b[0mobj\u001b[0m\u001b[0;34m,\u001b[0m \u001b[0mmetadata\u001b[0m\u001b[0;34m=\u001b[0m\u001b[0mmetadata\u001b[0m\u001b[0;34m,\u001b[0m \u001b[0;34m**\u001b[0m\u001b[0mkwargs\u001b[0m\u001b[0;34m)\u001b[0m\u001b[0;34m\u001b[0m\u001b[0;34m\u001b[0m\u001b[0m\n\u001b[1;32m    305\u001b[0m         \u001b[0;32melse\u001b[0m\u001b[0;34m:\u001b[0m\u001b[0;34m\u001b[0m\u001b[0;34m\u001b[0m\u001b[0m\n\u001b[0;32m--> 306\u001b[0;31m             \u001b[0mformat_dict\u001b[0m\u001b[0;34m,\u001b[0m \u001b[0mmd_dict\u001b[0m \u001b[0;34m=\u001b[0m \u001b[0mformat\u001b[0m\u001b[0;34m(\u001b[0m\u001b[0mobj\u001b[0m\u001b[0;34m,\u001b[0m \u001b[0minclude\u001b[0m\u001b[0;34m=\u001b[0m\u001b[0minclude\u001b[0m\u001b[0;34m,\u001b[0m \u001b[0mexclude\u001b[0m\u001b[0;34m=\u001b[0m\u001b[0mexclude\u001b[0m\u001b[0;34m)\u001b[0m\u001b[0;34m\u001b[0m\u001b[0;34m\u001b[0m\u001b[0m\n\u001b[0m\u001b[1;32m    307\u001b[0m             \u001b[0;32mif\u001b[0m \u001b[0;32mnot\u001b[0m \u001b[0mformat_dict\u001b[0m\u001b[0;34m:\u001b[0m\u001b[0;34m\u001b[0m\u001b[0;34m\u001b[0m\u001b[0m\n\u001b[1;32m    308\u001b[0m                 \u001b[0;31m# nothing to display (e.g. _ipython_display_ took over)\u001b[0m\u001b[0;34m\u001b[0m\u001b[0;34m\u001b[0m\u001b[0;34m\u001b[0m\u001b[0m\n",
            "\u001b[0;32m/usr/local/lib/python3.6/dist-packages/IPython/core/formatters.py\u001b[0m in \u001b[0;36mformat\u001b[0;34m(self, obj, include, exclude)\u001b[0m\n\u001b[1;32m    171\u001b[0m             \u001b[0mmd\u001b[0m \u001b[0;34m=\u001b[0m \u001b[0;32mNone\u001b[0m\u001b[0;34m\u001b[0m\u001b[0;34m\u001b[0m\u001b[0m\n\u001b[1;32m    172\u001b[0m             \u001b[0;32mtry\u001b[0m\u001b[0;34m:\u001b[0m\u001b[0;34m\u001b[0m\u001b[0;34m\u001b[0m\u001b[0m\n\u001b[0;32m--> 173\u001b[0;31m                 \u001b[0mdata\u001b[0m \u001b[0;34m=\u001b[0m \u001b[0mformatter\u001b[0m\u001b[0;34m(\u001b[0m\u001b[0mobj\u001b[0m\u001b[0;34m)\u001b[0m\u001b[0;34m\u001b[0m\u001b[0;34m\u001b[0m\u001b[0m\n\u001b[0m\u001b[1;32m    174\u001b[0m             \u001b[0;32mexcept\u001b[0m\u001b[0;34m:\u001b[0m\u001b[0;34m\u001b[0m\u001b[0;34m\u001b[0m\u001b[0m\n\u001b[1;32m    175\u001b[0m                 \u001b[0;31m# FIXME: log the exception\u001b[0m\u001b[0;34m\u001b[0m\u001b[0;34m\u001b[0m\u001b[0;34m\u001b[0m\u001b[0m\n",
            "\u001b[0;32m<decorator-gen-9>\u001b[0m in \u001b[0;36m__call__\u001b[0;34m(self, obj)\u001b[0m\n",
            "\u001b[0;32m/usr/local/lib/python3.6/dist-packages/IPython/core/formatters.py\u001b[0m in \u001b[0;36mcatch_format_error\u001b[0;34m(method, self, *args, **kwargs)\u001b[0m\n\u001b[1;32m    215\u001b[0m     \u001b[0;34m\"\"\"show traceback on failed format call\"\"\"\u001b[0m\u001b[0;34m\u001b[0m\u001b[0;34m\u001b[0m\u001b[0m\n\u001b[1;32m    216\u001b[0m     \u001b[0;32mtry\u001b[0m\u001b[0;34m:\u001b[0m\u001b[0;34m\u001b[0m\u001b[0;34m\u001b[0m\u001b[0m\n\u001b[0;32m--> 217\u001b[0;31m         \u001b[0mr\u001b[0m \u001b[0;34m=\u001b[0m \u001b[0mmethod\u001b[0m\u001b[0;34m(\u001b[0m\u001b[0mself\u001b[0m\u001b[0;34m,\u001b[0m \u001b[0;34m*\u001b[0m\u001b[0margs\u001b[0m\u001b[0;34m,\u001b[0m \u001b[0;34m**\u001b[0m\u001b[0mkwargs\u001b[0m\u001b[0;34m)\u001b[0m\u001b[0;34m\u001b[0m\u001b[0;34m\u001b[0m\u001b[0m\n\u001b[0m\u001b[1;32m    218\u001b[0m     \u001b[0;32mexcept\u001b[0m \u001b[0mNotImplementedError\u001b[0m\u001b[0;34m:\u001b[0m\u001b[0;34m\u001b[0m\u001b[0;34m\u001b[0m\u001b[0m\n\u001b[1;32m    219\u001b[0m         \u001b[0;31m# don't warn on NotImplementedErrors\u001b[0m\u001b[0;34m\u001b[0m\u001b[0;34m\u001b[0m\u001b[0;34m\u001b[0m\u001b[0m\n",
            "\u001b[0;32m/usr/local/lib/python3.6/dist-packages/IPython/core/formatters.py\u001b[0m in \u001b[0;36m__call__\u001b[0;34m(self, obj)\u001b[0m\n\u001b[1;32m    332\u001b[0m                 \u001b[0;32mpass\u001b[0m\u001b[0;34m\u001b[0m\u001b[0;34m\u001b[0m\u001b[0m\n\u001b[1;32m    333\u001b[0m             \u001b[0;32melse\u001b[0m\u001b[0;34m:\u001b[0m\u001b[0;34m\u001b[0m\u001b[0;34m\u001b[0m\u001b[0m\n\u001b[0;32m--> 334\u001b[0;31m                 \u001b[0;32mreturn\u001b[0m \u001b[0mprinter\u001b[0m\u001b[0;34m(\u001b[0m\u001b[0mobj\u001b[0m\u001b[0;34m)\u001b[0m\u001b[0;34m\u001b[0m\u001b[0;34m\u001b[0m\u001b[0m\n\u001b[0m\u001b[1;32m    335\u001b[0m             \u001b[0;31m# Finally look for special method names\u001b[0m\u001b[0;34m\u001b[0m\u001b[0;34m\u001b[0m\u001b[0;34m\u001b[0m\u001b[0m\n\u001b[1;32m    336\u001b[0m             \u001b[0mmethod\u001b[0m \u001b[0;34m=\u001b[0m \u001b[0mget_real_method\u001b[0m\u001b[0;34m(\u001b[0m\u001b[0mobj\u001b[0m\u001b[0;34m,\u001b[0m \u001b[0mself\u001b[0m\u001b[0;34m.\u001b[0m\u001b[0mprint_method\u001b[0m\u001b[0;34m)\u001b[0m\u001b[0;34m\u001b[0m\u001b[0;34m\u001b[0m\u001b[0m\n",
            "\u001b[0;32m/usr/local/lib/python3.6/dist-packages/IPython/core/pylabtools.py\u001b[0m in \u001b[0;36m<lambda>\u001b[0;34m(fig)\u001b[0m\n\u001b[1;32m    239\u001b[0m \u001b[0;34m\u001b[0m\u001b[0m\n\u001b[1;32m    240\u001b[0m     \u001b[0;32mif\u001b[0m \u001b[0;34m'png'\u001b[0m \u001b[0;32min\u001b[0m \u001b[0mformats\u001b[0m\u001b[0;34m:\u001b[0m\u001b[0;34m\u001b[0m\u001b[0;34m\u001b[0m\u001b[0m\n\u001b[0;32m--> 241\u001b[0;31m         \u001b[0mpng_formatter\u001b[0m\u001b[0;34m.\u001b[0m\u001b[0mfor_type\u001b[0m\u001b[0;34m(\u001b[0m\u001b[0mFigure\u001b[0m\u001b[0;34m,\u001b[0m \u001b[0;32mlambda\u001b[0m \u001b[0mfig\u001b[0m\u001b[0;34m:\u001b[0m \u001b[0mprint_figure\u001b[0m\u001b[0;34m(\u001b[0m\u001b[0mfig\u001b[0m\u001b[0;34m,\u001b[0m \u001b[0;34m'png'\u001b[0m\u001b[0;34m,\u001b[0m \u001b[0;34m**\u001b[0m\u001b[0mkwargs\u001b[0m\u001b[0;34m)\u001b[0m\u001b[0;34m)\u001b[0m\u001b[0;34m\u001b[0m\u001b[0;34m\u001b[0m\u001b[0m\n\u001b[0m\u001b[1;32m    242\u001b[0m     \u001b[0;32mif\u001b[0m \u001b[0;34m'retina'\u001b[0m \u001b[0;32min\u001b[0m \u001b[0mformats\u001b[0m \u001b[0;32mor\u001b[0m \u001b[0;34m'png2x'\u001b[0m \u001b[0;32min\u001b[0m \u001b[0mformats\u001b[0m\u001b[0;34m:\u001b[0m\u001b[0;34m\u001b[0m\u001b[0;34m\u001b[0m\u001b[0m\n\u001b[1;32m    243\u001b[0m         \u001b[0mpng_formatter\u001b[0m\u001b[0;34m.\u001b[0m\u001b[0mfor_type\u001b[0m\u001b[0;34m(\u001b[0m\u001b[0mFigure\u001b[0m\u001b[0;34m,\u001b[0m \u001b[0;32mlambda\u001b[0m \u001b[0mfig\u001b[0m\u001b[0;34m:\u001b[0m \u001b[0mretina_figure\u001b[0m\u001b[0;34m(\u001b[0m\u001b[0mfig\u001b[0m\u001b[0;34m,\u001b[0m \u001b[0;34m**\u001b[0m\u001b[0mkwargs\u001b[0m\u001b[0;34m)\u001b[0m\u001b[0;34m)\u001b[0m\u001b[0;34m\u001b[0m\u001b[0;34m\u001b[0m\u001b[0m\n",
            "\u001b[0;32m/usr/local/lib/python3.6/dist-packages/IPython/core/pylabtools.py\u001b[0m in \u001b[0;36mprint_figure\u001b[0;34m(fig, fmt, bbox_inches, **kwargs)\u001b[0m\n\u001b[1;32m    123\u001b[0m \u001b[0;34m\u001b[0m\u001b[0m\n\u001b[1;32m    124\u001b[0m     \u001b[0mbytes_io\u001b[0m \u001b[0;34m=\u001b[0m \u001b[0mBytesIO\u001b[0m\u001b[0;34m(\u001b[0m\u001b[0;34m)\u001b[0m\u001b[0;34m\u001b[0m\u001b[0;34m\u001b[0m\u001b[0m\n\u001b[0;32m--> 125\u001b[0;31m     \u001b[0mfig\u001b[0m\u001b[0;34m.\u001b[0m\u001b[0mcanvas\u001b[0m\u001b[0;34m.\u001b[0m\u001b[0mprint_figure\u001b[0m\u001b[0;34m(\u001b[0m\u001b[0mbytes_io\u001b[0m\u001b[0;34m,\u001b[0m \u001b[0;34m**\u001b[0m\u001b[0mkw\u001b[0m\u001b[0;34m)\u001b[0m\u001b[0;34m\u001b[0m\u001b[0;34m\u001b[0m\u001b[0m\n\u001b[0m\u001b[1;32m    126\u001b[0m     \u001b[0mdata\u001b[0m \u001b[0;34m=\u001b[0m \u001b[0mbytes_io\u001b[0m\u001b[0;34m.\u001b[0m\u001b[0mgetvalue\u001b[0m\u001b[0;34m(\u001b[0m\u001b[0;34m)\u001b[0m\u001b[0;34m\u001b[0m\u001b[0;34m\u001b[0m\u001b[0m\n\u001b[1;32m    127\u001b[0m     \u001b[0;32mif\u001b[0m \u001b[0mfmt\u001b[0m \u001b[0;34m==\u001b[0m \u001b[0;34m'svg'\u001b[0m\u001b[0;34m:\u001b[0m\u001b[0;34m\u001b[0m\u001b[0;34m\u001b[0m\u001b[0m\n",
            "\u001b[0;32m/usr/local/lib/python3.6/dist-packages/matplotlib/backend_bases.py\u001b[0m in \u001b[0;36mprint_figure\u001b[0;34m(self, filename, dpi, facecolor, edgecolor, orientation, format, bbox_inches, **kwargs)\u001b[0m\n\u001b[1;32m   2101\u001b[0m                     \u001b[0mbbox_artists\u001b[0m \u001b[0;34m=\u001b[0m \u001b[0mkwargs\u001b[0m\u001b[0;34m.\u001b[0m\u001b[0mpop\u001b[0m\u001b[0;34m(\u001b[0m\u001b[0;34m\"bbox_extra_artists\"\u001b[0m\u001b[0;34m,\u001b[0m \u001b[0;32mNone\u001b[0m\u001b[0;34m)\u001b[0m\u001b[0;34m\u001b[0m\u001b[0;34m\u001b[0m\u001b[0m\n\u001b[1;32m   2102\u001b[0m                     bbox_inches = self.figure.get_tightbbox(renderer,\n\u001b[0;32m-> 2103\u001b[0;31m                             bbox_extra_artists=bbox_artists)\n\u001b[0m\u001b[1;32m   2104\u001b[0m                     \u001b[0mpad\u001b[0m \u001b[0;34m=\u001b[0m \u001b[0mkwargs\u001b[0m\u001b[0;34m.\u001b[0m\u001b[0mpop\u001b[0m\u001b[0;34m(\u001b[0m\u001b[0;34m\"pad_inches\"\u001b[0m\u001b[0;34m,\u001b[0m \u001b[0;32mNone\u001b[0m\u001b[0;34m)\u001b[0m\u001b[0;34m\u001b[0m\u001b[0;34m\u001b[0m\u001b[0m\n\u001b[1;32m   2105\u001b[0m                     \u001b[0;32mif\u001b[0m \u001b[0mpad\u001b[0m \u001b[0;32mis\u001b[0m \u001b[0;32mNone\u001b[0m\u001b[0;34m:\u001b[0m\u001b[0;34m\u001b[0m\u001b[0;34m\u001b[0m\u001b[0m\n",
            "\u001b[0;32m/usr/local/lib/python3.6/dist-packages/matplotlib/figure.py\u001b[0m in \u001b[0;36mget_tightbbox\u001b[0;34m(self, renderer, bbox_extra_artists)\u001b[0m\n\u001b[1;32m   2393\u001b[0m                 \u001b[0;32mtry\u001b[0m\u001b[0;34m:\u001b[0m\u001b[0;34m\u001b[0m\u001b[0;34m\u001b[0m\u001b[0m\n\u001b[1;32m   2394\u001b[0m                     bbox = ax.get_tightbbox(renderer,\n\u001b[0;32m-> 2395\u001b[0;31m                             bbox_extra_artists=bbox_extra_artists)\n\u001b[0m\u001b[1;32m   2396\u001b[0m                 \u001b[0;32mexcept\u001b[0m \u001b[0mTypeError\u001b[0m\u001b[0;34m:\u001b[0m\u001b[0;34m\u001b[0m\u001b[0;34m\u001b[0m\u001b[0m\n\u001b[1;32m   2397\u001b[0m                     \u001b[0mbbox\u001b[0m \u001b[0;34m=\u001b[0m \u001b[0max\u001b[0m\u001b[0;34m.\u001b[0m\u001b[0mget_tightbbox\u001b[0m\u001b[0;34m(\u001b[0m\u001b[0mrenderer\u001b[0m\u001b[0;34m)\u001b[0m\u001b[0;34m\u001b[0m\u001b[0;34m\u001b[0m\u001b[0m\n",
            "\u001b[0;32m/usr/local/lib/python3.6/dist-packages/matplotlib/axes/_base.py\u001b[0m in \u001b[0;36mget_tightbbox\u001b[0;34m(self, renderer, call_axes_locator, bbox_extra_artists)\u001b[0m\n\u001b[1;32m   4325\u001b[0m                 \u001b[0mbb\u001b[0m\u001b[0;34m.\u001b[0m\u001b[0mappend\u001b[0m\u001b[0;34m(\u001b[0m\u001b[0mbb_xaxis\u001b[0m\u001b[0;34m)\u001b[0m\u001b[0;34m\u001b[0m\u001b[0;34m\u001b[0m\u001b[0m\n\u001b[1;32m   4326\u001b[0m \u001b[0;34m\u001b[0m\u001b[0m\n\u001b[0;32m-> 4327\u001b[0;31m             \u001b[0mbb_yaxis\u001b[0m \u001b[0;34m=\u001b[0m \u001b[0mself\u001b[0m\u001b[0;34m.\u001b[0m\u001b[0myaxis\u001b[0m\u001b[0;34m.\u001b[0m\u001b[0mget_tightbbox\u001b[0m\u001b[0;34m(\u001b[0m\u001b[0mrenderer\u001b[0m\u001b[0;34m)\u001b[0m\u001b[0;34m\u001b[0m\u001b[0;34m\u001b[0m\u001b[0m\n\u001b[0m\u001b[1;32m   4328\u001b[0m             \u001b[0;32mif\u001b[0m \u001b[0mbb_yaxis\u001b[0m\u001b[0;34m:\u001b[0m\u001b[0;34m\u001b[0m\u001b[0;34m\u001b[0m\u001b[0m\n\u001b[1;32m   4329\u001b[0m                 \u001b[0mbb\u001b[0m\u001b[0;34m.\u001b[0m\u001b[0mappend\u001b[0m\u001b[0;34m(\u001b[0m\u001b[0mbb_yaxis\u001b[0m\u001b[0;34m)\u001b[0m\u001b[0;34m\u001b[0m\u001b[0;34m\u001b[0m\u001b[0m\n",
            "\u001b[0;32m/usr/local/lib/python3.6/dist-packages/matplotlib/axis.py\u001b[0m in \u001b[0;36mget_tightbbox\u001b[0;34m(self, renderer)\u001b[0m\n\u001b[1;32m   1205\u001b[0m                   if 0 < b.width < np.inf and 0 < b.height < np.inf]\n\u001b[1;32m   1206\u001b[0m         \u001b[0;32mif\u001b[0m \u001b[0mbboxes\u001b[0m\u001b[0;34m:\u001b[0m\u001b[0;34m\u001b[0m\u001b[0;34m\u001b[0m\u001b[0m\n\u001b[0;32m-> 1207\u001b[0;31m             \u001b[0;32mreturn\u001b[0m \u001b[0mmtransforms\u001b[0m\u001b[0;34m.\u001b[0m\u001b[0mBbox\u001b[0m\u001b[0;34m.\u001b[0m\u001b[0munion\u001b[0m\u001b[0;34m(\u001b[0m\u001b[0mbboxes\u001b[0m\u001b[0;34m)\u001b[0m\u001b[0;34m\u001b[0m\u001b[0;34m\u001b[0m\u001b[0m\n\u001b[0m\u001b[1;32m   1208\u001b[0m         \u001b[0;32melse\u001b[0m\u001b[0;34m:\u001b[0m\u001b[0;34m\u001b[0m\u001b[0;34m\u001b[0m\u001b[0m\n\u001b[1;32m   1209\u001b[0m             \u001b[0;32mreturn\u001b[0m \u001b[0;32mNone\u001b[0m\u001b[0;34m\u001b[0m\u001b[0;34m\u001b[0m\u001b[0m\n",
            "\u001b[0;32m/usr/local/lib/python3.6/dist-packages/matplotlib/transforms.py\u001b[0m in \u001b[0;36munion\u001b[0;34m(bboxes)\u001b[0m\n\u001b[1;32m    701\u001b[0m         \u001b[0;31m# can remove once we are at numpy >= 1.15\u001b[0m\u001b[0;34m\u001b[0m\u001b[0;34m\u001b[0m\u001b[0;34m\u001b[0m\u001b[0m\n\u001b[1;32m    702\u001b[0m         \u001b[0;32mwith\u001b[0m \u001b[0mnp\u001b[0m\u001b[0;34m.\u001b[0m\u001b[0merrstate\u001b[0m\u001b[0;34m(\u001b[0m\u001b[0minvalid\u001b[0m\u001b[0;34m=\u001b[0m\u001b[0;34m'ignore'\u001b[0m\u001b[0;34m)\u001b[0m\u001b[0;34m:\u001b[0m\u001b[0;34m\u001b[0m\u001b[0;34m\u001b[0m\u001b[0m\n\u001b[0;32m--> 703\u001b[0;31m             \u001b[0mx0\u001b[0m \u001b[0;34m=\u001b[0m \u001b[0mnp\u001b[0m\u001b[0;34m.\u001b[0m\u001b[0mmin\u001b[0m\u001b[0;34m(\u001b[0m\u001b[0;34m[\u001b[0m\u001b[0mbbox\u001b[0m\u001b[0;34m.\u001b[0m\u001b[0mxmin\u001b[0m \u001b[0;32mfor\u001b[0m \u001b[0mbbox\u001b[0m \u001b[0;32min\u001b[0m \u001b[0mbboxes\u001b[0m\u001b[0;34m]\u001b[0m\u001b[0;34m)\u001b[0m\u001b[0;34m\u001b[0m\u001b[0;34m\u001b[0m\u001b[0m\n\u001b[0m\u001b[1;32m    704\u001b[0m             \u001b[0mx1\u001b[0m \u001b[0;34m=\u001b[0m \u001b[0mnp\u001b[0m\u001b[0;34m.\u001b[0m\u001b[0mmax\u001b[0m\u001b[0;34m(\u001b[0m\u001b[0;34m[\u001b[0m\u001b[0mbbox\u001b[0m\u001b[0;34m.\u001b[0m\u001b[0mxmax\u001b[0m \u001b[0;32mfor\u001b[0m \u001b[0mbbox\u001b[0m \u001b[0;32min\u001b[0m \u001b[0mbboxes\u001b[0m\u001b[0;34m]\u001b[0m\u001b[0;34m)\u001b[0m\u001b[0;34m\u001b[0m\u001b[0;34m\u001b[0m\u001b[0m\n\u001b[1;32m    705\u001b[0m             \u001b[0my0\u001b[0m \u001b[0;34m=\u001b[0m \u001b[0mnp\u001b[0m\u001b[0;34m.\u001b[0m\u001b[0mmin\u001b[0m\u001b[0;34m(\u001b[0m\u001b[0;34m[\u001b[0m\u001b[0mbbox\u001b[0m\u001b[0;34m.\u001b[0m\u001b[0mymin\u001b[0m \u001b[0;32mfor\u001b[0m \u001b[0mbbox\u001b[0m \u001b[0;32min\u001b[0m \u001b[0mbboxes\u001b[0m\u001b[0;34m]\u001b[0m\u001b[0;34m)\u001b[0m\u001b[0;34m\u001b[0m\u001b[0;34m\u001b[0m\u001b[0m\n",
            "\u001b[0;32m/usr/local/lib/python3.6/dist-packages/matplotlib/transforms.py\u001b[0m in \u001b[0;36m<listcomp>\u001b[0;34m(.0)\u001b[0m\n\u001b[1;32m    701\u001b[0m         \u001b[0;31m# can remove once we are at numpy >= 1.15\u001b[0m\u001b[0;34m\u001b[0m\u001b[0;34m\u001b[0m\u001b[0;34m\u001b[0m\u001b[0m\n\u001b[1;32m    702\u001b[0m         \u001b[0;32mwith\u001b[0m \u001b[0mnp\u001b[0m\u001b[0;34m.\u001b[0m\u001b[0merrstate\u001b[0m\u001b[0;34m(\u001b[0m\u001b[0minvalid\u001b[0m\u001b[0;34m=\u001b[0m\u001b[0;34m'ignore'\u001b[0m\u001b[0;34m)\u001b[0m\u001b[0;34m:\u001b[0m\u001b[0;34m\u001b[0m\u001b[0;34m\u001b[0m\u001b[0m\n\u001b[0;32m--> 703\u001b[0;31m             \u001b[0mx0\u001b[0m \u001b[0;34m=\u001b[0m \u001b[0mnp\u001b[0m\u001b[0;34m.\u001b[0m\u001b[0mmin\u001b[0m\u001b[0;34m(\u001b[0m\u001b[0;34m[\u001b[0m\u001b[0mbbox\u001b[0m\u001b[0;34m.\u001b[0m\u001b[0mxmin\u001b[0m \u001b[0;32mfor\u001b[0m \u001b[0mbbox\u001b[0m \u001b[0;32min\u001b[0m \u001b[0mbboxes\u001b[0m\u001b[0;34m]\u001b[0m\u001b[0;34m)\u001b[0m\u001b[0;34m\u001b[0m\u001b[0;34m\u001b[0m\u001b[0m\n\u001b[0m\u001b[1;32m    704\u001b[0m             \u001b[0mx1\u001b[0m \u001b[0;34m=\u001b[0m \u001b[0mnp\u001b[0m\u001b[0;34m.\u001b[0m\u001b[0mmax\u001b[0m\u001b[0;34m(\u001b[0m\u001b[0;34m[\u001b[0m\u001b[0mbbox\u001b[0m\u001b[0;34m.\u001b[0m\u001b[0mxmax\u001b[0m \u001b[0;32mfor\u001b[0m \u001b[0mbbox\u001b[0m \u001b[0;32min\u001b[0m \u001b[0mbboxes\u001b[0m\u001b[0;34m]\u001b[0m\u001b[0;34m)\u001b[0m\u001b[0;34m\u001b[0m\u001b[0;34m\u001b[0m\u001b[0m\n\u001b[1;32m    705\u001b[0m             \u001b[0my0\u001b[0m \u001b[0;34m=\u001b[0m \u001b[0mnp\u001b[0m\u001b[0;34m.\u001b[0m\u001b[0mmin\u001b[0m\u001b[0;34m(\u001b[0m\u001b[0;34m[\u001b[0m\u001b[0mbbox\u001b[0m\u001b[0;34m.\u001b[0m\u001b[0mymin\u001b[0m \u001b[0;32mfor\u001b[0m \u001b[0mbbox\u001b[0m \u001b[0;32min\u001b[0m \u001b[0mbboxes\u001b[0m\u001b[0;34m]\u001b[0m\u001b[0;34m)\u001b[0m\u001b[0;34m\u001b[0m\u001b[0;34m\u001b[0m\u001b[0m\n",
            "\u001b[0;32m/usr/local/lib/python3.6/dist-packages/matplotlib/transforms.py\u001b[0m in \u001b[0;36mxmin\u001b[0;34m(self)\u001b[0m\n\u001b[1;32m    347\u001b[0m     \u001b[0;32mdef\u001b[0m \u001b[0mxmin\u001b[0m\u001b[0;34m(\u001b[0m\u001b[0mself\u001b[0m\u001b[0;34m)\u001b[0m\u001b[0;34m:\u001b[0m\u001b[0;34m\u001b[0m\u001b[0;34m\u001b[0m\u001b[0m\n\u001b[1;32m    348\u001b[0m         \u001b[0;34m\"\"\"The left edge of the bounding box.\"\"\"\u001b[0m\u001b[0;34m\u001b[0m\u001b[0;34m\u001b[0m\u001b[0m\n\u001b[0;32m--> 349\u001b[0;31m         \u001b[0;32mreturn\u001b[0m \u001b[0mnp\u001b[0m\u001b[0;34m.\u001b[0m\u001b[0mmin\u001b[0m\u001b[0;34m(\u001b[0m\u001b[0mself\u001b[0m\u001b[0;34m.\u001b[0m\u001b[0mget_points\u001b[0m\u001b[0;34m(\u001b[0m\u001b[0;34m)\u001b[0m\u001b[0;34m[\u001b[0m\u001b[0;34m:\u001b[0m\u001b[0;34m,\u001b[0m \u001b[0;36m0\u001b[0m\u001b[0;34m]\u001b[0m\u001b[0;34m)\u001b[0m\u001b[0;34m\u001b[0m\u001b[0;34m\u001b[0m\u001b[0m\n\u001b[0m\u001b[1;32m    350\u001b[0m \u001b[0;34m\u001b[0m\u001b[0m\n\u001b[1;32m    351\u001b[0m     \u001b[0;34m@\u001b[0m\u001b[0mproperty\u001b[0m\u001b[0;34m\u001b[0m\u001b[0;34m\u001b[0m\u001b[0m\n",
            "\u001b[0;32m<__array_function__ internals>\u001b[0m in \u001b[0;36mamin\u001b[0;34m(*args, **kwargs)\u001b[0m\n",
            "\u001b[0;32m/usr/local/lib/python3.6/dist-packages/numpy/core/fromnumeric.py\u001b[0m in \u001b[0;36mamin\u001b[0;34m(a, axis, out, keepdims, initial, where)\u001b[0m\n\u001b[1;32m   2829\u001b[0m     \"\"\"\n\u001b[1;32m   2830\u001b[0m     return _wrapreduction(a, np.minimum, 'min', axis, None, out,\n\u001b[0;32m-> 2831\u001b[0;31m                           keepdims=keepdims, initial=initial, where=where)\n\u001b[0m\u001b[1;32m   2832\u001b[0m \u001b[0;34m\u001b[0m\u001b[0m\n\u001b[1;32m   2833\u001b[0m \u001b[0;34m\u001b[0m\u001b[0m\n",
            "\u001b[0;32m/usr/local/lib/python3.6/dist-packages/numpy/core/fromnumeric.py\u001b[0m in \u001b[0;36m_wrapreduction\u001b[0;34m(obj, ufunc, method, axis, dtype, out, **kwargs)\u001b[0m\n\u001b[1;32m     69\u001b[0m \u001b[0;34m\u001b[0m\u001b[0m\n\u001b[1;32m     70\u001b[0m \u001b[0;32mdef\u001b[0m \u001b[0m_wrapreduction\u001b[0m\u001b[0;34m(\u001b[0m\u001b[0mobj\u001b[0m\u001b[0;34m,\u001b[0m \u001b[0mufunc\u001b[0m\u001b[0;34m,\u001b[0m \u001b[0mmethod\u001b[0m\u001b[0;34m,\u001b[0m \u001b[0maxis\u001b[0m\u001b[0;34m,\u001b[0m \u001b[0mdtype\u001b[0m\u001b[0;34m,\u001b[0m \u001b[0mout\u001b[0m\u001b[0;34m,\u001b[0m \u001b[0;34m**\u001b[0m\u001b[0mkwargs\u001b[0m\u001b[0;34m)\u001b[0m\u001b[0;34m:\u001b[0m\u001b[0;34m\u001b[0m\u001b[0;34m\u001b[0m\u001b[0m\n\u001b[0;32m---> 71\u001b[0;31m     passkwargs = {k: v for k, v in kwargs.items()\n\u001b[0m\u001b[1;32m     72\u001b[0m                   if v is not np._NoValue}\n\u001b[1;32m     73\u001b[0m \u001b[0;34m\u001b[0m\u001b[0m\n",
            "\u001b[0;31mKeyboardInterrupt\u001b[0m: "
          ]
        }
      ]
    },
    {
      "cell_type": "code",
      "metadata": {
        "colab": {
          "base_uri": "https://localhost:8080/",
          "height": 265
        },
        "id": "_D7l8yOxnSNa",
        "outputId": "d038ecef-788f-4898-de47-4d75ca9a4137"
      },
      "source": [
        "Year = [1920,1930,1940,1950,1960,1970,'sdfsd',1990,2000,2010]\r\n",
        "Unemployment_Rate = [9.8,12,8,7.2,6.9,7,6.5,6.2,5.5,6.3]\r\n",
        "plt.plot(Year,Unemployment_Rate)\r\n",
        "plt.show()"
      ],
      "execution_count": 124,
      "outputs": [
        {
          "output_type": "display_data",
          "data": {
            "image/png": "[encoded data removed]",
            "text/plain": [
              "<Figure size 432x288 with 1 Axes>"
            ]
          },
          "metadata": {
            "tags": [],
            "needs_background": "light"
          }
        }
      ]
    },
    {
      "cell_type": "code",
      "metadata": {
        "colab": {
          "base_uri": "https://localhost:8080/"
        },
        "id": "uC0VGX4piGBz",
        "outputId": "45735217-7182-4bb2-eb26-9f26a9479fec"
      },
      "source": [
        "y=list(dfNew['asin'])\r\n",
        "type(y)"
      ],
      "execution_count": 125,
      "outputs": [
        {
          "output_type": "execute_result",
          "data": {
            "text/plain": [
              "list"
            ]
          },
          "metadata": {
            "tags": []
          },
          "execution_count": 125
        }
      ]
    },
    {
      "cell_type": "code",
      "metadata": {
        "id": "brbl1g_BiF9N"
      },
      "source": [
        ""
      ],
      "execution_count": null,
      "outputs": []
    },
    {
      "cell_type": "code",
      "metadata": {
        "id": "hnByRiCRiF5x"
      },
      "source": [
        ""
      ],
      "execution_count": null,
      "outputs": []
    },
    {
      "cell_type": "markdown",
      "metadata": {
        "id": "lMbz_yepMUCq"
      },
      "source": [
        "#Content Based Filtering"
      ]
    },
    {
      "cell_type": "markdown",
      "metadata": {
        "id": "j9p2YigeMQBy"
      },
      "source": [
        "## <u><b> Content-Based Filtering </b></u>\r\n",
        "\r\n",
        "### This method uses only information about the description and attributes of the items users has previously consumed to model user's preferences. In other words, these algorithms try to recommend items that are similar to those that a user liked in the past (or is examining in the present). In particular, various candidate items are compared with items previously rated by the user and the best-matching items are recommended. \r\n"
      ]
    },
    {
      "cell_type": "markdown",
      "metadata": {
        "id": "31H84t7HScL2"
      },
      "source": [
        "Recommender systems have a problem known as user cold-start, in which it is hard to provide personalized recommendations for users with none or a very few number of consumed items, due to the lack of information to model their preferences.  \r\n",
        "\r\n",
        "For this reason, we are keeping in the dataset only users with at least 5 interactions."
      ]
    },
    {
      "cell_type": "code",
      "metadata": {
        "colab": {
          "base_uri": "https://localhost:8080/"
        },
        "id": "rQgWTs6LLgU-",
        "outputId": "d3f78c97-63a8-459c-b2b8-3d7be1e93dc5"
      },
      "source": [
        "users_interactions_count_df = df.groupby(['UserId', 'ProductId']).size().groupby('UserId').size()\r\n",
        "print('# of users: %d' % len(users_interactions_count_df))\r\n",
        "\r\n",
        "users_with_enough_interactions_df = users_interactions_count_df[users_interactions_count_df >= 5].reset_index()[['UserId']]\r\n",
        "print('# of users with at least 5 interactions: %d' % len(users_with_enough_interactions_df))"
      ],
      "execution_count": null,
      "outputs": [
        {
          "output_type": "stream",
          "text": [
            "# of users: 1210271\n",
            "# of users with at least 5 interactions: 52374\n"
          ],
          "name": "stdout"
        }
      ]
    },
    {
      "cell_type": "code",
      "metadata": {
        "colab": {
          "base_uri": "https://localhost:8080/"
        },
        "id": "25UcIaUGSLpU",
        "outputId": "8fc18224-4615-46ce-8471-7bb669efd425"
      },
      "source": [
        "users_with_enough_interactions_df.value_counts()"
      ],
      "execution_count": null,
      "outputs": [
        {
          "output_type": "execute_result",
          "data": {
            "text/plain": [
              "UserId               \n",
              "AZZZLM1E5JJ8C            1\n",
              "A29FFXE1ZJWMDB           1\n",
              "A29GNM310NIEGI           1\n",
              "A29GF42C0YFQOK           1\n",
              "A29GES4X1DL5JV           1\n",
              "                        ..\n",
              "A3III07Y9VJI8Q           1\n",
              "A3IIGCFLKVFW8M           1\n",
              "A3IIG6WN78DIOQ           1\n",
              "A3IIDZ9XUDM7RP           1\n",
              "A00414041RD0BXM6WK0GX    1\n",
              "Length: 52374, dtype: int64"
            ]
          },
          "metadata": {
            "tags": []
          },
          "execution_count": 14
        }
      ]
    },
    {
      "cell_type": "markdown",
      "metadata": {
        "id": "7erupZGZTB4m"
      },
      "source": [
        "Checking for user with 1 interaction"
      ]
    },
    {
      "cell_type": "code",
      "metadata": {
        "colab": {
          "base_uri": "https://localhost:8080/",
          "height": 47
        },
        "id": "M4-OKXD5SpZG",
        "outputId": "407355a4-1eba-496a-b4c5-13dd113089cd"
      },
      "source": [
        "users_with_enough_interactions_df[users_with_enough_interactions_df['UserId']=='A27TKCMDYFCFOY']"
      ],
      "execution_count": null,
      "outputs": [
        {
          "output_type": "execute_result",
          "data": {
            "text/html": [
              "<div>\n",
              "<style scoped>\n",
              "    .dataframe tbody tr th:only-of-type {\n",
              "        vertical-align: middle;\n",
              "    }\n",
              "\n",
              "    .dataframe tbody tr th {\n",
              "        vertical-align: top;\n",
              "    }\n",
              "\n",
              "    .dataframe thead th {\n",
              "        text-align: right;\n",
              "    }\n",
              "</style>\n",
              "<table border=\"1\" class=\"dataframe\">\n",
              "  <thead>\n",
              "    <tr style=\"text-align: right;\">\n",
              "      <th></th>\n",
              "      <th>UserId</th>\n",
              "    </tr>\n",
              "  </thead>\n",
              "  <tbody>\n",
              "  </tbody>\n",
              "</table>\n",
              "</div>"
            ],
            "text/plain": [
              "Empty DataFrame\n",
              "Columns: [UserId]\n",
              "Index: []"
            ]
          },
          "metadata": {
            "tags": []
          },
          "execution_count": 15
        }
      ]
    },
    {
      "cell_type": "code",
      "metadata": {
        "colab": {
          "base_uri": "https://localhost:8080/"
        },
        "id": "v2RiyrpiS6gA",
        "outputId": "1ad016f6-423f-4db7-84ca-251f63c03241"
      },
      "source": [
        "print('# of interactions: %d' % len(df))\r\n",
        "interactions_from_selected_users_df = df.merge(users_with_enough_interactions_df, \r\n",
        "               how = 'right',\r\n",
        "               left_on = 'UserId',\r\n",
        "               right_on = 'UserId')\r\n",
        "print('# of interactions from users with at least 5 interactions: %d' % len(interactions_from_selected_users_df))"
      ],
      "execution_count": null,
      "outputs": [
        {
          "output_type": "stream",
          "text": [
            "# of interactions: 2023070\n",
            "# of interactions from users with at least 5 interactions: 469771\n"
          ],
          "name": "stdout"
        }
      ]
    },
    {
      "cell_type": "code",
      "metadata": {
        "colab": {
          "base_uri": "https://localhost:8080/",
          "height": 335
        },
        "id": "oUIzU0u9TlYB",
        "outputId": "3005e418-a80c-496f-d326-d7e560aa8145"
      },
      "source": [
        "interactions_from_selected_users_df.head(10)"
      ],
      "execution_count": null,
      "outputs": [
        {
          "output_type": "execute_result",
          "data": {
            "text/html": [
              "<div>\n",
              "<style scoped>\n",
              "    .dataframe tbody tr th:only-of-type {\n",
              "        vertical-align: middle;\n",
              "    }\n",
              "\n",
              "    .dataframe tbody tr th {\n",
              "        vertical-align: top;\n",
              "    }\n",
              "\n",
              "    .dataframe thead th {\n",
              "        text-align: right;\n",
              "    }\n",
              "</style>\n",
              "<table border=\"1\" class=\"dataframe\">\n",
              "  <thead>\n",
              "    <tr style=\"text-align: right;\">\n",
              "      <th></th>\n",
              "      <th>UserId</th>\n",
              "      <th>ProductId</th>\n",
              "      <th>Rating</th>\n",
              "      <th>Timestamp</th>\n",
              "    </tr>\n",
              "  </thead>\n",
              "  <tbody>\n",
              "    <tr>\n",
              "      <th>0</th>\n",
              "      <td>A00414041RD0BXM6WK0GX</td>\n",
              "      <td>B007IY97U0</td>\n",
              "      <td>3.0</td>\n",
              "      <td>1405296000</td>\n",
              "    </tr>\n",
              "    <tr>\n",
              "      <th>1</th>\n",
              "      <td>A00414041RD0BXM6WK0GX</td>\n",
              "      <td>B00870XLDS</td>\n",
              "      <td>2.0</td>\n",
              "      <td>1405296000</td>\n",
              "    </tr>\n",
              "    <tr>\n",
              "      <th>2</th>\n",
              "      <td>A00414041RD0BXM6WK0GX</td>\n",
              "      <td>B008MIRO88</td>\n",
              "      <td>1.0</td>\n",
              "      <td>1405296000</td>\n",
              "    </tr>\n",
              "    <tr>\n",
              "      <th>3</th>\n",
              "      <td>A00414041RD0BXM6WK0GX</td>\n",
              "      <td>B00BQYYMN0</td>\n",
              "      <td>3.0</td>\n",
              "      <td>1405296000</td>\n",
              "    </tr>\n",
              "    <tr>\n",
              "      <th>4</th>\n",
              "      <td>A00414041RD0BXM6WK0GX</td>\n",
              "      <td>B00GRTQBTM</td>\n",
              "      <td>5.0</td>\n",
              "      <td>1405296000</td>\n",
              "    </tr>\n",
              "    <tr>\n",
              "      <th>5</th>\n",
              "      <td>A00414041RD0BXM6WK0GX</td>\n",
              "      <td>B00HFP4JZU</td>\n",
              "      <td>5.0</td>\n",
              "      <td>1405296000</td>\n",
              "    </tr>\n",
              "    <tr>\n",
              "      <th>6</th>\n",
              "      <td>A00414041RD0BXM6WK0GX</td>\n",
              "      <td>B00JM8Z52O</td>\n",
              "      <td>4.0</td>\n",
              "      <td>1405296000</td>\n",
              "    </tr>\n",
              "    <tr>\n",
              "      <th>7</th>\n",
              "      <td>A00473363TJ8YSZ3YAGG9</td>\n",
              "      <td>B000052YQU</td>\n",
              "      <td>2.0</td>\n",
              "      <td>1402790400</td>\n",
              "    </tr>\n",
              "    <tr>\n",
              "      <th>8</th>\n",
              "      <td>A00473363TJ8YSZ3YAGG9</td>\n",
              "      <td>B00016XA0K</td>\n",
              "      <td>3.0</td>\n",
              "      <td>1399593600</td>\n",
              "    </tr>\n",
              "    <tr>\n",
              "      <th>9</th>\n",
              "      <td>A00473363TJ8YSZ3YAGG9</td>\n",
              "      <td>B000FABN7E</td>\n",
              "      <td>5.0</td>\n",
              "      <td>1357430400</td>\n",
              "    </tr>\n",
              "  </tbody>\n",
              "</table>\n",
              "</div>"
            ],
            "text/plain": [
              "                  UserId   ProductId  Rating   Timestamp\n",
              "0  A00414041RD0BXM6WK0GX  B007IY97U0     3.0  1405296000\n",
              "1  A00414041RD0BXM6WK0GX  B00870XLDS     2.0  1405296000\n",
              "2  A00414041RD0BXM6WK0GX  B008MIRO88     1.0  1405296000\n",
              "3  A00414041RD0BXM6WK0GX  B00BQYYMN0     3.0  1405296000\n",
              "4  A00414041RD0BXM6WK0GX  B00GRTQBTM     5.0  1405296000\n",
              "5  A00414041RD0BXM6WK0GX  B00HFP4JZU     5.0  1405296000\n",
              "6  A00414041RD0BXM6WK0GX  B00JM8Z52O     4.0  1405296000\n",
              "7  A00473363TJ8YSZ3YAGG9  B000052YQU     2.0  1402790400\n",
              "8  A00473363TJ8YSZ3YAGG9  B00016XA0K     3.0  1399593600\n",
              "9  A00473363TJ8YSZ3YAGG9  B000FABN7E     5.0  1357430400"
            ]
          },
          "metadata": {
            "tags": []
          },
          "execution_count": 17
        }
      ]
    },
    {
      "cell_type": "code",
      "metadata": {
        "colab": {
          "base_uri": "https://localhost:8080/",
          "height": 47
        },
        "id": "cOlCax5nTze_",
        "outputId": "5c14671d-3a91-43d5-b427-a2f5d3b5b5aa"
      },
      "source": [
        "interactions_from_selected_users_df[interactions_from_selected_users_df['UserId']=='A27TKCMDYFCFOY']"
      ],
      "execution_count": null,
      "outputs": [
        {
          "output_type": "execute_result",
          "data": {
            "text/html": [
              "<div>\n",
              "<style scoped>\n",
              "    .dataframe tbody tr th:only-of-type {\n",
              "        vertical-align: middle;\n",
              "    }\n",
              "\n",
              "    .dataframe tbody tr th {\n",
              "        vertical-align: top;\n",
              "    }\n",
              "\n",
              "    .dataframe thead th {\n",
              "        text-align: right;\n",
              "    }\n",
              "</style>\n",
              "<table border=\"1\" class=\"dataframe\">\n",
              "  <thead>\n",
              "    <tr style=\"text-align: right;\">\n",
              "      <th></th>\n",
              "      <th>UserId</th>\n",
              "      <th>ProductId</th>\n",
              "      <th>Rating</th>\n",
              "      <th>Timestamp</th>\n",
              "    </tr>\n",
              "  </thead>\n",
              "  <tbody>\n",
              "  </tbody>\n",
              "</table>\n",
              "</div>"
            ],
            "text/plain": [
              "Empty DataFrame\n",
              "Columns: [UserId, ProductId, Rating, Timestamp]\n",
              "Index: []"
            ]
          },
          "metadata": {
            "tags": []
          },
          "execution_count": 23
        }
      ]
    },
    {
      "cell_type": "markdown",
      "metadata": {
        "id": "y0mnh_hMgQhn"
      },
      "source": [
        "#Collaborative Filtering"
      ]
    },
    {
      "cell_type": "markdown",
      "metadata": {
        "id": "LgkqVDcWfHLd"
      },
      "source": [
        "## <u><b> Collaborative Filtering </b></u> \r\n",
        "\r\n",
        "This method makes automatic predictions (filtering) about the interests of a user by collecting preferences or taste information from many users (collaborating). The underlying assumption of the collaborative filtering approach is that if a person A has the same opinion as a person B on a set of items, A is more likely to have B's opinion for a given item than that of a randomly chosen person.   \r\n",
        "\r\n"
      ]
    },
    {
      "cell_type": "code",
      "metadata": {
        "colab": {
          "base_uri": "https://localhost:8080/",
          "height": 191
        },
        "id": "7Ky1F_6-fw7L",
        "outputId": "70190a4b-db3e-4cb6-b7e7-dd2452cdfb10"
      },
      "source": [
        "review_df.head()"
      ],
      "execution_count": 19,
      "outputs": [
        {
          "output_type": "execute_result",
          "data": {
            "text/html": [
              "<div>\n",
              "<style scoped>\n",
              "    .dataframe tbody tr th:only-of-type {\n",
              "        vertical-align: middle;\n",
              "    }\n",
              "\n",
              "    .dataframe tbody tr th {\n",
              "        vertical-align: top;\n",
              "    }\n",
              "\n",
              "    .dataframe thead th {\n",
              "        text-align: right;\n",
              "    }\n",
              "</style>\n",
              "<table border=\"1\" class=\"dataframe\">\n",
              "  <thead>\n",
              "    <tr style=\"text-align: right;\">\n",
              "      <th></th>\n",
              "      <th>reviewerID</th>\n",
              "      <th>asin</th>\n",
              "      <th>reviewerName</th>\n",
              "      <th>helpful</th>\n",
              "      <th>reviewText</th>\n",
              "      <th>overall</th>\n",
              "      <th>summary</th>\n",
              "      <th>unixReviewTime</th>\n",
              "      <th>reviewTime</th>\n",
              "    </tr>\n",
              "  </thead>\n",
              "  <tbody>\n",
              "    <tr>\n",
              "      <th>0</th>\n",
              "      <td>A1YJEY40YUW4SE</td>\n",
              "      <td>7806397051</td>\n",
              "      <td>Andrea</td>\n",
              "      <td>[3, 4]</td>\n",
              "      <td>Very oily and creamy. Not at all what I expect...</td>\n",
              "      <td>1</td>\n",
              "      <td>Don't waste your money</td>\n",
              "      <td>1391040000</td>\n",
              "      <td>01 30, 2014</td>\n",
              "    </tr>\n",
              "    <tr>\n",
              "      <th>1</th>\n",
              "      <td>A60XNB876KYML</td>\n",
              "      <td>7806397051</td>\n",
              "      <td>Jessica H.</td>\n",
              "      <td>[1, 1]</td>\n",
              "      <td>This palette was a decent price and I was look...</td>\n",
              "      <td>3</td>\n",
              "      <td>OK Palette!</td>\n",
              "      <td>1397779200</td>\n",
              "      <td>04 18, 2014</td>\n",
              "    </tr>\n",
              "    <tr>\n",
              "      <th>2</th>\n",
              "      <td>A3G6XNM240RMWA</td>\n",
              "      <td>7806397051</td>\n",
              "      <td>Karen</td>\n",
              "      <td>[0, 1]</td>\n",
              "      <td>The texture of this concealer pallet is fantas...</td>\n",
              "      <td>4</td>\n",
              "      <td>great quality</td>\n",
              "      <td>1378425600</td>\n",
              "      <td>09 6, 2013</td>\n",
              "    </tr>\n",
              "    <tr>\n",
              "      <th>3</th>\n",
              "      <td>A1PQFP6SAJ6D80</td>\n",
              "      <td>7806397051</td>\n",
              "      <td>Norah</td>\n",
              "      <td>[2, 2]</td>\n",
              "      <td>I really can't tell what exactly this thing is...</td>\n",
              "      <td>2</td>\n",
              "      <td>Do not work on my face</td>\n",
              "      <td>1386460800</td>\n",
              "      <td>12 8, 2013</td>\n",
              "    </tr>\n",
              "    <tr>\n",
              "      <th>4</th>\n",
              "      <td>A38FVHZTNQ271F</td>\n",
              "      <td>7806397051</td>\n",
              "      <td>Nova Amor</td>\n",
              "      <td>[0, 0]</td>\n",
              "      <td>It was a little smaller than I expected, but t...</td>\n",
              "      <td>3</td>\n",
              "      <td>It's okay.</td>\n",
              "      <td>1382140800</td>\n",
              "      <td>10 19, 2013</td>\n",
              "    </tr>\n",
              "  </tbody>\n",
              "</table>\n",
              "</div>"
            ],
            "text/plain": [
              "       reviewerID        asin  ... unixReviewTime   reviewTime\n",
              "0  A1YJEY40YUW4SE  7806397051  ...     1391040000  01 30, 2014\n",
              "1   A60XNB876KYML  7806397051  ...     1397779200  04 18, 2014\n",
              "2  A3G6XNM240RMWA  7806397051  ...     1378425600   09 6, 2013\n",
              "3  A1PQFP6SAJ6D80  7806397051  ...     1386460800   12 8, 2013\n",
              "4  A38FVHZTNQ271F  7806397051  ...     1382140800  10 19, 2013\n",
              "\n",
              "[5 rows x 9 columns]"
            ]
          },
          "metadata": {
            "tags": []
          },
          "execution_count": 19
        }
      ]
    },
    {
      "cell_type": "code",
      "metadata": {
        "colab": {
          "base_uri": "https://localhost:8080/"
        },
        "id": "c5l9k8JSRcD6",
        "outputId": "73324641-8073-4722-d7a7-fefa19d95db1"
      },
      "source": [
        "review_df.shape"
      ],
      "execution_count": 20,
      "outputs": [
        {
          "output_type": "execute_result",
          "data": {
            "text/plain": [
              "(198502, 9)"
            ]
          },
          "metadata": {
            "tags": []
          },
          "execution_count": 20
        }
      ]
    },
    {
      "cell_type": "code",
      "metadata": {
        "colab": {
          "base_uri": "https://localhost:8080/",
          "height": 391
        },
        "id": "IfuSdlWuLFej",
        "outputId": "cfc5a700-9cfc-42e8-fce4-da1a779d8ddd"
      },
      "source": [
        "count = review_df.groupby(\"asin\", as_index=False).count()\r\n",
        "count"
      ],
      "execution_count": 71,
      "outputs": [
        {
          "output_type": "execute_result",
          "data": {
            "text/html": [
              "<div>\n",
              "<style scoped>\n",
              "    .dataframe tbody tr th:only-of-type {\n",
              "        vertical-align: middle;\n",
              "    }\n",
              "\n",
              "    .dataframe tbody tr th {\n",
              "        vertical-align: top;\n",
              "    }\n",
              "\n",
              "    .dataframe thead th {\n",
              "        text-align: right;\n",
              "    }\n",
              "</style>\n",
              "<table border=\"1\" class=\"dataframe\">\n",
              "  <thead>\n",
              "    <tr style=\"text-align: right;\">\n",
              "      <th></th>\n",
              "      <th>asin</th>\n",
              "      <th>reviewerID</th>\n",
              "      <th>reviewerName</th>\n",
              "      <th>helpful</th>\n",
              "      <th>reviewText</th>\n",
              "      <th>overall</th>\n",
              "      <th>summary</th>\n",
              "      <th>unixReviewTime</th>\n",
              "      <th>reviewTime</th>\n",
              "    </tr>\n",
              "  </thead>\n",
              "  <tbody>\n",
              "    <tr>\n",
              "      <th>0</th>\n",
              "      <td>7806397051</td>\n",
              "      <td>8</td>\n",
              "      <td>8</td>\n",
              "      <td>8</td>\n",
              "      <td>8</td>\n",
              "      <td>8</td>\n",
              "      <td>8</td>\n",
              "      <td>8</td>\n",
              "      <td>8</td>\n",
              "    </tr>\n",
              "    <tr>\n",
              "      <th>1</th>\n",
              "      <td>9759091062</td>\n",
              "      <td>11</td>\n",
              "      <td>10</td>\n",
              "      <td>11</td>\n",
              "      <td>11</td>\n",
              "      <td>11</td>\n",
              "      <td>11</td>\n",
              "      <td>11</td>\n",
              "      <td>11</td>\n",
              "    </tr>\n",
              "    <tr>\n",
              "      <th>2</th>\n",
              "      <td>9788072216</td>\n",
              "      <td>5</td>\n",
              "      <td>5</td>\n",
              "      <td>5</td>\n",
              "      <td>5</td>\n",
              "      <td>5</td>\n",
              "      <td>5</td>\n",
              "      <td>5</td>\n",
              "      <td>5</td>\n",
              "    </tr>\n",
              "    <tr>\n",
              "      <th>3</th>\n",
              "      <td>9790790961</td>\n",
              "      <td>6</td>\n",
              "      <td>6</td>\n",
              "      <td>6</td>\n",
              "      <td>6</td>\n",
              "      <td>6</td>\n",
              "      <td>6</td>\n",
              "      <td>6</td>\n",
              "      <td>6</td>\n",
              "    </tr>\n",
              "    <tr>\n",
              "      <th>4</th>\n",
              "      <td>9790794231</td>\n",
              "      <td>5</td>\n",
              "      <td>5</td>\n",
              "      <td>5</td>\n",
              "      <td>5</td>\n",
              "      <td>5</td>\n",
              "      <td>5</td>\n",
              "      <td>5</td>\n",
              "      <td>5</td>\n",
              "    </tr>\n",
              "    <tr>\n",
              "      <th>...</th>\n",
              "      <td>...</td>\n",
              "      <td>...</td>\n",
              "      <td>...</td>\n",
              "      <td>...</td>\n",
              "      <td>...</td>\n",
              "      <td>...</td>\n",
              "      <td>...</td>\n",
              "      <td>...</td>\n",
              "      <td>...</td>\n",
              "    </tr>\n",
              "    <tr>\n",
              "      <th>12096</th>\n",
              "      <td>B00L5KTZ0K</td>\n",
              "      <td>15</td>\n",
              "      <td>15</td>\n",
              "      <td>15</td>\n",
              "      <td>15</td>\n",
              "      <td>15</td>\n",
              "      <td>15</td>\n",
              "      <td>15</td>\n",
              "      <td>15</td>\n",
              "    </tr>\n",
              "    <tr>\n",
              "      <th>12097</th>\n",
              "      <td>B00L6Q3BH6</td>\n",
              "      <td>5</td>\n",
              "      <td>5</td>\n",
              "      <td>5</td>\n",
              "      <td>5</td>\n",
              "      <td>5</td>\n",
              "      <td>5</td>\n",
              "      <td>5</td>\n",
              "      <td>5</td>\n",
              "    </tr>\n",
              "    <tr>\n",
              "      <th>12098</th>\n",
              "      <td>B00LCEROA2</td>\n",
              "      <td>9</td>\n",
              "      <td>9</td>\n",
              "      <td>9</td>\n",
              "      <td>9</td>\n",
              "      <td>9</td>\n",
              "      <td>9</td>\n",
              "      <td>9</td>\n",
              "      <td>9</td>\n",
              "    </tr>\n",
              "    <tr>\n",
              "      <th>12099</th>\n",
              "      <td>B00LG63DOM</td>\n",
              "      <td>10</td>\n",
              "      <td>10</td>\n",
              "      <td>10</td>\n",
              "      <td>10</td>\n",
              "      <td>10</td>\n",
              "      <td>10</td>\n",
              "      <td>10</td>\n",
              "      <td>10</td>\n",
              "    </tr>\n",
              "    <tr>\n",
              "      <th>12100</th>\n",
              "      <td>B00LLPT4HI</td>\n",
              "      <td>7</td>\n",
              "      <td>7</td>\n",
              "      <td>7</td>\n",
              "      <td>7</td>\n",
              "      <td>7</td>\n",
              "      <td>7</td>\n",
              "      <td>7</td>\n",
              "      <td>7</td>\n",
              "    </tr>\n",
              "  </tbody>\n",
              "</table>\n",
              "<p>12101 rows × 9 columns</p>\n",
              "</div>"
            ],
            "text/plain": [
              "             asin  reviewerID  ...  unixReviewTime  reviewTime\n",
              "0      7806397051           8  ...               8           8\n",
              "1      9759091062          11  ...              11          11\n",
              "2      9788072216           5  ...               5           5\n",
              "3      9790790961           6  ...               6           6\n",
              "4      9790794231           5  ...               5           5\n",
              "...           ...         ...  ...             ...         ...\n",
              "12096  B00L5KTZ0K          15  ...              15          15\n",
              "12097  B00L6Q3BH6           5  ...               5           5\n",
              "12098  B00LCEROA2           9  ...               9           9\n",
              "12099  B00LG63DOM          10  ...              10          10\n",
              "12100  B00LLPT4HI           7  ...               7           7\n",
              "\n",
              "[12101 rows x 9 columns]"
            ]
          },
          "metadata": {
            "tags": []
          },
          "execution_count": 71
        }
      ]
    },
    {
      "cell_type": "code",
      "metadata": {
        "id": "z7VpEZLJRb57",
        "colab": {
          "base_uri": "https://localhost:8080/",
          "height": 391
        },
        "outputId": "6cb7021a-4e52-471c-fd30-16b172b2c110"
      },
      "source": [
        "count.drop(['reviewerName'\t,'helpful'\t,'reviewText','unixReviewTime'\t,'reviewTime'],axis=1,inplace=True)\r\n",
        "count"
      ],
      "execution_count": 72,
      "outputs": [
        {
          "output_type": "execute_result",
          "data": {
            "text/html": [
              "<div>\n",
              "<style scoped>\n",
              "    .dataframe tbody tr th:only-of-type {\n",
              "        vertical-align: middle;\n",
              "    }\n",
              "\n",
              "    .dataframe tbody tr th {\n",
              "        vertical-align: top;\n",
              "    }\n",
              "\n",
              "    .dataframe thead th {\n",
              "        text-align: right;\n",
              "    }\n",
              "</style>\n",
              "<table border=\"1\" class=\"dataframe\">\n",
              "  <thead>\n",
              "    <tr style=\"text-align: right;\">\n",
              "      <th></th>\n",
              "      <th>asin</th>\n",
              "      <th>reviewerID</th>\n",
              "      <th>overall</th>\n",
              "      <th>summary</th>\n",
              "    </tr>\n",
              "  </thead>\n",
              "  <tbody>\n",
              "    <tr>\n",
              "      <th>0</th>\n",
              "      <td>7806397051</td>\n",
              "      <td>8</td>\n",
              "      <td>8</td>\n",
              "      <td>8</td>\n",
              "    </tr>\n",
              "    <tr>\n",
              "      <th>1</th>\n",
              "      <td>9759091062</td>\n",
              "      <td>11</td>\n",
              "      <td>11</td>\n",
              "      <td>11</td>\n",
              "    </tr>\n",
              "    <tr>\n",
              "      <th>2</th>\n",
              "      <td>9788072216</td>\n",
              "      <td>5</td>\n",
              "      <td>5</td>\n",
              "      <td>5</td>\n",
              "    </tr>\n",
              "    <tr>\n",
              "      <th>3</th>\n",
              "      <td>9790790961</td>\n",
              "      <td>6</td>\n",
              "      <td>6</td>\n",
              "      <td>6</td>\n",
              "    </tr>\n",
              "    <tr>\n",
              "      <th>4</th>\n",
              "      <td>9790794231</td>\n",
              "      <td>5</td>\n",
              "      <td>5</td>\n",
              "      <td>5</td>\n",
              "    </tr>\n",
              "    <tr>\n",
              "      <th>...</th>\n",
              "      <td>...</td>\n",
              "      <td>...</td>\n",
              "      <td>...</td>\n",
              "      <td>...</td>\n",
              "    </tr>\n",
              "    <tr>\n",
              "      <th>12096</th>\n",
              "      <td>B00L5KTZ0K</td>\n",
              "      <td>15</td>\n",
              "      <td>15</td>\n",
              "      <td>15</td>\n",
              "    </tr>\n",
              "    <tr>\n",
              "      <th>12097</th>\n",
              "      <td>B00L6Q3BH6</td>\n",
              "      <td>5</td>\n",
              "      <td>5</td>\n",
              "      <td>5</td>\n",
              "    </tr>\n",
              "    <tr>\n",
              "      <th>12098</th>\n",
              "      <td>B00LCEROA2</td>\n",
              "      <td>9</td>\n",
              "      <td>9</td>\n",
              "      <td>9</td>\n",
              "    </tr>\n",
              "    <tr>\n",
              "      <th>12099</th>\n",
              "      <td>B00LG63DOM</td>\n",
              "      <td>10</td>\n",
              "      <td>10</td>\n",
              "      <td>10</td>\n",
              "    </tr>\n",
              "    <tr>\n",
              "      <th>12100</th>\n",
              "      <td>B00LLPT4HI</td>\n",
              "      <td>7</td>\n",
              "      <td>7</td>\n",
              "      <td>7</td>\n",
              "    </tr>\n",
              "  </tbody>\n",
              "</table>\n",
              "<p>12101 rows × 4 columns</p>\n",
              "</div>"
            ],
            "text/plain": [
              "             asin  reviewerID  overall  summary\n",
              "0      7806397051           8        8        8\n",
              "1      9759091062          11       11       11\n",
              "2      9788072216           5        5        5\n",
              "3      9790790961           6        6        6\n",
              "4      9790794231           5        5        5\n",
              "...           ...         ...      ...      ...\n",
              "12096  B00L5KTZ0K          15       15       15\n",
              "12097  B00L6Q3BH6           5        5        5\n",
              "12098  B00LCEROA2           9        9        9\n",
              "12099  B00LG63DOM          10       10       10\n",
              "12100  B00LLPT4HI           7        7        7\n",
              "\n",
              "[12101 rows x 4 columns]"
            ]
          },
          "metadata": {
            "tags": []
          },
          "execution_count": 72
        }
      ]
    },
    {
      "cell_type": "code",
      "metadata": {
        "colab": {
          "base_uri": "https://localhost:8080/",
          "height": 553
        },
        "id": "eiv4q1LLH11b",
        "outputId": "45f525d7-6272-47e8-ade0-cf9066f5d21b"
      },
      "source": [
        "dfMerged = pd.merge(review_df, count, on=['asin'])\r\n",
        "dfMerged"
      ],
      "execution_count": 73,
      "outputs": [
        {
          "output_type": "execute_result",
          "data": {
            "text/html": [
              "<div>\n",
              "<style scoped>\n",
              "    .dataframe tbody tr th:only-of-type {\n",
              "        vertical-align: middle;\n",
              "    }\n",
              "\n",
              "    .dataframe tbody tr th {\n",
              "        vertical-align: top;\n",
              "    }\n",
              "\n",
              "    .dataframe thead th {\n",
              "        text-align: right;\n",
              "    }\n",
              "</style>\n",
              "<table border=\"1\" class=\"dataframe\">\n",
              "  <thead>\n",
              "    <tr style=\"text-align: right;\">\n",
              "      <th></th>\n",
              "      <th>reviewerID_x</th>\n",
              "      <th>asin</th>\n",
              "      <th>reviewerName</th>\n",
              "      <th>helpful</th>\n",
              "      <th>reviewText</th>\n",
              "      <th>overall_x</th>\n",
              "      <th>summary_x</th>\n",
              "      <th>unixReviewTime</th>\n",
              "      <th>reviewTime</th>\n",
              "      <th>reviewerID_y</th>\n",
              "      <th>overall_y</th>\n",
              "      <th>summary_y</th>\n",
              "    </tr>\n",
              "  </thead>\n",
              "  <tbody>\n",
              "    <tr>\n",
              "      <th>0</th>\n",
              "      <td>A1YJEY40YUW4SE</td>\n",
              "      <td>7806397051</td>\n",
              "      <td>Andrea</td>\n",
              "      <td>[3, 4]</td>\n",
              "      <td>Very oily and creamy. Not at all what I expect...</td>\n",
              "      <td>1</td>\n",
              "      <td>Don't waste your money</td>\n",
              "      <td>1391040000</td>\n",
              "      <td>01 30, 2014</td>\n",
              "      <td>8</td>\n",
              "      <td>8</td>\n",
              "      <td>8</td>\n",
              "    </tr>\n",
              "    <tr>\n",
              "      <th>1</th>\n",
              "      <td>A60XNB876KYML</td>\n",
              "      <td>7806397051</td>\n",
              "      <td>Jessica H.</td>\n",
              "      <td>[1, 1]</td>\n",
              "      <td>This palette was a decent price and I was look...</td>\n",
              "      <td>3</td>\n",
              "      <td>OK Palette!</td>\n",
              "      <td>1397779200</td>\n",
              "      <td>04 18, 2014</td>\n",
              "      <td>8</td>\n",
              "      <td>8</td>\n",
              "      <td>8</td>\n",
              "    </tr>\n",
              "    <tr>\n",
              "      <th>2</th>\n",
              "      <td>A3G6XNM240RMWA</td>\n",
              "      <td>7806397051</td>\n",
              "      <td>Karen</td>\n",
              "      <td>[0, 1]</td>\n",
              "      <td>The texture of this concealer pallet is fantas...</td>\n",
              "      <td>4</td>\n",
              "      <td>great quality</td>\n",
              "      <td>1378425600</td>\n",
              "      <td>09 6, 2013</td>\n",
              "      <td>8</td>\n",
              "      <td>8</td>\n",
              "      <td>8</td>\n",
              "    </tr>\n",
              "    <tr>\n",
              "      <th>3</th>\n",
              "      <td>A1PQFP6SAJ6D80</td>\n",
              "      <td>7806397051</td>\n",
              "      <td>Norah</td>\n",
              "      <td>[2, 2]</td>\n",
              "      <td>I really can't tell what exactly this thing is...</td>\n",
              "      <td>2</td>\n",
              "      <td>Do not work on my face</td>\n",
              "      <td>1386460800</td>\n",
              "      <td>12 8, 2013</td>\n",
              "      <td>8</td>\n",
              "      <td>8</td>\n",
              "      <td>8</td>\n",
              "    </tr>\n",
              "    <tr>\n",
              "      <th>4</th>\n",
              "      <td>A38FVHZTNQ271F</td>\n",
              "      <td>7806397051</td>\n",
              "      <td>Nova Amor</td>\n",
              "      <td>[0, 0]</td>\n",
              "      <td>It was a little smaller than I expected, but t...</td>\n",
              "      <td>3</td>\n",
              "      <td>It's okay.</td>\n",
              "      <td>1382140800</td>\n",
              "      <td>10 19, 2013</td>\n",
              "      <td>8</td>\n",
              "      <td>8</td>\n",
              "      <td>8</td>\n",
              "    </tr>\n",
              "    <tr>\n",
              "      <th>...</th>\n",
              "      <td>...</td>\n",
              "      <td>...</td>\n",
              "      <td>...</td>\n",
              "      <td>...</td>\n",
              "      <td>...</td>\n",
              "      <td>...</td>\n",
              "      <td>...</td>\n",
              "      <td>...</td>\n",
              "      <td>...</td>\n",
              "      <td>...</td>\n",
              "      <td>...</td>\n",
              "      <td>...</td>\n",
              "    </tr>\n",
              "    <tr>\n",
              "      <th>198497</th>\n",
              "      <td>A2BLFCOPSMBOZ9</td>\n",
              "      <td>B00LLPT4HI</td>\n",
              "      <td>Dave Edmiston</td>\n",
              "      <td>[0, 0]</td>\n",
              "      <td>Just a little dab of this shea butter should b...</td>\n",
              "      <td>5</td>\n",
              "      <td>A little dab...</td>\n",
              "      <td>1405468800</td>\n",
              "      <td>07 16, 2014</td>\n",
              "      <td>7</td>\n",
              "      <td>7</td>\n",
              "      <td>7</td>\n",
              "    </tr>\n",
              "    <tr>\n",
              "      <th>198498</th>\n",
              "      <td>A1UQBFCERIP7VJ</td>\n",
              "      <td>B00LLPT4HI</td>\n",
              "      <td>Margaret Picky</td>\n",
              "      <td>[0, 0]</td>\n",
              "      <td>This shea butter is completely raw and unrefin...</td>\n",
              "      <td>5</td>\n",
              "      <td>Pure organic raw shea butter</td>\n",
              "      <td>1405296000</td>\n",
              "      <td>07 14, 2014</td>\n",
              "      <td>7</td>\n",
              "      <td>7</td>\n",
              "      <td>7</td>\n",
              "    </tr>\n",
              "    <tr>\n",
              "      <th>198499</th>\n",
              "      <td>A35Q0RBM3YNQNF</td>\n",
              "      <td>B00LLPT4HI</td>\n",
              "      <td>M. Hill</td>\n",
              "      <td>[0, 0]</td>\n",
              "      <td>The skin is the body's largest organ and it ab...</td>\n",
              "      <td>5</td>\n",
              "      <td>One Pound Organic Grade A Unrefined Shea Butter</td>\n",
              "      <td>1405468800</td>\n",
              "      <td>07 16, 2014</td>\n",
              "      <td>7</td>\n",
              "      <td>7</td>\n",
              "      <td>7</td>\n",
              "    </tr>\n",
              "    <tr>\n",
              "      <th>198500</th>\n",
              "      <td>A3LGT6UZL99IW1</td>\n",
              "      <td>B00LLPT4HI</td>\n",
              "      <td>Richard C. Drew \"Anaal Nathra/Uthe vas Bethod...</td>\n",
              "      <td>[0, 0]</td>\n",
              "      <td>I have very dry elbows and knees.  I have a to...</td>\n",
              "      <td>5</td>\n",
              "      <td>This stuff is amazing!</td>\n",
              "      <td>1405382400</td>\n",
              "      <td>07 15, 2014</td>\n",
              "      <td>7</td>\n",
              "      <td>7</td>\n",
              "      <td>7</td>\n",
              "    </tr>\n",
              "    <tr>\n",
              "      <th>198501</th>\n",
              "      <td>A3UJRNI8UR4871</td>\n",
              "      <td>B00LLPT4HI</td>\n",
              "      <td>Wulfstan \"wulfstan\"</td>\n",
              "      <td>[0, 1]</td>\n",
              "      <td>This is 100% pure Shea Butter. Do not mistake ...</td>\n",
              "      <td>5</td>\n",
              "      <td>The \"Real Stuff\"!</td>\n",
              "      <td>1405987200</td>\n",
              "      <td>07 22, 2014</td>\n",
              "      <td>7</td>\n",
              "      <td>7</td>\n",
              "      <td>7</td>\n",
              "    </tr>\n",
              "  </tbody>\n",
              "</table>\n",
              "<p>198502 rows × 12 columns</p>\n",
              "</div>"
            ],
            "text/plain": [
              "          reviewerID_x        asin  ... overall_y summary_y\n",
              "0       A1YJEY40YUW4SE  7806397051  ...         8         8\n",
              "1        A60XNB876KYML  7806397051  ...         8         8\n",
              "2       A3G6XNM240RMWA  7806397051  ...         8         8\n",
              "3       A1PQFP6SAJ6D80  7806397051  ...         8         8\n",
              "4       A38FVHZTNQ271F  7806397051  ...         8         8\n",
              "...                ...         ...  ...       ...       ...\n",
              "198497  A2BLFCOPSMBOZ9  B00LLPT4HI  ...         7         7\n",
              "198498  A1UQBFCERIP7VJ  B00LLPT4HI  ...         7         7\n",
              "198499  A35Q0RBM3YNQNF  B00LLPT4HI  ...         7         7\n",
              "198500  A3LGT6UZL99IW1  B00LLPT4HI  ...         7         7\n",
              "198501  A3UJRNI8UR4871  B00LLPT4HI  ...         7         7\n",
              "\n",
              "[198502 rows x 12 columns]"
            ]
          },
          "metadata": {
            "tags": []
          },
          "execution_count": 73
        }
      ]
    },
    {
      "cell_type": "code",
      "metadata": {
        "colab": {
          "base_uri": "https://localhost:8080/",
          "height": 47
        },
        "id": "oMq5eUr5ZHc5",
        "outputId": "b217800f-de35-4a3a-ef38-ed778e3ef7d6"
      },
      "source": [
        "dfMerged[dfMerged['reviewerID_y']<5]"
      ],
      "execution_count": 74,
      "outputs": [
        {
          "output_type": "execute_result",
          "data": {
            "text/html": [
              "<div>\n",
              "<style scoped>\n",
              "    .dataframe tbody tr th:only-of-type {\n",
              "        vertical-align: middle;\n",
              "    }\n",
              "\n",
              "    .dataframe tbody tr th {\n",
              "        vertical-align: top;\n",
              "    }\n",
              "\n",
              "    .dataframe thead th {\n",
              "        text-align: right;\n",
              "    }\n",
              "</style>\n",
              "<table border=\"1\" class=\"dataframe\">\n",
              "  <thead>\n",
              "    <tr style=\"text-align: right;\">\n",
              "      <th></th>\n",
              "      <th>reviewerID_x</th>\n",
              "      <th>asin</th>\n",
              "      <th>reviewerName</th>\n",
              "      <th>helpful</th>\n",
              "      <th>reviewText</th>\n",
              "      <th>overall_x</th>\n",
              "      <th>summary_x</th>\n",
              "      <th>unixReviewTime</th>\n",
              "      <th>reviewTime</th>\n",
              "      <th>reviewerID_y</th>\n",
              "      <th>overall_y</th>\n",
              "      <th>summary_y</th>\n",
              "    </tr>\n",
              "  </thead>\n",
              "  <tbody>\n",
              "  </tbody>\n",
              "</table>\n",
              "</div>"
            ],
            "text/plain": [
              "Empty DataFrame\n",
              "Columns: [reviewerID_x, asin, reviewerName, helpful, reviewText, overall_x, summary_x, unixReviewTime, reviewTime, reviewerID_y, overall_y, summary_y]\n",
              "Index: []"
            ]
          },
          "metadata": {
            "tags": []
          },
          "execution_count": 74
        }
      ]
    },
    {
      "cell_type": "code",
      "metadata": {
        "id": "pLvIGrLNRbvl"
      },
      "source": [
        "#rename column\r\n",
        "dfMerged[\"totalReviewers\"] = dfMerged[\"reviewerID_y\"]\r\n",
        "dfMerged[\"overallScore\"] = dfMerged[\"overall_x\"]\r\n",
        "dfMerged[\"summaryReview\"] = dfMerged[\"summary_x\"]\r\n",
        "\r\n",
        "dfNew = dfMerged[['asin','summaryReview','overallScore',\"totalReviewers\"]]"
      ],
      "execution_count": 78,
      "outputs": []
    },
    {
      "cell_type": "code",
      "metadata": {
        "colab": {
          "base_uri": "https://localhost:8080/",
          "height": 391
        },
        "id": "MFZCwY-cbcp8",
        "outputId": "151e42a9-a4d9-4e4c-a973-40ecc2cf77d2"
      },
      "source": [
        "dfNew"
      ],
      "execution_count": 79,
      "outputs": [
        {
          "output_type": "execute_result",
          "data": {
            "text/html": [
              "<div>\n",
              "<style scoped>\n",
              "    .dataframe tbody tr th:only-of-type {\n",
              "        vertical-align: middle;\n",
              "    }\n",
              "\n",
              "    .dataframe tbody tr th {\n",
              "        vertical-align: top;\n",
              "    }\n",
              "\n",
              "    .dataframe thead th {\n",
              "        text-align: right;\n",
              "    }\n",
              "</style>\n",
              "<table border=\"1\" class=\"dataframe\">\n",
              "  <thead>\n",
              "    <tr style=\"text-align: right;\">\n",
              "      <th></th>\n",
              "      <th>asin</th>\n",
              "      <th>summaryReview</th>\n",
              "      <th>overallScore</th>\n",
              "      <th>totalReviewers</th>\n",
              "    </tr>\n",
              "  </thead>\n",
              "  <tbody>\n",
              "    <tr>\n",
              "      <th>112506</th>\n",
              "      <td>B004OHQR1Q</td>\n",
              "      <td>crap!</td>\n",
              "      <td>1</td>\n",
              "      <td>431</td>\n",
              "    </tr>\n",
              "    <tr>\n",
              "      <th>112578</th>\n",
              "      <td>B004OHQR1Q</td>\n",
              "      <td>YOU NEED THIS!!</td>\n",
              "      <td>5</td>\n",
              "      <td>431</td>\n",
              "    </tr>\n",
              "    <tr>\n",
              "      <th>112580</th>\n",
              "      <td>B004OHQR1Q</td>\n",
              "      <td>Great product at a very affordable price</td>\n",
              "      <td>5</td>\n",
              "      <td>431</td>\n",
              "    </tr>\n",
              "    <tr>\n",
              "      <th>112581</th>\n",
              "      <td>B004OHQR1Q</td>\n",
              "      <td>Dotting 5 X 2 Way Marbleizing Dotting Pen Set</td>\n",
              "      <td>5</td>\n",
              "      <td>431</td>\n",
              "    </tr>\n",
              "    <tr>\n",
              "      <th>112582</th>\n",
              "      <td>B004OHQR1Q</td>\n",
              "      <td>Love the look.</td>\n",
              "      <td>5</td>\n",
              "      <td>431</td>\n",
              "    </tr>\n",
              "    <tr>\n",
              "      <th>...</th>\n",
              "      <td>...</td>\n",
              "      <td>...</td>\n",
              "      <td>...</td>\n",
              "      <td>...</td>\n",
              "    </tr>\n",
              "    <tr>\n",
              "      <th>117010</th>\n",
              "      <td>B004Y6PDL2</td>\n",
              "      <td>Great price</td>\n",
              "      <td>5</td>\n",
              "      <td>5</td>\n",
              "    </tr>\n",
              "    <tr>\n",
              "      <th>117011</th>\n",
              "      <td>B004Y6PDL2</td>\n",
              "      <td>drying</td>\n",
              "      <td>2</td>\n",
              "      <td>5</td>\n",
              "    </tr>\n",
              "    <tr>\n",
              "      <th>117012</th>\n",
              "      <td>B004Y6PDL2</td>\n",
              "      <td>For the man in your life</td>\n",
              "      <td>5</td>\n",
              "      <td>5</td>\n",
              "    </tr>\n",
              "    <tr>\n",
              "      <th>117013</th>\n",
              "      <td>B004Y6PDL2</td>\n",
              "      <td>so far so good</td>\n",
              "      <td>4</td>\n",
              "      <td>5</td>\n",
              "    </tr>\n",
              "    <tr>\n",
              "      <th>80788</th>\n",
              "      <td>B002XA00FU</td>\n",
              "      <td>Best Shampoo!!</td>\n",
              "      <td>5</td>\n",
              "      <td>5</td>\n",
              "    </tr>\n",
              "  </tbody>\n",
              "</table>\n",
              "<p>198502 rows × 4 columns</p>\n",
              "</div>"
            ],
            "text/plain": [
              "              asin  ... totalReviewers\n",
              "112506  B004OHQR1Q  ...            431\n",
              "112578  B004OHQR1Q  ...            431\n",
              "112580  B004OHQR1Q  ...            431\n",
              "112581  B004OHQR1Q  ...            431\n",
              "112582  B004OHQR1Q  ...            431\n",
              "...            ...  ...            ...\n",
              "117010  B004Y6PDL2  ...              5\n",
              "117011  B004Y6PDL2  ...              5\n",
              "117012  B004Y6PDL2  ...              5\n",
              "117013  B004Y6PDL2  ...              5\n",
              "80788   B002XA00FU  ...              5\n",
              "\n",
              "[198502 rows x 4 columns]"
            ]
          },
          "metadata": {
            "tags": []
          },
          "execution_count": 79
        }
      ]
    },
    {
      "cell_type": "code",
      "metadata": {
        "colab": {
          "base_uri": "https://localhost:8080/",
          "height": 1000
        },
        "id": "RwgvTb1SRbmR",
        "outputId": "b703aba8-b236-4cdc-ecc5-a7d218d8c938"
      },
      "source": [
        "# Selecting products with more than 40 reviews\r\n",
        "dfMerged = dfMerged.sort_values(by='totalReviewers', ascending=False)\r\n",
        "dfCount = dfMerged[dfMerged.totalReviewers >= 40]\r\n",
        "dfCount"
      ],
      "execution_count": 80,
      "outputs": [
        {
          "output_type": "execute_result",
          "data": {
            "text/html": [
              "<div>\n",
              "<style scoped>\n",
              "    .dataframe tbody tr th:only-of-type {\n",
              "        vertical-align: middle;\n",
              "    }\n",
              "\n",
              "    .dataframe tbody tr th {\n",
              "        vertical-align: top;\n",
              "    }\n",
              "\n",
              "    .dataframe thead th {\n",
              "        text-align: right;\n",
              "    }\n",
              "</style>\n",
              "<table border=\"1\" class=\"dataframe\">\n",
              "  <thead>\n",
              "    <tr style=\"text-align: right;\">\n",
              "      <th></th>\n",
              "      <th>reviewerID_x</th>\n",
              "      <th>asin</th>\n",
              "      <th>reviewerName</th>\n",
              "      <th>helpful</th>\n",
              "      <th>reviewText</th>\n",
              "      <th>overall_x</th>\n",
              "      <th>summary_x</th>\n",
              "      <th>unixReviewTime</th>\n",
              "      <th>reviewTime</th>\n",
              "      <th>reviewerID_y</th>\n",
              "      <th>overall_y</th>\n",
              "      <th>summary_y</th>\n",
              "      <th>totalReviewers</th>\n",
              "      <th>overallScore</th>\n",
              "      <th>summaryReview</th>\n",
              "    </tr>\n",
              "  </thead>\n",
              "  <tbody>\n",
              "    <tr>\n",
              "      <th>112506</th>\n",
              "      <td>A3BP5ZF51CHZOE</td>\n",
              "      <td>B004OHQR1Q</td>\n",
              "      <td>Caitlyn Johnson</td>\n",
              "      <td>[7, 9]</td>\n",
              "      <td>first off.... i ordered these expecting there ...</td>\n",
              "      <td>1</td>\n",
              "      <td>crap!</td>\n",
              "      <td>1382572800</td>\n",
              "      <td>10 24, 2013</td>\n",
              "      <td>431</td>\n",
              "      <td>431</td>\n",
              "      <td>431</td>\n",
              "      <td>431</td>\n",
              "      <td>1</td>\n",
              "      <td>crap!</td>\n",
              "    </tr>\n",
              "    <tr>\n",
              "      <th>112637</th>\n",
              "      <td>A3T5NA2NUA6SH8</td>\n",
              "      <td>B004OHQR1Q</td>\n",
              "      <td>Juana Taveras</td>\n",
              "      <td>[0, 0]</td>\n",
              "      <td>I'm sure I'm gonna get the best of this dots b...</td>\n",
              "      <td>5</td>\n",
              "      <td>Like it</td>\n",
              "      <td>1372723200</td>\n",
              "      <td>07 2, 2013</td>\n",
              "      <td>431</td>\n",
              "      <td>431</td>\n",
              "      <td>431</td>\n",
              "      <td>431</td>\n",
              "      <td>5</td>\n",
              "      <td>Like it</td>\n",
              "    </tr>\n",
              "    <tr>\n",
              "      <th>112650</th>\n",
              "      <td>A1ZBG67FX95ZSE</td>\n",
              "      <td>B004OHQR1Q</td>\n",
              "      <td>Kathleen Deffenbaugh</td>\n",
              "      <td>[0, 0]</td>\n",
              "      <td>These are really great, and well worth the mon...</td>\n",
              "      <td>5</td>\n",
              "      <td>Awesome!</td>\n",
              "      <td>1368057600</td>\n",
              "      <td>05 9, 2013</td>\n",
              "      <td>431</td>\n",
              "      <td>431</td>\n",
              "      <td>431</td>\n",
              "      <td>431</td>\n",
              "      <td>5</td>\n",
              "      <td>Awesome!</td>\n",
              "    </tr>\n",
              "    <tr>\n",
              "      <th>112627</th>\n",
              "      <td>A1XZ4QLPZXPGV6</td>\n",
              "      <td>B004OHQR1Q</td>\n",
              "      <td>Jessica</td>\n",
              "      <td>[0, 0]</td>\n",
              "      <td>I havent tried using these but I don't see how...</td>\n",
              "      <td>4</td>\n",
              "      <td>Cant wait</td>\n",
              "      <td>1377475200</td>\n",
              "      <td>08 26, 2013</td>\n",
              "      <td>431</td>\n",
              "      <td>431</td>\n",
              "      <td>431</td>\n",
              "      <td>431</td>\n",
              "      <td>4</td>\n",
              "      <td>Cant wait</td>\n",
              "    </tr>\n",
              "    <tr>\n",
              "      <th>112628</th>\n",
              "      <td>A11Y1NMAMM89HA</td>\n",
              "      <td>B004OHQR1Q</td>\n",
              "      <td>Jessica Kessler</td>\n",
              "      <td>[0, 0]</td>\n",
              "      <td>This is such a great deal!! I was looking at t...</td>\n",
              "      <td>4</td>\n",
              "      <td>Dotting Pen Set</td>\n",
              "      <td>1379289600</td>\n",
              "      <td>09 16, 2013</td>\n",
              "      <td>431</td>\n",
              "      <td>431</td>\n",
              "      <td>431</td>\n",
              "      <td>431</td>\n",
              "      <td>4</td>\n",
              "      <td>Dotting Pen Set</td>\n",
              "    </tr>\n",
              "    <tr>\n",
              "      <th>...</th>\n",
              "      <td>...</td>\n",
              "      <td>...</td>\n",
              "      <td>...</td>\n",
              "      <td>...</td>\n",
              "      <td>...</td>\n",
              "      <td>...</td>\n",
              "      <td>...</td>\n",
              "      <td>...</td>\n",
              "      <td>...</td>\n",
              "      <td>...</td>\n",
              "      <td>...</td>\n",
              "      <td>...</td>\n",
              "      <td>...</td>\n",
              "      <td>...</td>\n",
              "      <td>...</td>\n",
              "    </tr>\n",
              "    <tr>\n",
              "      <th>28564</th>\n",
              "      <td>AW2YH1Q4CLB6V</td>\n",
              "      <td>B000P6BRHY</td>\n",
              "      <td>Delaine Godin \"SpiceyD\"</td>\n",
              "      <td>[1, 1]</td>\n",
              "      <td>Great pencil and gel for African American, nat...</td>\n",
              "      <td>5</td>\n",
              "      <td>Staple!</td>\n",
              "      <td>1395878400</td>\n",
              "      <td>03 27, 2014</td>\n",
              "      <td>40</td>\n",
              "      <td>40</td>\n",
              "      <td>40</td>\n",
              "      <td>40</td>\n",
              "      <td>5</td>\n",
              "      <td>Staple!</td>\n",
              "    </tr>\n",
              "    <tr>\n",
              "      <th>40250</th>\n",
              "      <td>A3HOJNJDBR2ML6</td>\n",
              "      <td>B001183N8G</td>\n",
              "      <td>Diamonds In The Sky</td>\n",
              "      <td>[0, 0]</td>\n",
              "      <td>The best self tanner. I used this in the past ...</td>\n",
              "      <td>5</td>\n",
              "      <td>The best!! Smell could be better though.</td>\n",
              "      <td>1393027200</td>\n",
              "      <td>02 22, 2014</td>\n",
              "      <td>40</td>\n",
              "      <td>40</td>\n",
              "      <td>40</td>\n",
              "      <td>40</td>\n",
              "      <td>5</td>\n",
              "      <td>The best!! Smell could be better though.</td>\n",
              "    </tr>\n",
              "    <tr>\n",
              "      <th>3683</th>\n",
              "      <td>A1XYGS9BACL5XM</td>\n",
              "      <td>B00008ZPG9</td>\n",
              "      <td>Judy</td>\n",
              "      <td>[5, 7]</td>\n",
              "      <td>I love the Olay Regenerist line! Moisturizes y...</td>\n",
              "      <td>5</td>\n",
              "      <td>Highly Recommend!</td>\n",
              "      <td>1177200000</td>\n",
              "      <td>04 22, 2007</td>\n",
              "      <td>40</td>\n",
              "      <td>40</td>\n",
              "      <td>40</td>\n",
              "      <td>40</td>\n",
              "      <td>5</td>\n",
              "      <td>Highly Recommend!</td>\n",
              "    </tr>\n",
              "    <tr>\n",
              "      <th>12017</th>\n",
              "      <td>A1780V0MBZXNRR</td>\n",
              "      <td>B000980PGM</td>\n",
              "      <td>T Brown</td>\n",
              "      <td>[0, 0]</td>\n",
              "      <td>This is a DAILY and GENTLE exfoliant.  Sprinkl...</td>\n",
              "      <td>5</td>\n",
              "      <td>best treat for clear and radiant skin</td>\n",
              "      <td>1326067200</td>\n",
              "      <td>01 9, 2012</td>\n",
              "      <td>40</td>\n",
              "      <td>40</td>\n",
              "      <td>40</td>\n",
              "      <td>40</td>\n",
              "      <td>5</td>\n",
              "      <td>best treat for clear and radiant skin</td>\n",
              "    </tr>\n",
              "    <tr>\n",
              "      <th>12013</th>\n",
              "      <td>A2S2E378EBMXKO</td>\n",
              "      <td>B000980PGM</td>\n",
              "      <td>Russell Lephew</td>\n",
              "      <td>[0, 0]</td>\n",
              "      <td>This is a VERY gentle exfoliant for your skin....</td>\n",
              "      <td>4</td>\n",
              "      <td>Very gentle</td>\n",
              "      <td>1395878400</td>\n",
              "      <td>03 27, 2014</td>\n",
              "      <td>40</td>\n",
              "      <td>40</td>\n",
              "      <td>40</td>\n",
              "      <td>40</td>\n",
              "      <td>4</td>\n",
              "      <td>Very gentle</td>\n",
              "    </tr>\n",
              "  </tbody>\n",
              "</table>\n",
              "<p>76927 rows × 15 columns</p>\n",
              "</div>"
            ],
            "text/plain": [
              "          reviewerID_x  ...                             summaryReview\n",
              "112506  A3BP5ZF51CHZOE  ...                                     crap!\n",
              "112637  A3T5NA2NUA6SH8  ...                                   Like it\n",
              "112650  A1ZBG67FX95ZSE  ...                                  Awesome!\n",
              "112627  A1XZ4QLPZXPGV6  ...                                 Cant wait\n",
              "112628  A11Y1NMAMM89HA  ...                           Dotting Pen Set\n",
              "...                ...  ...                                       ...\n",
              "28564    AW2YH1Q4CLB6V  ...                                   Staple!\n",
              "40250   A3HOJNJDBR2ML6  ...  The best!! Smell could be better though.\n",
              "3683    A1XYGS9BACL5XM  ...                         Highly Recommend!\n",
              "12017   A1780V0MBZXNRR  ...     best treat for clear and radiant skin\n",
              "12013   A2S2E378EBMXKO  ...                               Very gentle\n",
              "\n",
              "[76927 rows x 15 columns]"
            ]
          },
          "metadata": {
            "tags": []
          },
          "execution_count": 80
        }
      ]
    },
    {
      "cell_type": "code",
      "metadata": {
        "id": "P-F1iJtTgaT-"
      },
      "source": [
        "dfProductReview = review_df.groupby(\"asin\", as_index=False).mean()\r\n",
        "ProductReviewSummary = dfCount.groupby(\"asin\")[\"summaryReview\"].apply(list)\r\n",
        "ProductReviewSummary = pd.DataFrame(ProductReviewSummary)\r\n",
        "ProductReviewSummary.to_csv(\"ProductReviewSummary.csv\")"
      ],
      "execution_count": 81,
      "outputs": []
    },
    {
      "cell_type": "code",
      "metadata": {
        "colab": {
          "base_uri": "https://localhost:8080/",
          "height": 391
        },
        "id": "cBgp-DaIgaQd",
        "outputId": "e8c2de26-7858-49b9-c3a0-bf2c1c902f51"
      },
      "source": [
        "dfProductReview"
      ],
      "execution_count": 82,
      "outputs": [
        {
          "output_type": "execute_result",
          "data": {
            "text/html": [
              "<div>\n",
              "<style scoped>\n",
              "    .dataframe tbody tr th:only-of-type {\n",
              "        vertical-align: middle;\n",
              "    }\n",
              "\n",
              "    .dataframe tbody tr th {\n",
              "        vertical-align: top;\n",
              "    }\n",
              "\n",
              "    .dataframe thead th {\n",
              "        text-align: right;\n",
              "    }\n",
              "</style>\n",
              "<table border=\"1\" class=\"dataframe\">\n",
              "  <thead>\n",
              "    <tr style=\"text-align: right;\">\n",
              "      <th></th>\n",
              "      <th>asin</th>\n",
              "      <th>overall</th>\n",
              "      <th>unixReviewTime</th>\n",
              "    </tr>\n",
              "  </thead>\n",
              "  <tbody>\n",
              "    <tr>\n",
              "      <th>0</th>\n",
              "      <td>7806397051</td>\n",
              "      <td>2.625000</td>\n",
              "      <td>1.382087e+09</td>\n",
              "    </tr>\n",
              "    <tr>\n",
              "      <th>1</th>\n",
              "      <td>9759091062</td>\n",
              "      <td>3.090909</td>\n",
              "      <td>1.390930e+09</td>\n",
              "    </tr>\n",
              "    <tr>\n",
              "      <th>2</th>\n",
              "      <td>9788072216</td>\n",
              "      <td>5.000000</td>\n",
              "      <td>1.342552e+09</td>\n",
              "    </tr>\n",
              "    <tr>\n",
              "      <th>3</th>\n",
              "      <td>9790790961</td>\n",
              "      <td>4.333333</td>\n",
              "      <td>1.378858e+09</td>\n",
              "    </tr>\n",
              "    <tr>\n",
              "      <th>4</th>\n",
              "      <td>9790794231</td>\n",
              "      <td>3.600000</td>\n",
              "      <td>1.298212e+09</td>\n",
              "    </tr>\n",
              "    <tr>\n",
              "      <th>...</th>\n",
              "      <td>...</td>\n",
              "      <td>...</td>\n",
              "      <td>...</td>\n",
              "    </tr>\n",
              "    <tr>\n",
              "      <th>12096</th>\n",
              "      <td>B00L5KTZ0K</td>\n",
              "      <td>5.000000</td>\n",
              "      <td>1.405014e+09</td>\n",
              "    </tr>\n",
              "    <tr>\n",
              "      <th>12097</th>\n",
              "      <td>B00L6Q3BH6</td>\n",
              "      <td>4.400000</td>\n",
              "      <td>1.400734e+09</td>\n",
              "    </tr>\n",
              "    <tr>\n",
              "      <th>12098</th>\n",
              "      <td>B00LCEROA2</td>\n",
              "      <td>5.000000</td>\n",
              "      <td>1.404643e+09</td>\n",
              "    </tr>\n",
              "    <tr>\n",
              "      <th>12099</th>\n",
              "      <td>B00LG63DOM</td>\n",
              "      <td>4.800000</td>\n",
              "      <td>1.405823e+09</td>\n",
              "    </tr>\n",
              "    <tr>\n",
              "      <th>12100</th>\n",
              "      <td>B00LLPT4HI</td>\n",
              "      <td>5.000000</td>\n",
              "      <td>1.405580e+09</td>\n",
              "    </tr>\n",
              "  </tbody>\n",
              "</table>\n",
              "<p>12101 rows × 3 columns</p>\n",
              "</div>"
            ],
            "text/plain": [
              "             asin   overall  unixReviewTime\n",
              "0      7806397051  2.625000    1.382087e+09\n",
              "1      9759091062  3.090909    1.390930e+09\n",
              "2      9788072216  5.000000    1.342552e+09\n",
              "3      9790790961  4.333333    1.378858e+09\n",
              "4      9790794231  3.600000    1.298212e+09\n",
              "...           ...       ...             ...\n",
              "12096  B00L5KTZ0K  5.000000    1.405014e+09\n",
              "12097  B00L6Q3BH6  4.400000    1.400734e+09\n",
              "12098  B00LCEROA2  5.000000    1.404643e+09\n",
              "12099  B00LG63DOM  4.800000    1.405823e+09\n",
              "12100  B00LLPT4HI  5.000000    1.405580e+09\n",
              "\n",
              "[12101 rows x 3 columns]"
            ]
          },
          "metadata": {
            "tags": []
          },
          "execution_count": 82
        }
      ]
    },
    {
      "cell_type": "code",
      "metadata": {
        "id": "ET1BmiRIz1U7"
      },
      "source": [
        "dfProductReview.rename(columns={\"asin\":\"asin\"},inplace=True)"
      ],
      "execution_count": null,
      "outputs": []
    },
    {
      "cell_type": "code",
      "metadata": {
        "id": "feZ5c5zKrUpB"
      },
      "source": [
        "df3 = pd.read_csv(\"ProductReviewSummary.csv\")\r\n",
        "df3 = pd.merge(df3, dfProductReview, on=\"asin\", how='inner')"
      ],
      "execution_count": 83,
      "outputs": []
    },
    {
      "cell_type": "code",
      "metadata": {
        "colab": {
          "base_uri": "https://localhost:8080/",
          "height": 391
        },
        "id": "GRI-NdOxzpDo",
        "outputId": "04c8051a-9aa0-4a9f-c0bb-1745cfb2067c"
      },
      "source": [
        "df3 = df3[['asin','summaryReview','overall']]\r\n",
        "df3"
      ],
      "execution_count": 85,
      "outputs": [
        {
          "output_type": "execute_result",
          "data": {
            "text/html": [
              "<div>\n",
              "<style scoped>\n",
              "    .dataframe tbody tr th:only-of-type {\n",
              "        vertical-align: middle;\n",
              "    }\n",
              "\n",
              "    .dataframe tbody tr th {\n",
              "        vertical-align: top;\n",
              "    }\n",
              "\n",
              "    .dataframe thead th {\n",
              "        text-align: right;\n",
              "    }\n",
              "</style>\n",
              "<table border=\"1\" class=\"dataframe\">\n",
              "  <thead>\n",
              "    <tr style=\"text-align: right;\">\n",
              "      <th></th>\n",
              "      <th>asin</th>\n",
              "      <th>summaryReview</th>\n",
              "      <th>overall</th>\n",
              "    </tr>\n",
              "  </thead>\n",
              "  <tbody>\n",
              "    <tr>\n",
              "      <th>0</th>\n",
              "      <td>B000050B6U</td>\n",
              "      <td>['Sexy curling', 'Professional Wingwoman Appro...</td>\n",
              "      <td>4.313725</td>\n",
              "    </tr>\n",
              "    <tr>\n",
              "      <th>1</th>\n",
              "      <td>B000052WYD</td>\n",
              "      <td>['Excellent', 'maybelline cover stick', \"It's ...</td>\n",
              "      <td>3.680000</td>\n",
              "    </tr>\n",
              "    <tr>\n",
              "      <th>2</th>\n",
              "      <td>B000052YJM</td>\n",
              "      <td>['Great face lotion', 'Works good', 'works fin...</td>\n",
              "      <td>4.292683</td>\n",
              "    </tr>\n",
              "    <tr>\n",
              "      <th>3</th>\n",
              "      <td>B000052YM4</td>\n",
              "      <td>['Second Purchase', 'gentle!', 'As Good As My ...</td>\n",
              "      <td>3.909091</td>\n",
              "    </tr>\n",
              "    <tr>\n",
              "      <th>4</th>\n",
              "      <td>B000052YM7</td>\n",
              "      <td>['Love it!', \"I'm a believer. . .\", 'Simply Th...</td>\n",
              "      <td>4.010753</td>\n",
              "    </tr>\n",
              "    <tr>\n",
              "      <th>...</th>\n",
              "      <td>...</td>\n",
              "      <td>...</td>\n",
              "      <td>...</td>\n",
              "    </tr>\n",
              "    <tr>\n",
              "      <th>988</th>\n",
              "      <td>B00KH6F6TM</td>\n",
              "      <td>['Small amount goes a long way...', 'In Love W...</td>\n",
              "      <td>4.979167</td>\n",
              "    </tr>\n",
              "    <tr>\n",
              "      <th>989</th>\n",
              "      <td>B00KHGIK54</td>\n",
              "      <td>['Light weight moisturizer', 'Great product. ....</td>\n",
              "      <td>4.832061</td>\n",
              "    </tr>\n",
              "    <tr>\n",
              "      <th>990</th>\n",
              "      <td>B00KHH2VOY</td>\n",
              "      <td>['Love it!', 'Wonderful soap !!', 'I absolutel...</td>\n",
              "      <td>4.877049</td>\n",
              "    </tr>\n",
              "    <tr>\n",
              "      <th>991</th>\n",
              "      <td>B00KQBR9FM</td>\n",
              "      <td>[\"I'm in love and not puffy\", 'love it !', 'Gr...</td>\n",
              "      <td>4.745098</td>\n",
              "    </tr>\n",
              "    <tr>\n",
              "      <th>992</th>\n",
              "      <td>B00KQVTX06</td>\n",
              "      <td>['Dead sea salt exfoliating that feels amazing...</td>\n",
              "      <td>4.813953</td>\n",
              "    </tr>\n",
              "  </tbody>\n",
              "</table>\n",
              "<p>993 rows × 3 columns</p>\n",
              "</div>"
            ],
            "text/plain": [
              "           asin                                      summaryReview   overall\n",
              "0    B000050B6U  ['Sexy curling', 'Professional Wingwoman Appro...  4.313725\n",
              "1    B000052WYD  ['Excellent', 'maybelline cover stick', \"It's ...  3.680000\n",
              "2    B000052YJM  ['Great face lotion', 'Works good', 'works fin...  4.292683\n",
              "3    B000052YM4  ['Second Purchase', 'gentle!', 'As Good As My ...  3.909091\n",
              "4    B000052YM7  ['Love it!', \"I'm a believer. . .\", 'Simply Th...  4.010753\n",
              "..          ...                                                ...       ...\n",
              "988  B00KH6F6TM  ['Small amount goes a long way...', 'In Love W...  4.979167\n",
              "989  B00KHGIK54  ['Light weight moisturizer', 'Great product. ....  4.832061\n",
              "990  B00KHH2VOY  ['Love it!', 'Wonderful soap !!', 'I absolutel...  4.877049\n",
              "991  B00KQBR9FM  [\"I'm in love and not puffy\", 'love it !', 'Gr...  4.745098\n",
              "992  B00KQVTX06  ['Dead sea salt exfoliating that feels amazing...  4.813953\n",
              "\n",
              "[993 rows x 3 columns]"
            ]
          },
          "metadata": {
            "tags": []
          },
          "execution_count": 85
        }
      ]
    },
    {
      "cell_type": "code",
      "metadata": {
        "colab": {
          "base_uri": "https://localhost:8080/"
        },
        "id": "0MkN2f9q0OE4",
        "outputId": "a9c986a3-5dfb-4adb-afd7-b9d34ed6980b"
      },
      "source": [
        "df3.shape"
      ],
      "execution_count": 86,
      "outputs": [
        {
          "output_type": "execute_result",
          "data": {
            "text/plain": [
              "(993, 3)"
            ]
          },
          "metadata": {
            "tags": []
          },
          "execution_count": 86
        }
      ]
    },
    {
      "cell_type": "markdown",
      "metadata": {
        "id": "iE_5p484LCIO"
      },
      "source": [
        "Text cleaning"
      ]
    },
    {
      "cell_type": "code",
      "metadata": {
        "id": "GmCFO6HPaMgm"
      },
      "source": [
        "regEx = re.compile('[^a-z]+')\r\n",
        "def cleanReviews(reviewText):\r\n",
        "    reviewText = reviewText.lower()\r\n",
        "    reviewText = regEx.sub(' ', reviewText).strip()\r\n",
        "    return reviewText"
      ],
      "execution_count": 87,
      "outputs": []
    },
    {
      "cell_type": "code",
      "metadata": {
        "id": "C-cxr7utaMW1"
      },
      "source": [
        "df3[\"summaryClean\"] = df3[\"summaryReview\"].apply(cleanReviews)\r\n",
        "df3 = df3.drop_duplicates(['overall'], keep='last')\r\n",
        "df3 = df3.reset_index()"
      ],
      "execution_count": 88,
      "outputs": []
    },
    {
      "cell_type": "code",
      "metadata": {
        "id": "bdFQy2OAaMN3"
      },
      "source": [
        "reviews = df3[\"summaryClean\"] \r\n",
        "countVector = CountVectorizer(max_features = 300, stop_words='english') \r\n",
        "transformedReviews = countVector.fit_transform(reviews) \r\n",
        "\r\n",
        "dfReviews = DataFrame(transformedReviews.A, columns=countVector.get_feature_names())\r\n",
        "dfReviews = dfReviews.astype(int)"
      ],
      "execution_count": 89,
      "outputs": []
    },
    {
      "cell_type": "markdown",
      "metadata": {
        "id": "8b5dFq7tQzcl"
      },
      "source": [
        "###Train Test split"
      ]
    },
    {
      "cell_type": "code",
      "metadata": {
        "id": "KyY6Du8-aMEp"
      },
      "source": [
        "# First let's create a dataset called X\r\n",
        "X = np.array(dfReviews)\r\n",
        " # create train and test\r\n",
        "tpercent = 0.9\r\n",
        "tsize = int(np.floor(tpercent * len(dfReviews)))\r\n",
        "dfReviews_train = X[:tsize]\r\n",
        "dfReviews_test = X[tsize:]\r\n",
        "#len of train and test\r\n",
        "lentrain = len(dfReviews_train)\r\n",
        "lentest = len(dfReviews_test)"
      ],
      "execution_count": 90,
      "outputs": []
    },
    {
      "cell_type": "markdown",
      "metadata": {
        "id": "ml9wCyVdUiT1"
      },
      "source": [
        "##Model Based Approach"
      ]
    },
    {
      "cell_type": "markdown",
      "metadata": {
        "id": "0EuDbeprQ3xF"
      },
      "source": [
        "###KNN Recommendation"
      ]
    },
    {
      "cell_type": "code",
      "metadata": {
        "id": "h5LZ411waMA4"
      },
      "source": [
        "neighbor = NearestNeighbors(n_neighbors=3, algorithm='ball_tree').fit(dfReviews_train)\r\n",
        "\r\n",
        "# Let's find the k-neighbors of each point in object X. To do that we call the kneighbors() function on object X.\r\n",
        "distances, indices = neighbor.kneighbors(dfReviews_train)"
      ],
      "execution_count": 91,
      "outputs": []
    },
    {
      "cell_type": "code",
      "metadata": {
        "id": "ZDcx9m-46S_T",
        "colab": {
          "base_uri": "https://localhost:8080/"
        },
        "outputId": "a7981004-1e34-4ae4-ca03-6dacf7698f9f"
      },
      "source": [
        "for i in range(lentest):\r\n",
        "    a = neighbor.kneighbors([dfReviews_test[i]])\r\n",
        "    related_product_list = a[1]\r\n",
        "\r\n",
        "    first_related_product = [item[0] for item in related_product_list]\r\n",
        "    first_related_product = str(first_related_product).strip('[]')\r\n",
        "    first_related_product = int(first_related_product)\r\n",
        "    second_related_product = [item[1] for item in related_product_list]\r\n",
        "    second_related_product = str(second_related_product).strip('[]')\r\n",
        "    second_related_product = int(second_related_product)\r\n",
        "    \r\n",
        "    print (\"Based on product reviews, for \", df3[\"asin\"][lentrain + i] ,\" average rating is \",df3[\"overall\"][lentrain + i])\r\n",
        "    print (\"The first similar product is \", df3[\"asin\"][first_related_product] ,\" average rating is \",df3[\"overall\"][first_related_product])\r\n",
        "    print (\"The second similar product is \", df3[\"asin\"][second_related_product] ,\" average rating is \",df3[\"overall\"][second_related_product])\r\n",
        "    print (\"-----------------------------------------------------------\")"
      ],
      "execution_count": 92,
      "outputs": [
        {
          "output_type": "stream",
          "text": [
            "Based on product reviews, for  B00GTBZNP6  average rating is  4.263888888888889\n",
            "The first similar product is  B00A0IWTBA  average rating is  4.197802197802198\n",
            "The second similar product is  B004UKENRC  average rating is  4.23943661971831\n",
            "-----------------------------------------------------------\n",
            "Based on product reviews, for  B00GTBZOVE  average rating is  4.112676056338028\n",
            "The first similar product is  B006L6A10G  average rating is  4.414285714285715\n",
            "The second similar product is  B00GTBZ85Q  average rating is  4.178571428571429\n",
            "-----------------------------------------------------------\n",
            "Based on product reviews, for  B00GTBZWPW  average rating is  4.184615384615385\n",
            "The first similar product is  B00GTBZHCA  average rating is  4.303571428571429\n",
            "The second similar product is  B006L6A10G  average rating is  4.414285714285715\n",
            "-----------------------------------------------------------\n",
            "Based on product reviews, for  B00GTBZXA6  average rating is  4.225806451612903\n",
            "The first similar product is  B004D267RG  average rating is  3.9607843137254903\n",
            "The second similar product is  B001FSK8QM  average rating is  3.9545454545454546\n",
            "-----------------------------------------------------------\n",
            "Based on product reviews, for  B00GTBZXTC  average rating is  3.8333333333333335\n",
            "The first similar product is  B00EYZY5VC  average rating is  4.314285714285714\n",
            "The second similar product is  B00CA05FO4  average rating is  4.095238095238095\n",
            "-----------------------------------------------------------\n",
            "Based on product reviews, for  B00GTC02LA  average rating is  4.455882352941177\n",
            "The first similar product is  B006L6AA8Y  average rating is  4.212121212121212\n",
            "The second similar product is  B002MO3CG6  average rating is  4.194805194805195\n",
            "-----------------------------------------------------------\n",
            "Based on product reviews, for  B00GTC03AU  average rating is  3.8181818181818183\n",
            "The first similar product is  B00GTBZHCA  average rating is  4.303571428571429\n",
            "The second similar product is  B00GTBZ85Q  average rating is  4.178571428571429\n",
            "-----------------------------------------------------------\n",
            "Based on product reviews, for  B00GTC0DFK  average rating is  4.031746031746032\n",
            "The first similar product is  B009G0E19Q  average rating is  4.016666666666667\n",
            "The second similar product is  B00GTBZ85Q  average rating is  4.178571428571429\n",
            "-----------------------------------------------------------\n",
            "Based on product reviews, for  B00GTC0DYQ  average rating is  3.626865671641791\n",
            "The first similar product is  B006L6A10G  average rating is  4.414285714285715\n",
            "The second similar product is  B0098JU8T2  average rating is  4.2439024390243905\n",
            "-----------------------------------------------------------\n",
            "Based on product reviews, for  B00GTC0E1I  average rating is  3.764705882352941\n",
            "The first similar product is  B00AE07CRA  average rating is  3.6122448979591835\n",
            "The second similar product is  B004D267RG  average rating is  3.9607843137254903\n",
            "-----------------------------------------------------------\n",
            "Based on product reviews, for  B00GTC0IY6  average rating is  3.457627118644068\n",
            "The first similar product is  B00AE07CRA  average rating is  3.6122448979591835\n",
            "The second similar product is  B00099E8ZA  average rating is  4.7\n",
            "-----------------------------------------------------------\n",
            "Based on product reviews, for  B00GTC1FFW  average rating is  4.106060606060606\n",
            "The first similar product is  B00AN5L8PS  average rating is  4.111111111111111\n",
            "The second similar product is  B00FLRHYCE  average rating is  4.0\n",
            "-----------------------------------------------------------\n",
            "Based on product reviews, for  B00GTC1HB4  average rating is  4.037037037037037\n",
            "The first similar product is  B002QF4UYY  average rating is  4.413043478260869\n",
            "The second similar product is  B000X1YING  average rating is  4.348837209302325\n",
            "-----------------------------------------------------------\n",
            "Based on product reviews, for  B00GTC1HCI  average rating is  4.150943396226415\n",
            "The first similar product is  B001FSK8SA  average rating is  3.6842105263157894\n",
            "The second similar product is  B004UKENRC  average rating is  4.23943661971831\n",
            "-----------------------------------------------------------\n",
            "Based on product reviews, for  B00GTC1JHQ  average rating is  4.354838709677419\n",
            "The first similar product is  B00AO4E9L8  average rating is  4.355263157894737\n",
            "The second similar product is  B00BVKL08E  average rating is  3.769230769230769\n",
            "-----------------------------------------------------------\n",
            "Based on product reviews, for  B00GTC1JVM  average rating is  3.9714285714285715\n",
            "The first similar product is  B00AO4E9L8  average rating is  4.355263157894737\n",
            "The second similar product is  B00ARCQHBC  average rating is  4.047058823529412\n",
            "-----------------------------------------------------------\n",
            "Based on product reviews, for  B00GTC1KZ2  average rating is  4.173913043478261\n",
            "The first similar product is  B001FSK8QM  average rating is  3.9545454545454546\n",
            "The second similar product is  B00AE07BC6  average rating is  4.1395348837209305\n",
            "-----------------------------------------------------------\n",
            "Based on product reviews, for  B00GUC7XAW  average rating is  4.145833333333333\n",
            "The first similar product is  B004UKENRC  average rating is  4.23943661971831\n",
            "The second similar product is  B001FSK8SA  average rating is  3.6842105263157894\n",
            "-----------------------------------------------------------\n",
            "Based on product reviews, for  B00GUTLC0C  average rating is  4.468085106382978\n",
            "The first similar product is  B00GPWYF94  average rating is  4.911111111111111\n",
            "The second similar product is  B002WR58XS  average rating is  4.4523809523809526\n",
            "-----------------------------------------------------------\n",
            "Based on product reviews, for  B00GXBEV0A  average rating is  4.569444444444445\n",
            "The first similar product is  B00AE07H0M  average rating is  3.875\n",
            "The second similar product is  B002WTC37A  average rating is  4.3097345132743365\n",
            "-----------------------------------------------------------\n",
            "Based on product reviews, for  B00GXZS5VW  average rating is  3.7954545454545454\n",
            "The first similar product is  B001U0OQN6  average rating is  4.416666666666667\n",
            "The second similar product is  B00AN5L8PS  average rating is  4.111111111111111\n",
            "-----------------------------------------------------------\n",
            "Based on product reviews, for  B00GYB107Q  average rating is  4.0638297872340425\n",
            "The first similar product is  B002WR58XS  average rating is  4.4523809523809526\n",
            "The second similar product is  B00DJQQEGQ  average rating is  4.957446808510638\n",
            "-----------------------------------------------------------\n",
            "Based on product reviews, for  B00GYB13OQ  average rating is  3.888888888888889\n",
            "The first similar product is  B0000ZLEFU  average rating is  3.761904761904762\n",
            "The second similar product is  B00BVKL08E  average rating is  3.769230769230769\n",
            "-----------------------------------------------------------\n",
            "Based on product reviews, for  B00GYB17P6  average rating is  3.9242424242424243\n",
            "The first similar product is  B009G0E9CK  average rating is  4.339285714285714\n",
            "The second similar product is  B00CP0R5LK  average rating is  4.203703703703703\n",
            "-----------------------------------------------------------\n",
            "Based on product reviews, for  B00GYB17TC  average rating is  4.1571428571428575\n",
            "The first similar product is  B0072XUY7W  average rating is  4.094117647058823\n",
            "The second similar product is  B00AWLB9EI  average rating is  4.149253731343284\n",
            "-----------------------------------------------------------\n",
            "Based on product reviews, for  B00GYB17XI  average rating is  4.40625\n",
            "The first similar product is  B007RTR89S  average rating is  3.881188118811881\n",
            "The second similar product is  B007RTR898  average rating is  3.7160493827160495\n",
            "-----------------------------------------------------------\n",
            "Based on product reviews, for  B00GYB1AQM  average rating is  4.044776119402985\n",
            "The first similar product is  B004D267RG  average rating is  3.9607843137254903\n",
            "The second similar product is  B0098JU8TW  average rating is  4.107142857142857\n",
            "-----------------------------------------------------------\n",
            "Based on product reviews, for  B00GYB1AUI  average rating is  4.016949152542373\n",
            "The first similar product is  B00ALV8EKQ  average rating is  3.898550724637681\n",
            "The second similar product is  B006L6AA8Y  average rating is  4.212121212121212\n",
            "-----------------------------------------------------------\n",
            "Based on product reviews, for  B00GYB1ECW  average rating is  3.8194444444444446\n",
            "The first similar product is  B006L6A10G  average rating is  4.414285714285715\n",
            "The second similar product is  B000RYSXWG  average rating is  4.09433962264151\n",
            "-----------------------------------------------------------\n",
            "Based on product reviews, for  B00GZ18LL8  average rating is  4.1923076923076925\n",
            "The first similar product is  B006ZENPYS  average rating is  4.113636363636363\n",
            "The second similar product is  B001U0OQN6  average rating is  4.416666666666667\n",
            "-----------------------------------------------------------\n",
            "Based on product reviews, for  B00H2B2RLK  average rating is  2.4651162790697674\n",
            "The first similar product is  B002QF4UYY  average rating is  4.413043478260869\n",
            "The second similar product is  B004WDV2XA  average rating is  3.1020408163265305\n",
            "-----------------------------------------------------------\n",
            "Based on product reviews, for  B00H5V3T2I  average rating is  4.189655172413793\n",
            "The first similar product is  B003RF82RI  average rating is  4.15\n",
            "The second similar product is  B000VEN3RW  average rating is  4.116279069767442\n",
            "-----------------------------------------------------------\n",
            "Based on product reviews, for  B00H5V3T8M  average rating is  3.913793103448276\n",
            "The first similar product is  B000VEN3RW  average rating is  4.116279069767442\n",
            "The second similar product is  B0068G8EZ8  average rating is  3.9574468085106385\n",
            "-----------------------------------------------------------\n",
            "Based on product reviews, for  B00H93NJLS  average rating is  4.792857142857143\n",
            "The first similar product is  B00G5WO2VK  average rating is  4.756521739130434\n",
            "The second similar product is  B004Z209HS  average rating is  4.39\n",
            "-----------------------------------------------------------\n",
            "Based on product reviews, for  B00HB2JQNM  average rating is  3.9516129032258065\n",
            "The first similar product is  B0000536P4  average rating is  3.9324324324324325\n",
            "The second similar product is  B009GEUOZ2  average rating is  3.5689655172413794\n",
            "-----------------------------------------------------------\n",
            "Based on product reviews, for  B00HD7SCLM  average rating is  4.11864406779661\n",
            "The first similar product is  B003QOZ2C8  average rating is  4.109090909090909\n",
            "The second similar product is  B00365DABC  average rating is  4.5576923076923075\n",
            "-----------------------------------------------------------\n",
            "Based on product reviews, for  B00HE88JMC  average rating is  3.523076923076923\n",
            "The first similar product is  B001MX89Y8  average rating is  4.155172413793103\n",
            "The second similar product is  B002B4GGUG  average rating is  4.581818181818182\n",
            "-----------------------------------------------------------\n",
            "Based on product reviews, for  B00HHR0SYW  average rating is  4.781818181818182\n",
            "The first similar product is  B00G2TQNZ4  average rating is  4.821428571428571\n",
            "The second similar product is  B00FFANXMM  average rating is  4.633333333333334\n",
            "-----------------------------------------------------------\n",
            "Based on product reviews, for  B00HJD8NLY  average rating is  4.885135135135135\n",
            "The first similar product is  B00GFBWWWC  average rating is  4.693548387096774\n",
            "The second similar product is  B00G75X158  average rating is  4.743589743589744\n",
            "-----------------------------------------------------------\n",
            "Based on product reviews, for  B00HM6IV6K  average rating is  3.9857142857142858\n",
            "The first similar product is  B003U4LI7W  average rating is  3.9027777777777777\n",
            "The second similar product is  B002MOBZSS  average rating is  3.164383561643836\n",
            "-----------------------------------------------------------\n",
            "Based on product reviews, for  B00HM6IVXI  average rating is  3.2253521126760565\n",
            "The first similar product is  B00CP0R5LK  average rating is  4.203703703703703\n",
            "The second similar product is  B001DYM62C  average rating is  4.408163265306122\n",
            "-----------------------------------------------------------\n",
            "Based on product reviews, for  B00HM6IXH2  average rating is  4.2\n",
            "The first similar product is  B0098JU8TW  average rating is  4.107142857142857\n",
            "The second similar product is  B003EH20VI  average rating is  4.037735849056604\n",
            "-----------------------------------------------------------\n",
            "Based on product reviews, for  B00HM6JLNW  average rating is  4.142857142857143\n",
            "The first similar product is  B006L6A10G  average rating is  4.414285714285715\n",
            "The second similar product is  B003EH20ZO  average rating is  4.34\n",
            "-----------------------------------------------------------\n",
            "Based on product reviews, for  B00HM6K6XQ  average rating is  4.014285714285714\n",
            "The first similar product is  B000YZGPKU  average rating is  3.728395061728395\n",
            "The second similar product is  B00ALV8EJM  average rating is  4.085106382978723\n",
            "-----------------------------------------------------------\n",
            "Based on product reviews, for  B00HNKRWI8  average rating is  4.1875\n",
            "The first similar product is  B006L6A10G  average rating is  4.414285714285715\n",
            "The second similar product is  B0098JU8T2  average rating is  4.2439024390243905\n",
            "-----------------------------------------------------------\n",
            "Based on product reviews, for  B00HNKRWII  average rating is  4.328125\n",
            "The first similar product is  B004D267RG  average rating is  3.9607843137254903\n",
            "The second similar product is  B00AWLB9EI  average rating is  4.149253731343284\n",
            "-----------------------------------------------------------\n",
            "Based on product reviews, for  B00HNKRWX8  average rating is  4.03125\n",
            "The first similar product is  B002MOBZSS  average rating is  3.164383561643836\n",
            "The second similar product is  B00CP0R5LK  average rating is  4.203703703703703\n",
            "-----------------------------------------------------------\n",
            "Based on product reviews, for  B00HSNWXTI  average rating is  4.074626865671642\n",
            "The first similar product is  B001ECQ4YO  average rating is  4.592105263157895\n",
            "The second similar product is  B002TSA916  average rating is  3.7777777777777777\n",
            "-----------------------------------------------------------\n",
            "Based on product reviews, for  B00HSNWXV6  average rating is  4.123076923076923\n",
            "The first similar product is  B001ECQ4YO  average rating is  4.592105263157895\n",
            "The second similar product is  B00BVKL08E  average rating is  3.769230769230769\n",
            "-----------------------------------------------------------\n",
            "Based on product reviews, for  B00HSNWXVQ  average rating is  4.464285714285714\n",
            "The first similar product is  B007JT7AGC  average rating is  4.402439024390244\n",
            "The second similar product is  B007JT7AEY  average rating is  4.328767123287672\n",
            "-----------------------------------------------------------\n",
            "Based on product reviews, for  B00HSNWXYI  average rating is  4.333333333333333\n",
            "The first similar product is  B00AIQOKDY  average rating is  4.4\n",
            "The second similar product is  B001ET77NY  average rating is  4.825\n",
            "-----------------------------------------------------------\n",
            "Based on product reviews, for  B00HSNWXZM  average rating is  4.081967213114754\n",
            "The first similar product is  B001ECQ4YO  average rating is  4.592105263157895\n",
            "The second similar product is  B00BVKL08E  average rating is  3.769230769230769\n",
            "-----------------------------------------------------------\n",
            "Based on product reviews, for  B00HSNWZFU  average rating is  4.015873015873016\n",
            "The first similar product is  B00GTBZ85Q  average rating is  4.178571428571429\n",
            "The second similar product is  B009G0E19Q  average rating is  4.016666666666667\n",
            "-----------------------------------------------------------\n",
            "Based on product reviews, for  B00HSNWZKU  average rating is  4.517241379310345\n",
            "The first similar product is  B007JT7AEY  average rating is  4.328767123287672\n",
            "The second similar product is  B007JT7AGC  average rating is  4.402439024390244\n",
            "-----------------------------------------------------------\n",
            "Based on product reviews, for  B00HSNX1AS  average rating is  3.878787878787879\n",
            "The first similar product is  B002MOBZSS  average rating is  3.164383561643836\n",
            "The second similar product is  B004K3D0FK  average rating is  4.153846153846154\n",
            "-----------------------------------------------------------\n",
            "Based on product reviews, for  B00HZ7IRSI  average rating is  4.483333333333333\n",
            "The first similar product is  B00G2TQNZ4  average rating is  4.821428571428571\n",
            "The second similar product is  B00G75X158  average rating is  4.743589743589744\n",
            "-----------------------------------------------------------\n",
            "Based on product reviews, for  B00I073WLE  average rating is  3.9213483146067416\n",
            "The first similar product is  B0028K3J6W  average rating is  3.9178082191780823\n",
            "The second similar product is  B002UUT3YM  average rating is  4.18\n",
            "-----------------------------------------------------------\n",
            "Based on product reviews, for  B00I6CRX04  average rating is  4.221476510067114\n",
            "The first similar product is  B002TSA916  average rating is  3.7777777777777777\n",
            "The second similar product is  B001ECQ4YO  average rating is  4.592105263157895\n",
            "-----------------------------------------------------------\n",
            "Based on product reviews, for  B00IBS9QC6  average rating is  4.915384615384616\n",
            "The first similar product is  B00C8YCFU4  average rating is  4.66412213740458\n",
            "The second similar product is  B001G7OCSM  average rating is  4.3108108108108105\n",
            "-----------------------------------------------------------\n",
            "Based on product reviews, for  B00IDWP4IA  average rating is  4.866666666666666\n",
            "The first similar product is  B00G75X158  average rating is  4.743589743589744\n",
            "The second similar product is  B00GLE8SNK  average rating is  4.80327868852459\n",
            "-----------------------------------------------------------\n",
            "Based on product reviews, for  B00IMHN0B4  average rating is  4.875\n",
            "The first similar product is  B0009MHJE4  average rating is  4.382716049382716\n",
            "The second similar product is  B005I2MP62  average rating is  4.5131578947368425\n",
            "-----------------------------------------------------------\n",
            "Based on product reviews, for  B00IP42FBA  average rating is  4.871794871794871\n",
            "The first similar product is  B004Z209HS  average rating is  4.39\n",
            "The second similar product is  B0013TM9UQ  average rating is  4.471074380165289\n",
            "-----------------------------------------------------------\n",
            "Based on product reviews, for  B00ISW8ZVS  average rating is  2.775\n",
            "The first similar product is  B002GENWU8  average rating is  4.357142857142857\n",
            "The second similar product is  B000X1YING  average rating is  4.348837209302325\n",
            "-----------------------------------------------------------\n",
            "Based on product reviews, for  B00IT1HKV4  average rating is  4.954545454545454\n",
            "The first similar product is  B004Z209HS  average rating is  4.39\n",
            "The second similar product is  B00G5WO2VK  average rating is  4.756521739130434\n",
            "-----------------------------------------------------------\n",
            "Based on product reviews, for  B00IT69F62  average rating is  4.855072463768116\n",
            "The first similar product is  B0014UAHQW  average rating is  4.296875\n",
            "The second similar product is  B00397XUIK  average rating is  4.344827586206897\n",
            "-----------------------------------------------------------\n",
            "Based on product reviews, for  B00JC77VEK  average rating is  4.755102040816326\n",
            "The first similar product is  B000VEN3RW  average rating is  4.116279069767442\n",
            "The second similar product is  B008U5JB3Y  average rating is  3.909090909090909\n",
            "-----------------------------------------------------------\n",
            "Based on product reviews, for  B00JF3RYPM  average rating is  4.391891891891892\n",
            "The first similar product is  B0058E3XJI  average rating is  4.258064516129032\n",
            "The second similar product is  B00GMZUS2M  average rating is  4.673469387755102\n",
            "-----------------------------------------------------------\n",
            "Based on product reviews, for  B00JJVG6HC  average rating is  4.809210526315789\n",
            "The first similar product is  B007RTR89S  average rating is  3.881188118811881\n",
            "The second similar product is  B00AE07EGO  average rating is  4.252747252747253\n",
            "-----------------------------------------------------------\n",
            "Based on product reviews, for  B00JL2TURM  average rating is  4.826666666666667\n",
            "The first similar product is  B009GIOVKC  average rating is  4.578947368421052\n",
            "The second similar product is  B004ZD2M6I  average rating is  4.147058823529412\n",
            "-----------------------------------------------------------\n",
            "Based on product reviews, for  B00JQP1SP6  average rating is  4.844444444444444\n",
            "The first similar product is  B000UGVVHK  average rating is  4.583333333333333\n",
            "The second similar product is  B000F8HWXU  average rating is  4.409090909090909\n",
            "-----------------------------------------------------------\n",
            "Based on product reviews, for  B00JX979CQ  average rating is  4.9\n",
            "The first similar product is  B004Z209HS  average rating is  4.39\n",
            "The second similar product is  B00397XUIK  average rating is  4.344827586206897\n",
            "-----------------------------------------------------------\n",
            "Based on product reviews, for  B00K2O3NV2  average rating is  4.810344827586207\n",
            "The first similar product is  B00G2TQNZ4  average rating is  4.821428571428571\n",
            "The second similar product is  B00GLE8SNK  average rating is  4.80327868852459\n",
            "-----------------------------------------------------------\n",
            "Based on product reviews, for  B00KAL5JAU  average rating is  4.7611940298507465\n",
            "The first similar product is  B00AE07FXQ  average rating is  4.178947368421053\n",
            "The second similar product is  B007RTR8UC  average rating is  4.032608695652174\n",
            "-----------------------------------------------------------\n",
            "Based on product reviews, for  B00KCFAZTE  average rating is  4.7592592592592595\n",
            "The first similar product is  B0009RFB76  average rating is  3.853932584269663\n",
            "The second similar product is  B0028K3J9O  average rating is  3.4074074074074074\n",
            "-----------------------------------------------------------\n",
            "Based on product reviews, for  B00KCTER3U  average rating is  4.663265306122449\n",
            "The first similar product is  B003RF82UK  average rating is  4.138297872340425\n",
            "The second similar product is  B00365DABC  average rating is  4.5576923076923075\n",
            "-----------------------------------------------------------\n",
            "Based on product reviews, for  B00KD73PBQ  average rating is  4.838383838383838\n",
            "The first similar product is  B001T8MN16  average rating is  3.558139534883721\n",
            "The second similar product is  B00AE07H0M  average rating is  3.875\n",
            "-----------------------------------------------------------\n",
            "Based on product reviews, for  B00KH6F6TM  average rating is  4.979166666666667\n",
            "The first similar product is  B005SJSQIG  average rating is  4.166666666666667\n",
            "The second similar product is  B0046DZQDS  average rating is  4.458333333333333\n",
            "-----------------------------------------------------------\n",
            "Based on product reviews, for  B00KHGIK54  average rating is  4.8320610687022905\n",
            "The first similar product is  B0000CC64W  average rating is  4.314685314685315\n",
            "The second similar product is  B00G75X158  average rating is  4.743589743589744\n",
            "-----------------------------------------------------------\n",
            "Based on product reviews, for  B00KHH2VOY  average rating is  4.877049180327869\n",
            "The first similar product is  B000F6RFX4  average rating is  4.586956521739131\n",
            "The second similar product is  B000TAE0RK  average rating is  4.587301587301587\n",
            "-----------------------------------------------------------\n",
            "Based on product reviews, for  B00KQBR9FM  average rating is  4.745098039215686\n",
            "The first similar product is  B0009RFB76  average rating is  3.853932584269663\n",
            "The second similar product is  B0055S4BZ2  average rating is  3.7551020408163267\n",
            "-----------------------------------------------------------\n",
            "Based on product reviews, for  B00KQVTX06  average rating is  4.813953488372093\n",
            "The first similar product is  B00CE2JC9W  average rating is  4.509090909090909\n",
            "The second similar product is  B00GPWYF94  average rating is  4.911111111111111\n",
            "-----------------------------------------------------------\n"
          ],
          "name": "stdout"
        }
      ]
    },
    {
      "cell_type": "code",
      "metadata": {
        "colab": {
          "base_uri": "https://localhost:8080/"
        },
        "id": "C_qlr1lEPZde",
        "outputId": "5ea2c4cc-8478-4453-d0f6-280db3f1e045"
      },
      "source": [
        "df5_train_target = df3[\"overall\"][:lentrain]\r\n",
        "df5_test_target = df3[\"overall\"][lentrain:lentrain+lentest]\r\n",
        "df5_train_target = df5_train_target.astype(int)\r\n",
        "df5_test_target = df5_test_target.astype(int)\r\n",
        "\r\n",
        "n_neighbors = 3\r\n",
        "knnclf = neighbors.KNeighborsClassifier(n_neighbors, weights='distance')\r\n",
        "knnclf.fit(dfReviews_train, df5_train_target)\r\n",
        "knnpreds_test = knnclf.predict(dfReviews_test)\r\n",
        "\r\n",
        "print(classification_report(df5_test_target, knnpreds_test))"
      ],
      "execution_count": 93,
      "outputs": [
        {
          "output_type": "stream",
          "text": [
            "              precision    recall  f1-score   support\n",
            "\n",
            "           2       0.00      0.00      0.00         2\n",
            "           3       0.38      0.35      0.36        17\n",
            "           4       0.80      0.84      0.82        62\n",
            "\n",
            "    accuracy                           0.72        81\n",
            "   macro avg       0.39      0.40      0.39        81\n",
            "weighted avg       0.69      0.72      0.70        81\n",
            "\n"
          ],
          "name": "stdout"
        },
        {
          "output_type": "stream",
          "text": [
            "/usr/local/lib/python3.6/dist-packages/sklearn/metrics/_classification.py:1272: UndefinedMetricWarning: Precision and F-score are ill-defined and being set to 0.0 in labels with no predicted samples. Use `zero_division` parameter to control this behavior.\n",
            "  _warn_prf(average, modifier, msg_start, len(result))\n"
          ],
          "name": "stderr"
        }
      ]
    },
    {
      "cell_type": "code",
      "metadata": {
        "colab": {
          "base_uri": "https://localhost:8080/"
        },
        "id": "Nb9UW2JjP1yt",
        "outputId": "3625c5d1-7152-4fda-9ae7-654895d5da80"
      },
      "source": [
        "print (accuracy_score(df5_test_target, knnpreds_test))"
      ],
      "execution_count": 94,
      "outputs": [
        {
          "output_type": "stream",
          "text": [
            "0.7160493827160493\n"
          ],
          "name": "stdout"
        }
      ]
    },
    {
      "cell_type": "code",
      "metadata": {
        "colab": {
          "base_uri": "https://localhost:8080/"
        },
        "id": "u39QmBGMQL6d",
        "outputId": "90341314-40f6-4c22-88d1-fffda75f3b93"
      },
      "source": [
        "df5_train_target = df3[\"overall\"][:lentrain]\r\n",
        "df5_test_target = df3[\"overall\"][lentrain:lentrain+lentest]\r\n",
        "df5_train_target = df5_train_target.astype(int)\r\n",
        "df5_test_target = df5_test_target.astype(int)\r\n",
        "\r\n",
        "n_neighbors = 5\r\n",
        "knnclf = neighbors.KNeighborsClassifier(n_neighbors, weights='distance')\r\n",
        "knnclf.fit(dfReviews_train, df5_train_target)\r\n",
        "knnpreds_test = knnclf.predict(dfReviews_test)\r\n",
        "#print (knnpreds_test)\r\n",
        "\r\n",
        "print(classification_report(df5_test_target, knnpreds_test))"
      ],
      "execution_count": 103,
      "outputs": [
        {
          "output_type": "stream",
          "text": [
            "              precision    recall  f1-score   support\n",
            "\n",
            "           2       0.00      0.00      0.00         2\n",
            "           3       0.54      0.41      0.47        17\n",
            "           4       0.82      0.90      0.86        62\n",
            "\n",
            "    accuracy                           0.78        81\n",
            "   macro avg       0.45      0.44      0.44        81\n",
            "weighted avg       0.74      0.78      0.76        81\n",
            "\n"
          ],
          "name": "stdout"
        },
        {
          "output_type": "stream",
          "text": [
            "/usr/local/lib/python3.6/dist-packages/sklearn/metrics/_classification.py:1272: UndefinedMetricWarning: Precision and F-score are ill-defined and being set to 0.0 in labels with no predicted samples. Use `zero_division` parameter to control this behavior.\n",
            "  _warn_prf(average, modifier, msg_start, len(result))\n"
          ],
          "name": "stderr"
        }
      ]
    },
    {
      "cell_type": "code",
      "metadata": {
        "colab": {
          "base_uri": "https://localhost:8080/"
        },
        "id": "JVhkrUpEQUov",
        "outputId": "bcee0ded-b6c0-4548-cffe-26e63b3791e8"
      },
      "source": [
        "print (accuracy_score(df5_test_target, knnpreds_test))"
      ],
      "execution_count": 104,
      "outputs": [
        {
          "output_type": "stream",
          "text": [
            "0.7777777777777778\n"
          ],
          "name": "stdout"
        }
      ]
    },
    {
      "cell_type": "code",
      "metadata": {
        "id": "8fs3e2xoQZhe"
      },
      "source": [
        ""
      ],
      "execution_count": null,
      "outputs": []
    }
  ]
}