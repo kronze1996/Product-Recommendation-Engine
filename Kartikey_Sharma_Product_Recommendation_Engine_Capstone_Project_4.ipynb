{
  "nbformat": 4,
  "nbformat_minor": 0,
  "metadata": {
    "kernelspec": {
      "display_name": "Python 3",
      "language": "python",
      "name": "python3"
    },
    "language_info": {
      "codemirror_mode": {
        "name": "ipython",
        "version": 3
      },
      "file_extension": ".py",
      "mimetype": "text/x-python",
      "name": "python",
      "nbconvert_exporter": "python",
      "pygments_lexer": "ipython3",
      "version": "3.6.6"
    },
    "colab": {
      "name": "Kartikey Sharma - Product Recommendation Engine - Capstone Project 4.ipynb",
      "provenance": [],
      "collapsed_sections": [],
      "include_colab_link": true
    }
  },
  "cells": [
    {
      "cell_type": "markdown",
      "metadata": {
        "id": "view-in-github",
        "colab_type": "text"
      },
      "source": [
        "<a href=\"https://colab.research.google.com/github/kronze1996/Product-Recommendation-Engine/blob/main/Kartikey_Sharma_Product_Recommendation_Engine_Capstone_Project_4.ipynb\" target=\"_parent\"><img src=\"https://colab.research.google.com/assets/colab-badge.svg\" alt=\"Open In Colab\"/></a>"
      ]
    },
    {
      "cell_type": "markdown",
      "metadata": {
        "id": "tOGC-qoyhJeX"
      },
      "source": [
        "# <b><u> Project Title : Build a recommender engine that reviews customer ratings and purchase history to recommend items and improve sales. </u></b>"
      ]
    },
    {
      "cell_type": "markdown",
      "metadata": {
        "id": "Y06xIdG26kRF"
      },
      "source": [
        "### Amazon.com is one of the largest electronic commerce and cloud computing companies.\n",
        "\n",
        "### Just a few Amazon related facts:\n",
        "\n",
        "### They lost $4.8 million in August 2013, when their website went down for 40 mins. They hold the patent on 1-Click buying, and licenses it to Apple. Their Phoenix fulfilment centre is a massive 1.2 million square feet. Amazon relies heavily on a Recommendation engine that reviews customer ratings and purchase history to recommend items and improve sales.\n",
        "\n",
        "\n",
        "### This is a dataset related to over 2 Million customer reviews and ratings of Beauty related products sold on their website.\n",
        "\n",
        "### It contains\n",
        "\n",
        "* ### the unique UserId (Customer Identification),\n",
        "* ### the product ASIN (Amazon's unique product identification code for each product),\n",
        "* ### Ratings (ranging from 1-5 based on customer satisfaction) and\n",
        "* ### the Timestamp of the rating (in UNIX time)\n",
        "\n",
        "### This dataset contains product reviews and metadata from Amazon, including 142.8 million reviews spanning May 1996 - July 2014.\n",
        "\n",
        "### This dataset includes reviews (ratings, text, helpfulness votes), product metadata (descriptions, category information, price, brand, and image features), and links (also viewed/also bought graphs).\n"
      ]
    },
    {
      "cell_type": "code",
      "metadata": {
        "colab": {
          "base_uri": "https://localhost:8080/"
        },
        "id": "NDAc-nTytSUt",
        "outputId": "d4fe9241-3768-41a8-927e-2e08e15a0d4c"
      },
      "source": [
        "from google.colab import drive\r\n",
        "drive.mount('/content/drive')"
      ],
      "execution_count": 1,
      "outputs": [
        {
          "output_type": "stream",
          "text": [
            "Mounted at /content/drive\n"
          ],
          "name": "stdout"
        }
      ]
    },
    {
      "cell_type": "code",
      "metadata": {
        "id": "4yHq8PVnrazT"
      },
      "source": [
        "# Importing the libraries\r\n",
        "import pandas as pd\r\n",
        "import numpy as np\r\n",
        "import matplotlib.pyplot as plt\r\n",
        "import seaborn as sns\r\n",
        "\r\n",
        "from sklearn.model_selection import train_test_split\r\n",
        "from sklearn.preprocessing import OneHotEncoder\r\n",
        "from sklearn.model_selection import GridSearchCV\r\n",
        "from sklearn.model_selection import RandomizedSearchCV\r\n",
        "from sklearn.model_selection import train_test_split\r\n",
        "from sklearn.metrics import accuracy_score, auc\r\n",
        "from sklearn.tree import DecisionTreeClassifier\r\n",
        "from sklearn import ensemble\r\n",
        "\r\n",
        "from sklearn.metrics import confusion_matrix,roc_curve\r\n",
        "from sklearn.preprocessing import MinMaxScaler\r\n",
        "from sklearn.metrics import r2_score\r\n",
        "from sklearn.metrics import mean_squared_error\r\n",
        "from sklearn.metrics import roc_auc_score\r\n",
        "\r\n",
        "import seaborn as sns\r\n",
        "import matplotlib.pyplot as plt\r\n",
        "import warnings\r\n",
        "warnings.filterwarnings('ignore')"
      ],
      "execution_count": 2,
      "outputs": []
    },
    {
      "cell_type": "code",
      "metadata": {
        "id": "e0J2DNQOo5TA"
      },
      "source": [
        "path = \"/content/drive/MyDrive/AlmaBetter/Cohort Aravali/Module 4/Week 4/ratings_Beauty.csv\"\r\n",
        "df = pd.read_csv(path)\r\n",
        "review_df = pd.read_json('/content/drive/MyDrive/AlmaBetter/Cohort Aravali/Module 4/Week 4/reviews_Beauty_5 (1).json.gz',lines = True)"
      ],
      "execution_count": 3,
      "outputs": []
    },
    {
      "cell_type": "markdown",
      "metadata": {
        "id": "8vzluSLfZb11"
      },
      "source": [
        "#Exploratory Data Analysis"
      ]
    },
    {
      "cell_type": "code",
      "metadata": {
        "colab": {
          "base_uri": "https://localhost:8080/"
        },
        "id": "Vc-A1VfVxRoP",
        "outputId": "28174167-bed8-4152-c38e-d3e752a1d6e8"
      },
      "source": [
        "df.info()"
      ],
      "execution_count": 4,
      "outputs": [
        {
          "output_type": "stream",
          "text": [
            "<class 'pandas.core.frame.DataFrame'>\n",
            "RangeIndex: 2023070 entries, 0 to 2023069\n",
            "Data columns (total 4 columns):\n",
            " #   Column     Dtype  \n",
            "---  ------     -----  \n",
            " 0   UserId     object \n",
            " 1   ProductId  object \n",
            " 2   Rating     float64\n",
            " 3   Timestamp  int64  \n",
            "dtypes: float64(1), int64(1), object(2)\n",
            "memory usage: 61.7+ MB\n"
          ],
          "name": "stdout"
        }
      ]
    },
    {
      "cell_type": "code",
      "metadata": {
        "colab": {
          "base_uri": "https://localhost:8080/"
        },
        "id": "KcDKIZSkSjZY",
        "outputId": "45875d12-c5d3-4fa0-dd5d-e94d60912e2c"
      },
      "source": [
        "review_df.info()"
      ],
      "execution_count": 5,
      "outputs": [
        {
          "output_type": "stream",
          "text": [
            "<class 'pandas.core.frame.DataFrame'>\n",
            "RangeIndex: 198502 entries, 0 to 198501\n",
            "Data columns (total 9 columns):\n",
            " #   Column          Non-Null Count   Dtype \n",
            "---  ------          --------------   ----- \n",
            " 0   reviewerID      198502 non-null  object\n",
            " 1   asin            198502 non-null  object\n",
            " 2   reviewerName    197116 non-null  object\n",
            " 3   helpful         198502 non-null  object\n",
            " 4   reviewText      198502 non-null  object\n",
            " 5   overall         198502 non-null  int64 \n",
            " 6   summary         198502 non-null  object\n",
            " 7   unixReviewTime  198502 non-null  int64 \n",
            " 8   reviewTime      198502 non-null  object\n",
            "dtypes: int64(2), object(7)\n",
            "memory usage: 13.6+ MB\n"
          ],
          "name": "stdout"
        }
      ]
    },
    {
      "cell_type": "code",
      "metadata": {
        "colab": {
          "base_uri": "https://localhost:8080/",
          "height": 622
        },
        "id": "pFtpBDoCta5z",
        "outputId": "2523b012-d8ef-4408-b693-92c4a07f3953"
      },
      "source": [
        "df.head(20)"
      ],
      "execution_count": 27,
      "outputs": [
        {
          "output_type": "execute_result",
          "data": {
            "text/html": [
              "<div>\n",
              "<style scoped>\n",
              "    .dataframe tbody tr th:only-of-type {\n",
              "        vertical-align: middle;\n",
              "    }\n",
              "\n",
              "    .dataframe tbody tr th {\n",
              "        vertical-align: top;\n",
              "    }\n",
              "\n",
              "    .dataframe thead th {\n",
              "        text-align: right;\n",
              "    }\n",
              "</style>\n",
              "<table border=\"1\" class=\"dataframe\">\n",
              "  <thead>\n",
              "    <tr style=\"text-align: right;\">\n",
              "      <th></th>\n",
              "      <th>UserId</th>\n",
              "      <th>ProductId</th>\n",
              "      <th>Rating</th>\n",
              "      <th>Timestamp</th>\n",
              "    </tr>\n",
              "  </thead>\n",
              "  <tbody>\n",
              "    <tr>\n",
              "      <th>0</th>\n",
              "      <td>A39HTATAQ9V7YF</td>\n",
              "      <td>0205616461</td>\n",
              "      <td>5.0</td>\n",
              "      <td>1369699200</td>\n",
              "    </tr>\n",
              "    <tr>\n",
              "      <th>1</th>\n",
              "      <td>A3JM6GV9MNOF9X</td>\n",
              "      <td>0558925278</td>\n",
              "      <td>3.0</td>\n",
              "      <td>1355443200</td>\n",
              "    </tr>\n",
              "    <tr>\n",
              "      <th>2</th>\n",
              "      <td>A1Z513UWSAAO0F</td>\n",
              "      <td>0558925278</td>\n",
              "      <td>5.0</td>\n",
              "      <td>1404691200</td>\n",
              "    </tr>\n",
              "    <tr>\n",
              "      <th>3</th>\n",
              "      <td>A1WMRR494NWEWV</td>\n",
              "      <td>0733001998</td>\n",
              "      <td>4.0</td>\n",
              "      <td>1382572800</td>\n",
              "    </tr>\n",
              "    <tr>\n",
              "      <th>4</th>\n",
              "      <td>A3IAAVS479H7M7</td>\n",
              "      <td>0737104473</td>\n",
              "      <td>1.0</td>\n",
              "      <td>1274227200</td>\n",
              "    </tr>\n",
              "    <tr>\n",
              "      <th>5</th>\n",
              "      <td>AKJHHD5VEH7VG</td>\n",
              "      <td>0762451459</td>\n",
              "      <td>5.0</td>\n",
              "      <td>1404518400</td>\n",
              "    </tr>\n",
              "    <tr>\n",
              "      <th>6</th>\n",
              "      <td>A1BG8QW55XHN6U</td>\n",
              "      <td>1304139212</td>\n",
              "      <td>5.0</td>\n",
              "      <td>1371945600</td>\n",
              "    </tr>\n",
              "    <tr>\n",
              "      <th>7</th>\n",
              "      <td>A22VW0P4VZHDE3</td>\n",
              "      <td>1304139220</td>\n",
              "      <td>5.0</td>\n",
              "      <td>1373068800</td>\n",
              "    </tr>\n",
              "    <tr>\n",
              "      <th>8</th>\n",
              "      <td>A3V3RE4132GKRO</td>\n",
              "      <td>130414089X</td>\n",
              "      <td>5.0</td>\n",
              "      <td>1401840000</td>\n",
              "    </tr>\n",
              "    <tr>\n",
              "      <th>9</th>\n",
              "      <td>A327B0I7CYTEJC</td>\n",
              "      <td>130414643X</td>\n",
              "      <td>4.0</td>\n",
              "      <td>1389052800</td>\n",
              "    </tr>\n",
              "    <tr>\n",
              "      <th>10</th>\n",
              "      <td>A1BG8QW55XHN6U</td>\n",
              "      <td>130414643X</td>\n",
              "      <td>5.0</td>\n",
              "      <td>1372032000</td>\n",
              "    </tr>\n",
              "    <tr>\n",
              "      <th>11</th>\n",
              "      <td>AIFAAVTUYHEHB</td>\n",
              "      <td>130414643X</td>\n",
              "      <td>4.0</td>\n",
              "      <td>1378252800</td>\n",
              "    </tr>\n",
              "    <tr>\n",
              "      <th>12</th>\n",
              "      <td>AVOGV98AYOFG2</td>\n",
              "      <td>1304146537</td>\n",
              "      <td>5.0</td>\n",
              "      <td>1372118400</td>\n",
              "    </tr>\n",
              "    <tr>\n",
              "      <th>13</th>\n",
              "      <td>A22VW0P4VZHDE3</td>\n",
              "      <td>130414674X</td>\n",
              "      <td>5.0</td>\n",
              "      <td>1371686400</td>\n",
              "    </tr>\n",
              "    <tr>\n",
              "      <th>14</th>\n",
              "      <td>AVOGV98AYOFG2</td>\n",
              "      <td>1304168522</td>\n",
              "      <td>5.0</td>\n",
              "      <td>1372118400</td>\n",
              "    </tr>\n",
              "    <tr>\n",
              "      <th>15</th>\n",
              "      <td>A6R426V4J7AOM</td>\n",
              "      <td>1304168522</td>\n",
              "      <td>5.0</td>\n",
              "      <td>1373414400</td>\n",
              "    </tr>\n",
              "    <tr>\n",
              "      <th>16</th>\n",
              "      <td>A22VW0P4VZHDE3</td>\n",
              "      <td>1304174778</td>\n",
              "      <td>5.0</td>\n",
              "      <td>1372896000</td>\n",
              "    </tr>\n",
              "    <tr>\n",
              "      <th>17</th>\n",
              "      <td>AKGB62WGF35J8</td>\n",
              "      <td>1304174778</td>\n",
              "      <td>5.0</td>\n",
              "      <td>1372896000</td>\n",
              "    </tr>\n",
              "    <tr>\n",
              "      <th>18</th>\n",
              "      <td>A22VW0P4VZHDE3</td>\n",
              "      <td>1304174867</td>\n",
              "      <td>5.0</td>\n",
              "      <td>1373068800</td>\n",
              "    </tr>\n",
              "    <tr>\n",
              "      <th>19</th>\n",
              "      <td>A1BG8QW55XHN6U</td>\n",
              "      <td>1304174867</td>\n",
              "      <td>5.0</td>\n",
              "      <td>1372291200</td>\n",
              "    </tr>\n",
              "  </tbody>\n",
              "</table>\n",
              "</div>"
            ],
            "text/plain": [
              "            UserId   ProductId  Rating   Timestamp\n",
              "0   A39HTATAQ9V7YF  0205616461     5.0  1369699200\n",
              "1   A3JM6GV9MNOF9X  0558925278     3.0  1355443200\n",
              "2   A1Z513UWSAAO0F  0558925278     5.0  1404691200\n",
              "3   A1WMRR494NWEWV  0733001998     4.0  1382572800\n",
              "4   A3IAAVS479H7M7  0737104473     1.0  1274227200\n",
              "5    AKJHHD5VEH7VG  0762451459     5.0  1404518400\n",
              "6   A1BG8QW55XHN6U  1304139212     5.0  1371945600\n",
              "7   A22VW0P4VZHDE3  1304139220     5.0  1373068800\n",
              "8   A3V3RE4132GKRO  130414089X     5.0  1401840000\n",
              "9   A327B0I7CYTEJC  130414643X     4.0  1389052800\n",
              "10  A1BG8QW55XHN6U  130414643X     5.0  1372032000\n",
              "11   AIFAAVTUYHEHB  130414643X     4.0  1378252800\n",
              "12   AVOGV98AYOFG2  1304146537     5.0  1372118400\n",
              "13  A22VW0P4VZHDE3  130414674X     5.0  1371686400\n",
              "14   AVOGV98AYOFG2  1304168522     5.0  1372118400\n",
              "15   A6R426V4J7AOM  1304168522     5.0  1373414400\n",
              "16  A22VW0P4VZHDE3  1304174778     5.0  1372896000\n",
              "17   AKGB62WGF35J8  1304174778     5.0  1372896000\n",
              "18  A22VW0P4VZHDE3  1304174867     5.0  1373068800\n",
              "19  A1BG8QW55XHN6U  1304174867     5.0  1372291200"
            ]
          },
          "metadata": {
            "tags": []
          },
          "execution_count": 27
        }
      ]
    },
    {
      "cell_type": "code",
      "metadata": {
        "colab": {
          "base_uri": "https://localhost:8080/"
        },
        "id": "4rB0Kto1Ui3s",
        "outputId": "3676d010-9660-407f-a20d-df7a18c57f30"
      },
      "source": [
        "df['ProductId'].value_counts()"
      ],
      "execution_count": 30,
      "outputs": [
        {
          "output_type": "execute_result",
          "data": {
            "text/plain": [
              "B001MA0QY2    7533\n",
              "B0009V1YR8    2869\n",
              "B0043OYFKU    2477\n",
              "B0000YUXI0    2143\n",
              "B003V265QW    2088\n",
              "              ... \n",
              "B00K5KCVLQ       1\n",
              "B000NO6XXQ       1\n",
              "B0059K30D0       1\n",
              "B000BWHHYY       1\n",
              "B00269N4D8       1\n",
              "Name: ProductId, Length: 249274, dtype: int64"
            ]
          },
          "metadata": {
            "tags": []
          },
          "execution_count": 30
        }
      ]
    },
    {
      "cell_type": "code",
      "metadata": {
        "colab": {
          "base_uri": "https://localhost:8080/",
          "height": 622
        },
        "id": "HIhtp67uP82W",
        "outputId": "4329b157-14d3-45f6-9266-08d23bcc2b33"
      },
      "source": [
        "review_df.head(20)"
      ],
      "execution_count": 26,
      "outputs": [
        {
          "output_type": "execute_result",
          "data": {
            "text/html": [
              "<div>\n",
              "<style scoped>\n",
              "    .dataframe tbody tr th:only-of-type {\n",
              "        vertical-align: middle;\n",
              "    }\n",
              "\n",
              "    .dataframe tbody tr th {\n",
              "        vertical-align: top;\n",
              "    }\n",
              "\n",
              "    .dataframe thead th {\n",
              "        text-align: right;\n",
              "    }\n",
              "</style>\n",
              "<table border=\"1\" class=\"dataframe\">\n",
              "  <thead>\n",
              "    <tr style=\"text-align: right;\">\n",
              "      <th></th>\n",
              "      <th>reviewerID</th>\n",
              "      <th>asin</th>\n",
              "      <th>reviewerName</th>\n",
              "      <th>helpful</th>\n",
              "      <th>reviewText</th>\n",
              "      <th>overall</th>\n",
              "      <th>summary</th>\n",
              "      <th>unixReviewTime</th>\n",
              "      <th>reviewTime</th>\n",
              "    </tr>\n",
              "  </thead>\n",
              "  <tbody>\n",
              "    <tr>\n",
              "      <th>0</th>\n",
              "      <td>A1YJEY40YUW4SE</td>\n",
              "      <td>7806397051</td>\n",
              "      <td>Andrea</td>\n",
              "      <td>[3, 4]</td>\n",
              "      <td>Very oily and creamy. Not at all what I expect...</td>\n",
              "      <td>1</td>\n",
              "      <td>Don't waste your money</td>\n",
              "      <td>1391040000</td>\n",
              "      <td>01 30, 2014</td>\n",
              "    </tr>\n",
              "    <tr>\n",
              "      <th>1</th>\n",
              "      <td>A60XNB876KYML</td>\n",
              "      <td>7806397051</td>\n",
              "      <td>Jessica H.</td>\n",
              "      <td>[1, 1]</td>\n",
              "      <td>This palette was a decent price and I was look...</td>\n",
              "      <td>3</td>\n",
              "      <td>OK Palette!</td>\n",
              "      <td>1397779200</td>\n",
              "      <td>04 18, 2014</td>\n",
              "    </tr>\n",
              "    <tr>\n",
              "      <th>2</th>\n",
              "      <td>A3G6XNM240RMWA</td>\n",
              "      <td>7806397051</td>\n",
              "      <td>Karen</td>\n",
              "      <td>[0, 1]</td>\n",
              "      <td>The texture of this concealer pallet is fantas...</td>\n",
              "      <td>4</td>\n",
              "      <td>great quality</td>\n",
              "      <td>1378425600</td>\n",
              "      <td>09 6, 2013</td>\n",
              "    </tr>\n",
              "    <tr>\n",
              "      <th>3</th>\n",
              "      <td>A1PQFP6SAJ6D80</td>\n",
              "      <td>7806397051</td>\n",
              "      <td>Norah</td>\n",
              "      <td>[2, 2]</td>\n",
              "      <td>I really can't tell what exactly this thing is...</td>\n",
              "      <td>2</td>\n",
              "      <td>Do not work on my face</td>\n",
              "      <td>1386460800</td>\n",
              "      <td>12 8, 2013</td>\n",
              "    </tr>\n",
              "    <tr>\n",
              "      <th>4</th>\n",
              "      <td>A38FVHZTNQ271F</td>\n",
              "      <td>7806397051</td>\n",
              "      <td>Nova Amor</td>\n",
              "      <td>[0, 0]</td>\n",
              "      <td>It was a little smaller than I expected, but t...</td>\n",
              "      <td>3</td>\n",
              "      <td>It's okay.</td>\n",
              "      <td>1382140800</td>\n",
              "      <td>10 19, 2013</td>\n",
              "    </tr>\n",
              "    <tr>\n",
              "      <th>5</th>\n",
              "      <td>A3BTN14HIZET6Z</td>\n",
              "      <td>7806397051</td>\n",
              "      <td>S. M. Randall \"WildHorseWoman\"</td>\n",
              "      <td>[1, 2]</td>\n",
              "      <td>I was very happy to get this palette, now I wi...</td>\n",
              "      <td>5</td>\n",
              "      <td>Very nice palette!</td>\n",
              "      <td>1365984000</td>\n",
              "      <td>04 15, 2013</td>\n",
              "    </tr>\n",
              "    <tr>\n",
              "      <th>6</th>\n",
              "      <td>A1Z59RFKN0M5QL</td>\n",
              "      <td>7806397051</td>\n",
              "      <td>tasha \"luvely12b\"</td>\n",
              "      <td>[1, 3]</td>\n",
              "      <td>PLEASE DONT DO IT! this just rachett the palet...</td>\n",
              "      <td>1</td>\n",
              "      <td>smh!!!</td>\n",
              "      <td>1376611200</td>\n",
              "      <td>08 16, 2013</td>\n",
              "    </tr>\n",
              "    <tr>\n",
              "      <th>7</th>\n",
              "      <td>AWUO9P6PL1SY8</td>\n",
              "      <td>7806397051</td>\n",
              "      <td>TreMagnifique</td>\n",
              "      <td>[0, 1]</td>\n",
              "      <td>Chalky,Not Pigmented,Wears off easily,Not a Co...</td>\n",
              "      <td>2</td>\n",
              "      <td>Chalky, Not Pigmented, Wears off easily, Not a...</td>\n",
              "      <td>1378252800</td>\n",
              "      <td>09 4, 2013</td>\n",
              "    </tr>\n",
              "    <tr>\n",
              "      <th>8</th>\n",
              "      <td>A3LMILRM9OC3SA</td>\n",
              "      <td>9759091062</td>\n",
              "      <td>NaN</td>\n",
              "      <td>[0, 0]</td>\n",
              "      <td>Did nothing for me. Stings when I put it on. I...</td>\n",
              "      <td>2</td>\n",
              "      <td>no Lightening, no Brightening,......NOTHING</td>\n",
              "      <td>1405209600</td>\n",
              "      <td>07 13, 2014</td>\n",
              "    </tr>\n",
              "    <tr>\n",
              "      <th>9</th>\n",
              "      <td>A30IP88QK3YUIO</td>\n",
              "      <td>9759091062</td>\n",
              "      <td>Amina Bint Ibraheem</td>\n",
              "      <td>[0, 0]</td>\n",
              "      <td>I bought this product to get rid of the dark s...</td>\n",
              "      <td>3</td>\n",
              "      <td>Its alright</td>\n",
              "      <td>1388102400</td>\n",
              "      <td>12 27, 2013</td>\n",
              "    </tr>\n",
              "    <tr>\n",
              "      <th>10</th>\n",
              "      <td>APBQH4BS48CQO</td>\n",
              "      <td>9759091062</td>\n",
              "      <td>Charmmy</td>\n",
              "      <td>[0, 0]</td>\n",
              "      <td>I have mixed feelings about this product. When...</td>\n",
              "      <td>3</td>\n",
              "      <td>Mixed feelings.</td>\n",
              "      <td>1400544000</td>\n",
              "      <td>05 20, 2014</td>\n",
              "    </tr>\n",
              "    <tr>\n",
              "      <th>11</th>\n",
              "      <td>A3FE8W8UV95U6B</td>\n",
              "      <td>9759091062</td>\n",
              "      <td>Culture C Simmons</td>\n",
              "      <td>[0, 0]</td>\n",
              "      <td>Did nothing for my skin. Used as suggested and...</td>\n",
              "      <td>1</td>\n",
              "      <td>Nothing</td>\n",
              "      <td>1392681600</td>\n",
              "      <td>02 18, 2014</td>\n",
              "    </tr>\n",
              "    <tr>\n",
              "      <th>12</th>\n",
              "      <td>A1EVGDOTGFZOSS</td>\n",
              "      <td>9759091062</td>\n",
              "      <td>Jessica \"Anarchykisses\"</td>\n",
              "      <td>[0, 1]</td>\n",
              "      <td>I bought this product about 3 months ago, I fi...</td>\n",
              "      <td>5</td>\n",
              "      <td>This works</td>\n",
              "      <td>1390435200</td>\n",
              "      <td>01 23, 2014</td>\n",
              "    </tr>\n",
              "    <tr>\n",
              "      <th>13</th>\n",
              "      <td>AP5WTCMP6DTRV</td>\n",
              "      <td>9759091062</td>\n",
              "      <td>Layla B</td>\n",
              "      <td>[0, 0]</td>\n",
              "      <td>This gell did nothing at all. I religiously pu...</td>\n",
              "      <td>1</td>\n",
              "      <td>Does nothing</td>\n",
              "      <td>1389398400</td>\n",
              "      <td>01 11, 2014</td>\n",
              "    </tr>\n",
              "    <tr>\n",
              "      <th>14</th>\n",
              "      <td>A21IM16PQWKVO5</td>\n",
              "      <td>9759091062</td>\n",
              "      <td>mdub9922</td>\n",
              "      <td>[0, 1]</td>\n",
              "      <td>i got this to get rid of a scar and it did jus...</td>\n",
              "      <td>5</td>\n",
              "      <td>it works</td>\n",
              "      <td>1392681600</td>\n",
              "      <td>02 18, 2014</td>\n",
              "    </tr>\n",
              "    <tr>\n",
              "      <th>15</th>\n",
              "      <td>A1TLDR1V4O48PK</td>\n",
              "      <td>9759091062</td>\n",
              "      <td>Mickey O Neil \"Mickey O Neil\"</td>\n",
              "      <td>[0, 0]</td>\n",
              "      <td>I used it for anal bleaching and it burned a b...</td>\n",
              "      <td>2</td>\n",
              "      <td>burns</td>\n",
              "      <td>1396742400</td>\n",
              "      <td>04 6, 2014</td>\n",
              "    </tr>\n",
              "    <tr>\n",
              "      <th>16</th>\n",
              "      <td>A6F8KH0J1AVYA</td>\n",
              "      <td>9759091062</td>\n",
              "      <td>SanBen</td>\n",
              "      <td>[2, 4]</td>\n",
              "      <td>I order this cream along with their soap. It a...</td>\n",
              "      <td>5</td>\n",
              "      <td>Did work for me</td>\n",
              "      <td>1379116800</td>\n",
              "      <td>09 14, 2013</td>\n",
              "    </tr>\n",
              "    <tr>\n",
              "      <th>17</th>\n",
              "      <td>AXPKZA7UZXKTT</td>\n",
              "      <td>9759091062</td>\n",
              "      <td>Shirleyyy</td>\n",
              "      <td>[2, 4]</td>\n",
              "      <td>Good product. Use a little bit on your spot an...</td>\n",
              "      <td>4</td>\n",
              "      <td>excellent</td>\n",
              "      <td>1382054400</td>\n",
              "      <td>10 18, 2013</td>\n",
              "    </tr>\n",
              "    <tr>\n",
              "      <th>18</th>\n",
              "      <td>A2SIAYDK7GG7QA</td>\n",
              "      <td>9759091062</td>\n",
              "      <td>theredtranny</td>\n",
              "      <td>[0, 1]</td>\n",
              "      <td>I didn't use it past a week. The reason why is...</td>\n",
              "      <td>3</td>\n",
              "      <td>weird smell</td>\n",
              "      <td>1383264000</td>\n",
              "      <td>11 1, 2013</td>\n",
              "    </tr>\n",
              "    <tr>\n",
              "      <th>19</th>\n",
              "      <td>A1QV5IH6HDRN0L</td>\n",
              "      <td>9788072216</td>\n",
              "      <td>armygirl</td>\n",
              "      <td>[24, 24]</td>\n",
              "      <td>I haven't been a big fan of Prada's fragrances...</td>\n",
              "      <td>5</td>\n",
              "      <td>Love the smell of this!</td>\n",
              "      <td>1316390400</td>\n",
              "      <td>09 19, 2011</td>\n",
              "    </tr>\n",
              "  </tbody>\n",
              "</table>\n",
              "</div>"
            ],
            "text/plain": [
              "        reviewerID        asin  ... unixReviewTime   reviewTime\n",
              "0   A1YJEY40YUW4SE  7806397051  ...     1391040000  01 30, 2014\n",
              "1    A60XNB876KYML  7806397051  ...     1397779200  04 18, 2014\n",
              "2   A3G6XNM240RMWA  7806397051  ...     1378425600   09 6, 2013\n",
              "3   A1PQFP6SAJ6D80  7806397051  ...     1386460800   12 8, 2013\n",
              "4   A38FVHZTNQ271F  7806397051  ...     1382140800  10 19, 2013\n",
              "5   A3BTN14HIZET6Z  7806397051  ...     1365984000  04 15, 2013\n",
              "6   A1Z59RFKN0M5QL  7806397051  ...     1376611200  08 16, 2013\n",
              "7    AWUO9P6PL1SY8  7806397051  ...     1378252800   09 4, 2013\n",
              "8   A3LMILRM9OC3SA  9759091062  ...     1405209600  07 13, 2014\n",
              "9   A30IP88QK3YUIO  9759091062  ...     1388102400  12 27, 2013\n",
              "10   APBQH4BS48CQO  9759091062  ...     1400544000  05 20, 2014\n",
              "11  A3FE8W8UV95U6B  9759091062  ...     1392681600  02 18, 2014\n",
              "12  A1EVGDOTGFZOSS  9759091062  ...     1390435200  01 23, 2014\n",
              "13   AP5WTCMP6DTRV  9759091062  ...     1389398400  01 11, 2014\n",
              "14  A21IM16PQWKVO5  9759091062  ...     1392681600  02 18, 2014\n",
              "15  A1TLDR1V4O48PK  9759091062  ...     1396742400   04 6, 2014\n",
              "16   A6F8KH0J1AVYA  9759091062  ...     1379116800  09 14, 2013\n",
              "17   AXPKZA7UZXKTT  9759091062  ...     1382054400  10 18, 2013\n",
              "18  A2SIAYDK7GG7QA  9759091062  ...     1383264000   11 1, 2013\n",
              "19  A1QV5IH6HDRN0L  9788072216  ...     1316390400  09 19, 2011\n",
              "\n",
              "[20 rows x 9 columns]"
            ]
          },
          "metadata": {
            "tags": []
          },
          "execution_count": 26
        }
      ]
    },
    {
      "cell_type": "markdown",
      "metadata": {
        "id": "A6FRELu3ONDX"
      },
      "source": [
        "Exploring the data sets"
      ]
    },
    {
      "cell_type": "code",
      "metadata": {
        "colab": {
          "base_uri": "https://localhost:8080/",
          "height": 277
        },
        "id": "Ya6av1e-SQOY",
        "outputId": "7ea11bc7-d426-40f1-f907-7549a3ab39cc"
      },
      "source": [
        "df[df['UserId']=='A1YJEY40YUW4SE']"
      ],
      "execution_count": 7,
      "outputs": [
        {
          "output_type": "execute_result",
          "data": {
            "text/html": [
              "<div>\n",
              "<style scoped>\n",
              "    .dataframe tbody tr th:only-of-type {\n",
              "        vertical-align: middle;\n",
              "    }\n",
              "\n",
              "    .dataframe tbody tr th {\n",
              "        vertical-align: top;\n",
              "    }\n",
              "\n",
              "    .dataframe thead th {\n",
              "        text-align: right;\n",
              "    }\n",
              "</style>\n",
              "<table border=\"1\" class=\"dataframe\">\n",
              "  <thead>\n",
              "    <tr style=\"text-align: right;\">\n",
              "      <th></th>\n",
              "      <th>UserId</th>\n",
              "      <th>ProductId</th>\n",
              "      <th>Rating</th>\n",
              "      <th>Timestamp</th>\n",
              "    </tr>\n",
              "  </thead>\n",
              "  <tbody>\n",
              "    <tr>\n",
              "      <th>340</th>\n",
              "      <td>A1YJEY40YUW4SE</td>\n",
              "      <td>7806397051</td>\n",
              "      <td>1.0</td>\n",
              "      <td>1391040000</td>\n",
              "    </tr>\n",
              "    <tr>\n",
              "      <th>440062</th>\n",
              "      <td>A1YJEY40YUW4SE</td>\n",
              "      <td>B000V6BCSW</td>\n",
              "      <td>2.0</td>\n",
              "      <td>1391040000</td>\n",
              "    </tr>\n",
              "    <tr>\n",
              "      <th>807482</th>\n",
              "      <td>A1YJEY40YUW4SE</td>\n",
              "      <td>B0020YLEYK</td>\n",
              "      <td>5.0</td>\n",
              "      <td>1328140800</td>\n",
              "    </tr>\n",
              "    <tr>\n",
              "      <th>942164</th>\n",
              "      <td>A1YJEY40YUW4SE</td>\n",
              "      <td>B002WLWX82</td>\n",
              "      <td>1.0</td>\n",
              "      <td>1391040000</td>\n",
              "    </tr>\n",
              "    <tr>\n",
              "      <th>1177542</th>\n",
              "      <td>A1YJEY40YUW4SE</td>\n",
              "      <td>B004756YJA</td>\n",
              "      <td>5.0</td>\n",
              "      <td>1318896000</td>\n",
              "    </tr>\n",
              "    <tr>\n",
              "      <th>1337973</th>\n",
              "      <td>A1YJEY40YUW4SE</td>\n",
              "      <td>B004ZT0SSG</td>\n",
              "      <td>5.0</td>\n",
              "      <td>1318896000</td>\n",
              "    </tr>\n",
              "    <tr>\n",
              "      <th>1538217</th>\n",
              "      <td>A1YJEY40YUW4SE</td>\n",
              "      <td>B006XL55FK</td>\n",
              "      <td>5.0</td>\n",
              "      <td>1391040000</td>\n",
              "    </tr>\n",
              "    <tr>\n",
              "      <th>1982381</th>\n",
              "      <td>A1YJEY40YUW4SE</td>\n",
              "      <td>B00GZTXTZI</td>\n",
              "      <td>4.0</td>\n",
              "      <td>1391040000</td>\n",
              "    </tr>\n",
              "  </tbody>\n",
              "</table>\n",
              "</div>"
            ],
            "text/plain": [
              "                 UserId   ProductId  Rating   Timestamp\n",
              "340      A1YJEY40YUW4SE  7806397051     1.0  1391040000\n",
              "440062   A1YJEY40YUW4SE  B000V6BCSW     2.0  1391040000\n",
              "807482   A1YJEY40YUW4SE  B0020YLEYK     5.0  1328140800\n",
              "942164   A1YJEY40YUW4SE  B002WLWX82     1.0  1391040000\n",
              "1177542  A1YJEY40YUW4SE  B004756YJA     5.0  1318896000\n",
              "1337973  A1YJEY40YUW4SE  B004ZT0SSG     5.0  1318896000\n",
              "1538217  A1YJEY40YUW4SE  B006XL55FK     5.0  1391040000\n",
              "1982381  A1YJEY40YUW4SE  B00GZTXTZI     4.0  1391040000"
            ]
          },
          "metadata": {
            "tags": []
          },
          "execution_count": 7
        }
      ]
    },
    {
      "cell_type": "code",
      "metadata": {
        "colab": {
          "base_uri": "https://localhost:8080/"
        },
        "id": "yjFlQpgwxVVP",
        "outputId": "4a8fe150-6aa7-4364-b8db-8f3ea6a2eaaa"
      },
      "source": [
        "df['Rating'].value_counts()"
      ],
      "execution_count": 9,
      "outputs": [
        {
          "output_type": "execute_result",
          "data": {
            "text/plain": [
              "5.0    1248721\n",
              "4.0     307740\n",
              "1.0     183784\n",
              "3.0     169791\n",
              "2.0     113034\n",
              "Name: Rating, dtype: int64"
            ]
          },
          "metadata": {
            "tags": []
          },
          "execution_count": 9
        }
      ]
    },
    {
      "cell_type": "code",
      "metadata": {
        "colab": {
          "base_uri": "https://localhost:8080/"
        },
        "id": "_E_0ylKHLaGK",
        "outputId": "109a7dbc-c9b4-4cd0-9f2c-e444d0af2a98"
      },
      "source": [
        "df['UserId'].value_counts()"
      ],
      "execution_count": 10,
      "outputs": [
        {
          "output_type": "execute_result",
          "data": {
            "text/plain": [
              "A3KEZLJ59C1JVH    389\n",
              "A281NPSIMI1C2R    336\n",
              "A3M174IC0VXOS2    326\n",
              "A2V5R832QCSOMX    278\n",
              "A3LJLRIZL38GG3    276\n",
              "                 ... \n",
              "A27TKCMDYFCFOY      1\n",
              "A2HMZOZDVIJPAA      1\n",
              "A2O7BAVY4B8YWE      1\n",
              "A3PG1BUROWA2I5      1\n",
              "A3XBERN4PVPUD       1\n",
              "Name: UserId, Length: 1210271, dtype: int64"
            ]
          },
          "metadata": {
            "tags": []
          },
          "execution_count": 10
        }
      ]
    },
    {
      "cell_type": "markdown",
      "metadata": {
        "id": "55HB6Bd1RPmc"
      },
      "source": [
        "Taking data for users who bought atleast 5 items"
      ]
    },
    {
      "cell_type": "code",
      "metadata": {
        "colab": {
          "base_uri": "https://localhost:8080/"
        },
        "id": "9Zb9pyPtROe8",
        "outputId": "b8ba412b-badd-4e58-e9e0-9c51754638d7"
      },
      "source": [
        "df['UserId'].value_counts()"
      ],
      "execution_count": 14,
      "outputs": [
        {
          "output_type": "execute_result",
          "data": {
            "text/plain": [
              "A3KEZLJ59C1JVH    389\n",
              "A281NPSIMI1C2R    336\n",
              "A3M174IC0VXOS2    326\n",
              "A2V5R832QCSOMX    278\n",
              "A3LJLRIZL38GG3    276\n",
              "                 ... \n",
              "A27TKCMDYFCFOY      1\n",
              "A2HMZOZDVIJPAA      1\n",
              "A2O7BAVY4B8YWE      1\n",
              "A3PG1BUROWA2I5      1\n",
              "A3XBERN4PVPUD       1\n",
              "Name: UserId, Length: 1210271, dtype: int64"
            ]
          },
          "metadata": {
            "tags": []
          },
          "execution_count": 14
        }
      ]
    },
    {
      "cell_type": "markdown",
      "metadata": {
        "id": "31H84t7HScL2"
      },
      "source": [
        "Recommender systems have a problem known as user cold-start, in which it is hard to provide personalized recommendations for users with none or a very few number of consumed items, due to the lack of information to model their preferences.  \r\n",
        "\r\n",
        "For this reason, we are keeping in the dataset only users with at least 5 interactions."
      ]
    },
    {
      "cell_type": "code",
      "metadata": {
        "colab": {
          "base_uri": "https://localhost:8080/"
        },
        "id": "rQgWTs6LLgU-",
        "outputId": "e1483f9f-dec3-4a42-afe0-db48e7e30338"
      },
      "source": [
        "users_interactions_count_df = df.groupby(['UserId', 'ProductId']).size().groupby('UserId').size()\r\n",
        "print('# of users: %d' % len(users_interactions_count_df))\r\n",
        "\r\n",
        "users_with_enough_interactions_df = users_interactions_count_df[users_interactions_count_df >= 5].reset_index()[['UserId']]\r\n",
        "print('# of users with at least 5 interactions: %d' % len(users_with_enough_interactions_df))"
      ],
      "execution_count": 17,
      "outputs": [
        {
          "output_type": "stream",
          "text": [
            "# of users: 1210271\n",
            "# of users with at least 5 interactions: 52374\n"
          ],
          "name": "stdout"
        }
      ]
    },
    {
      "cell_type": "code",
      "metadata": {
        "colab": {
          "base_uri": "https://localhost:8080/"
        },
        "id": "25UcIaUGSLpU",
        "outputId": "3290978e-2026-44a0-922c-af05d8afca44"
      },
      "source": [
        "users_with_enough_interactions_df.value_counts()"
      ],
      "execution_count": 19,
      "outputs": [
        {
          "output_type": "execute_result",
          "data": {
            "text/plain": [
              "UserId               \n",
              "AZZZLM1E5JJ8C            1\n",
              "A29FFXE1ZJWMDB           1\n",
              "A29GNM310NIEGI           1\n",
              "A29GF42C0YFQOK           1\n",
              "A29GES4X1DL5JV           1\n",
              "                        ..\n",
              "A3III07Y9VJI8Q           1\n",
              "A3IIGCFLKVFW8M           1\n",
              "A3IIG6WN78DIOQ           1\n",
              "A3IIDZ9XUDM7RP           1\n",
              "A00414041RD0BXM6WK0GX    1\n",
              "Length: 52374, dtype: int64"
            ]
          },
          "metadata": {
            "tags": []
          },
          "execution_count": 19
        }
      ]
    },
    {
      "cell_type": "markdown",
      "metadata": {
        "id": "7erupZGZTB4m"
      },
      "source": [
        "Checking for user with 1 interaction"
      ]
    },
    {
      "cell_type": "code",
      "metadata": {
        "colab": {
          "base_uri": "https://localhost:8080/",
          "height": 47
        },
        "id": "M4-OKXD5SpZG",
        "outputId": "c02bd061-42db-4832-8ec8-7ec40f16ab69"
      },
      "source": [
        "users_with_enough_interactions_df[users_with_enough_interactions_df['UserId']=='A27TKCMDYFCFOY']"
      ],
      "execution_count": 21,
      "outputs": [
        {
          "output_type": "execute_result",
          "data": {
            "text/html": [
              "<div>\n",
              "<style scoped>\n",
              "    .dataframe tbody tr th:only-of-type {\n",
              "        vertical-align: middle;\n",
              "    }\n",
              "\n",
              "    .dataframe tbody tr th {\n",
              "        vertical-align: top;\n",
              "    }\n",
              "\n",
              "    .dataframe thead th {\n",
              "        text-align: right;\n",
              "    }\n",
              "</style>\n",
              "<table border=\"1\" class=\"dataframe\">\n",
              "  <thead>\n",
              "    <tr style=\"text-align: right;\">\n",
              "      <th></th>\n",
              "      <th>UserId</th>\n",
              "    </tr>\n",
              "  </thead>\n",
              "  <tbody>\n",
              "  </tbody>\n",
              "</table>\n",
              "</div>"
            ],
            "text/plain": [
              "Empty DataFrame\n",
              "Columns: [UserId]\n",
              "Index: []"
            ]
          },
          "metadata": {
            "tags": []
          },
          "execution_count": 21
        }
      ]
    },
    {
      "cell_type": "code",
      "metadata": {
        "colab": {
          "base_uri": "https://localhost:8080/"
        },
        "id": "v2RiyrpiS6gA",
        "outputId": "cbb59b77-c492-42f2-a5a1-c90e524f8d13"
      },
      "source": [
        "print('# of interactions: %d' % len(df))\r\n",
        "interactions_from_selected_users_df = df.merge(users_with_enough_interactions_df, \r\n",
        "               how = 'right',\r\n",
        "               left_on = 'UserId',\r\n",
        "               right_on = 'UserId')\r\n",
        "print('# of interactions from users with at least 5 interactions: %d' % len(interactions_from_selected_users_df))"
      ],
      "execution_count": 23,
      "outputs": [
        {
          "output_type": "stream",
          "text": [
            "# of interactions: 2023070\n",
            "# of interactions from users with at least 5 interactions: 469771\n"
          ],
          "name": "stdout"
        }
      ]
    },
    {
      "cell_type": "code",
      "metadata": {
        "colab": {
          "base_uri": "https://localhost:8080/",
          "height": 335
        },
        "id": "oUIzU0u9TlYB",
        "outputId": "dc5bc3ad-cc52-44cb-ebd7-a31c4805acec"
      },
      "source": [
        "interactions_from_selected_users_df.head(10)"
      ],
      "execution_count": 24,
      "outputs": [
        {
          "output_type": "execute_result",
          "data": {
            "text/html": [
              "<div>\n",
              "<style scoped>\n",
              "    .dataframe tbody tr th:only-of-type {\n",
              "        vertical-align: middle;\n",
              "    }\n",
              "\n",
              "    .dataframe tbody tr th {\n",
              "        vertical-align: top;\n",
              "    }\n",
              "\n",
              "    .dataframe thead th {\n",
              "        text-align: right;\n",
              "    }\n",
              "</style>\n",
              "<table border=\"1\" class=\"dataframe\">\n",
              "  <thead>\n",
              "    <tr style=\"text-align: right;\">\n",
              "      <th></th>\n",
              "      <th>UserId</th>\n",
              "      <th>ProductId</th>\n",
              "      <th>Rating</th>\n",
              "      <th>Timestamp</th>\n",
              "    </tr>\n",
              "  </thead>\n",
              "  <tbody>\n",
              "    <tr>\n",
              "      <th>0</th>\n",
              "      <td>A00414041RD0BXM6WK0GX</td>\n",
              "      <td>B007IY97U0</td>\n",
              "      <td>3.0</td>\n",
              "      <td>1405296000</td>\n",
              "    </tr>\n",
              "    <tr>\n",
              "      <th>1</th>\n",
              "      <td>A00414041RD0BXM6WK0GX</td>\n",
              "      <td>B00870XLDS</td>\n",
              "      <td>2.0</td>\n",
              "      <td>1405296000</td>\n",
              "    </tr>\n",
              "    <tr>\n",
              "      <th>2</th>\n",
              "      <td>A00414041RD0BXM6WK0GX</td>\n",
              "      <td>B008MIRO88</td>\n",
              "      <td>1.0</td>\n",
              "      <td>1405296000</td>\n",
              "    </tr>\n",
              "    <tr>\n",
              "      <th>3</th>\n",
              "      <td>A00414041RD0BXM6WK0GX</td>\n",
              "      <td>B00BQYYMN0</td>\n",
              "      <td>3.0</td>\n",
              "      <td>1405296000</td>\n",
              "    </tr>\n",
              "    <tr>\n",
              "      <th>4</th>\n",
              "      <td>A00414041RD0BXM6WK0GX</td>\n",
              "      <td>B00GRTQBTM</td>\n",
              "      <td>5.0</td>\n",
              "      <td>1405296000</td>\n",
              "    </tr>\n",
              "    <tr>\n",
              "      <th>5</th>\n",
              "      <td>A00414041RD0BXM6WK0GX</td>\n",
              "      <td>B00HFP4JZU</td>\n",
              "      <td>5.0</td>\n",
              "      <td>1405296000</td>\n",
              "    </tr>\n",
              "    <tr>\n",
              "      <th>6</th>\n",
              "      <td>A00414041RD0BXM6WK0GX</td>\n",
              "      <td>B00JM8Z52O</td>\n",
              "      <td>4.0</td>\n",
              "      <td>1405296000</td>\n",
              "    </tr>\n",
              "    <tr>\n",
              "      <th>7</th>\n",
              "      <td>A00473363TJ8YSZ3YAGG9</td>\n",
              "      <td>B000052YQU</td>\n",
              "      <td>2.0</td>\n",
              "      <td>1402790400</td>\n",
              "    </tr>\n",
              "    <tr>\n",
              "      <th>8</th>\n",
              "      <td>A00473363TJ8YSZ3YAGG9</td>\n",
              "      <td>B00016XA0K</td>\n",
              "      <td>3.0</td>\n",
              "      <td>1399593600</td>\n",
              "    </tr>\n",
              "    <tr>\n",
              "      <th>9</th>\n",
              "      <td>A00473363TJ8YSZ3YAGG9</td>\n",
              "      <td>B000FABN7E</td>\n",
              "      <td>5.0</td>\n",
              "      <td>1357430400</td>\n",
              "    </tr>\n",
              "  </tbody>\n",
              "</table>\n",
              "</div>"
            ],
            "text/plain": [
              "                  UserId   ProductId  Rating   Timestamp\n",
              "0  A00414041RD0BXM6WK0GX  B007IY97U0     3.0  1405296000\n",
              "1  A00414041RD0BXM6WK0GX  B00870XLDS     2.0  1405296000\n",
              "2  A00414041RD0BXM6WK0GX  B008MIRO88     1.0  1405296000\n",
              "3  A00414041RD0BXM6WK0GX  B00BQYYMN0     3.0  1405296000\n",
              "4  A00414041RD0BXM6WK0GX  B00GRTQBTM     5.0  1405296000\n",
              "5  A00414041RD0BXM6WK0GX  B00HFP4JZU     5.0  1405296000\n",
              "6  A00414041RD0BXM6WK0GX  B00JM8Z52O     4.0  1405296000\n",
              "7  A00473363TJ8YSZ3YAGG9  B000052YQU     2.0  1402790400\n",
              "8  A00473363TJ8YSZ3YAGG9  B00016XA0K     3.0  1399593600\n",
              "9  A00473363TJ8YSZ3YAGG9  B000FABN7E     5.0  1357430400"
            ]
          },
          "metadata": {
            "tags": []
          },
          "execution_count": 24
        }
      ]
    },
    {
      "cell_type": "code",
      "metadata": {
        "colab": {
          "base_uri": "https://localhost:8080/",
          "height": 47
        },
        "id": "cOlCax5nTze_",
        "outputId": "e6519eb1-c73b-41e2-aec3-97bd8541be76"
      },
      "source": [
        "interactions_from_selected_users_df[interactions_from_selected_users_df['UserId']=='A27TKCMDYFCFOY']"
      ],
      "execution_count": 25,
      "outputs": [
        {
          "output_type": "execute_result",
          "data": {
            "text/html": [
              "<div>\n",
              "<style scoped>\n",
              "    .dataframe tbody tr th:only-of-type {\n",
              "        vertical-align: middle;\n",
              "    }\n",
              "\n",
              "    .dataframe tbody tr th {\n",
              "        vertical-align: top;\n",
              "    }\n",
              "\n",
              "    .dataframe thead th {\n",
              "        text-align: right;\n",
              "    }\n",
              "</style>\n",
              "<table border=\"1\" class=\"dataframe\">\n",
              "  <thead>\n",
              "    <tr style=\"text-align: right;\">\n",
              "      <th></th>\n",
              "      <th>UserId</th>\n",
              "      <th>ProductId</th>\n",
              "      <th>Rating</th>\n",
              "      <th>Timestamp</th>\n",
              "    </tr>\n",
              "  </thead>\n",
              "  <tbody>\n",
              "  </tbody>\n",
              "</table>\n",
              "</div>"
            ],
            "text/plain": [
              "Empty DataFrame\n",
              "Columns: [UserId, ProductId, Rating, Timestamp]\n",
              "Index: []"
            ]
          },
          "metadata": {
            "tags": []
          },
          "execution_count": 25
        }
      ]
    },
    {
      "cell_type": "markdown",
      "metadata": {
        "id": "nE0QVO4-VrK8"
      },
      "source": [
        "Train Test split"
      ]
    },
    {
      "cell_type": "code",
      "metadata": {
        "colab": {
          "base_uri": "https://localhost:8080/"
        },
        "id": "6GFAFk71T__c",
        "outputId": "d9d5213b-58c8-4cec-cbcd-dd12382f1514"
      },
      "source": [
        "interactions_train_df, interactions_test_df = train_test_split(interactions_from_selected_users_df,\r\n",
        "                                   stratify=interactions_from_selected_users_df['UserId'], \r\n",
        "                                   test_size=0.20,\r\n",
        "                                   random_state=42)\r\n",
        "\r\n",
        "print('# interactions on Train set: %d' % len(interactions_train_df))\r\n",
        "print('# interactions on Test set: %d' % len(interactions_test_df))"
      ],
      "execution_count": 34,
      "outputs": [
        {
          "output_type": "stream",
          "text": [
            "# interactions on Train set: 375816\n",
            "# interactions on Test set: 93955\n"
          ],
          "name": "stdout"
        }
      ]
    },
    {
      "cell_type": "code",
      "metadata": {
        "id": "bieAUtAUVHVM"
      },
      "source": [
        ""
      ],
      "execution_count": null,
      "outputs": []
    }
  ]
}